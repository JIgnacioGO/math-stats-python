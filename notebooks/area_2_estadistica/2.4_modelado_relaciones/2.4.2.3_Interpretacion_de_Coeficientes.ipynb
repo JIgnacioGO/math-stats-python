{
 "cells": [
  {
   "metadata": {},
   "cell_type": "markdown",
   "source": "# Contenido en desarrollo",
   "id": "2c842f4a593c5df6"
  }
 ],
 "metadata": {},
 "nbformat": 4,
 "nbformat_minor": 5
}
