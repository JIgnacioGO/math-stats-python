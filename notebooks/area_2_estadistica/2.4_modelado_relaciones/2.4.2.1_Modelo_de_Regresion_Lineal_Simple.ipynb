{
 "cells": [
  {
   "metadata": {},
   "cell_type": "markdown",
   "source": "# Contenido en desarrollo",
   "id": "d020b689bf569930"
  }
 ],
 "metadata": {},
 "nbformat": 4,
 "nbformat_minor": 5
}
