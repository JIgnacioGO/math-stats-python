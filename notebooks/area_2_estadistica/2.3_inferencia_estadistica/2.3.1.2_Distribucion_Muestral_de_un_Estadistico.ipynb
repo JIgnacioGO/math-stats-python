{
 "cells": [
  {
   "metadata": {},
   "cell_type": "markdown",
   "source": "# Contenido en desarrollo",
   "id": "c4c2037e359f3eb"
  }
 ],
 "metadata": {},
 "nbformat": 4,
 "nbformat_minor": 5
}
