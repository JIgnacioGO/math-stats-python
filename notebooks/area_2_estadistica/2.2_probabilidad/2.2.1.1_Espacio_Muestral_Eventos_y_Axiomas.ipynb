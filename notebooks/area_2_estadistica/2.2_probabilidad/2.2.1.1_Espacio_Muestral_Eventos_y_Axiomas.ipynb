{
 "cells": [
  {
   "metadata": {},
   "cell_type": "markdown",
   "source": "# Contenido en desarrollo",
   "id": "10f757a8f50c995e"
  }
 ],
 "metadata": {},
 "nbformat": 4,
 "nbformat_minor": 5
}
