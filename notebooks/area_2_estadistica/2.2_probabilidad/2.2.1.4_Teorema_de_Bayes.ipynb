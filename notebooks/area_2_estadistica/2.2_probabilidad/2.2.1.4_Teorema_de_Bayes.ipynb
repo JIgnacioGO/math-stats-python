{
 "cells": [
  {
   "metadata": {},
   "cell_type": "markdown",
   "source": "# Contenido en desarrollo",
   "id": "da975ebd26fa14d6"
  }
 ],
 "metadata": {},
 "nbformat": 4,
 "nbformat_minor": 5
}
