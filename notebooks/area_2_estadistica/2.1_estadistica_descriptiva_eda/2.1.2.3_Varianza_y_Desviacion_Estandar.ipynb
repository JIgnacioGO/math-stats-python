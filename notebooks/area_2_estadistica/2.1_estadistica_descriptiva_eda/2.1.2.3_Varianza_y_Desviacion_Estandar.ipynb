{
 "cells": [
  {
   "metadata": {},
   "cell_type": "markdown",
   "source": "# Contenido en desarrollo",
   "id": "8693ccd6f849a74a"
  }
 ],
 "metadata": {},
 "nbformat": 4,
 "nbformat_minor": 5
}
