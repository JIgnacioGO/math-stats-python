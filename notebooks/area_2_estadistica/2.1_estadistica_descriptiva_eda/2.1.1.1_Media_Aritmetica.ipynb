{
 "cells": [
  {
   "metadata": {},
   "cell_type": "markdown",
   "source": "# Contenido en desarrollo",
   "id": "a96bba0d351ea709"
  }
 ],
 "metadata": {},
 "nbformat": 4,
 "nbformat_minor": 5
}
