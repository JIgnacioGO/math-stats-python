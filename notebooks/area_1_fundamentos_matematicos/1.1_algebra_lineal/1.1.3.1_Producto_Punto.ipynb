{
 "cells": [
  {
   "cell_type": "markdown",
   "metadata": {},
   "source": [
    "# 1.1.3.1: Producto Punto (Dot Product)"
   ]
  },
  {
   "cell_type": "markdown",
   "metadata": {},
   "source": [
    "## Objetivos de Aprendizaje\n",
    "\n",
    "Al completar este notebook, serás capaz de:\n",
    "\n",
    "- **Calcular** el producto punto de dos vectores usando su definición algebraica y su implementación en NumPy.\n",
    "- **Interpretar** el signo (positivo, negativo, cero) del producto punto en términos del ángulo entre los vectores.\n",
    "- **Utilizar** el producto punto para determinar si dos vectores de datos son **ortogonales** (sin relación lineal).\n",
    "- **Aplicar** el producto punto para calcular el **ángulo** y la **proyección** de un vector sobre otro.\n",
    "- **Medir la similitud** entre vectores de datos (e.g., perfiles de clientes o documentos) usando la **Similitud del Coseno**."
   ]
  },
  {
   "cell_type": "code",
   "execution_count": null,
   "metadata": {
    "collapsed": true,
    "jupyter": {
     "source_hidden": true
    }
   },
   "outputs": [],
   "source": [
    "# --- Celda de Configuración (Oculta) ---\n",
    "%display latex\n",
    "import numpy as np\n",
    "import pandas as pd\n",
    "import matplotlib.pyplot as plt\n",
    "\n",
    "def plot_vectors(vectors, colors=None, labels=None, title='Vectores', ax=None):\n",
    "    standalone = ax is None\n",
    "    if standalone:\n",
    "        fig, ax = plt.subplots(figsize=(7, 7))\n",
    "    \n",
    "    if colors is None:\n",
    "        colors = ['#0072B2', '#E69F00', '#D55E00', '#CC79A7', '#56B4E9']\n",
    "        \n",
    "    for i, v in enumerate(vectors):\n",
    "        ax.quiver(0, 0, v[0], v[1], angles='xy', scale_units='xy', scale=1, \n",
    "                  color=colors[i % len(colors)], label=labels[i] if labels and i < len(labels) else f'v{i+1}')\n",
    "\n",
    "    all_points = np.array(vectors)\n",
    "    max_val = np.max(np.abs(all_points)) * 1.2\n",
    "    if max_val == 0: max_val=1\n",
    "    ax.set_xlim([-max_val, max_val])\n",
    "    ax.set_ylim([-max_val, max_val])\n",
    "    ax.set_aspect('equal')\n",
    "    ax.grid(True, linestyle='--')\n",
    "    ax.axhline(0, color='black', lw=0.5)\n",
    "    ax.axvline(0, color='black', lw=0.5)\n",
    "    ax.set_title(title)\n",
    "    ax.legend()\n",
    "    if standalone:\n",
    "        plt.show()"
   ]
  },
  {
   "cell_type": "markdown",
   "metadata": {},
   "source": [
    "--- \n",
    "## ⚙️ El Arsenal de Datasets: Nuestra Fuente de Ejercicios\n",
    "\n",
    "El producto punto es una herramienta para medir relaciones entre vectores. Por lo tanto, usaremos nuestros generadores para crear pares o grupos de vectores con relaciones interesantes que podamos descubrir y cuantificar."
   ]
  },
  {
   "cell_type": "code",
   "execution_count": null,
   "metadata": {},
   "outputs": [],
   "source": [
    "# === CONFIGURACIÓN DE DATASETS ===\n",
    "from src.data_generation.create_student_performance import create_student_performance_data\n",
    "from src.data_generation.create_business_data import create_business_data\n",
    "from src.data_generation.create_special_matrices import create_special_matrices\n",
    "\n",
    "# Configuración centralizada de aleatoriedad para REPRODUCIBILIDAD\n",
    "rng = np.random.default_rng(seed=42)\n",
    "\n",
    "# === Generación de Datasets y Vectores para este Notebook ===\n",
    "\n",
    "# 💡 CONTEXTO PEDAGÓGICO: Hilo Conductor (Perfiles de Estudiantes)\n",
    "# Usaremos los vectores de estudiantes para medir similitud. ¿Dos estudiantes tienen un perfil\n",
    "# de [horas, calificación] similar, incluso si sus valores absolutos son diferentes?\n",
    "datos_estudiantes = create_student_performance_data(rng, simplified=True, n_samples=50)\n",
    "\n",
    "# 💡 CONTEXTO PEDAGÓGICO: Perfiles de Negocio para Similitud\n",
    "# Un caso de uso clásico es encontrar productos similares. Generaremos un dataset\n",
    "# de negocio para practicar el cálculo de la similitud del coseno entre perfiles de productos.\n",
    "datos_negocio = create_business_data(rng, n_samples=20)\n",
    "\n",
    "# 💡 CONTEXTO PEDAGÓGICO: Vectores para Proyecciones y Ángulos\n",
    "# Para los ejemplos geométricos puros, definiremos vectores explícitamente para tener control total.\n",
    "vec_a = np.array([4, 1])\n",
    "vec_b = np.array([2, 3])\n",
    "vec_ortogonal_a_b = np.array([-3, 2])\n",
    "\n",
    "print(\"Datasets y vectores generados y listos para usar.\")"
   ]
  },
  {
   "cell_type": "markdown",
   "metadata": {},
   "source": [
    "## 1. Definición y Significado del Producto Punto\n",
    "\n",
    "El producto punto (o producto escalar) es una operación entre dos vectores de la misma dimensión que resulta en un **único número (un escalar)**. Tiene dos definiciones equivalentes que nos dan el \"cómo\" computacional y el \"qué significa\" geométrico."
   ]
  },
  {
   "cell_type": "markdown",
   "metadata": {},
   "source": [
    "### Definición Algebraica (El \"Cómo\")\n",
    "\n",
    "Se calcula multiplicando los componentes correspondientes de los vectores y sumando los resultados.\n",
    "$$ \\vec{v} \\cdot \\vec{w} = v_1w_1 + v_2w_2 + \\dots + v_nw_n = \\sum_{i=1}^{n} v_i w_i = \\vec{v}^T \\vec{w}$$\n",
    "\n",
    "> **Aplicación en Data Science:** Esta operación es el núcleo de la mayoría de los modelos lineales y redes neuronales. La predicción de un modelo a menudo es una suma ponderada, que es exactamente un producto punto: `predicción = vector_de_features · vector_de_pesos`."
   ]
  },
  {
   "cell_type": "markdown",
   "metadata": {},
   "source": [
    "### Interpretación Geométrica (El \"Qué Significa\")\n",
    "\n",
    "La segunda definición lo conecta directamente con la geometría, revelando su verdadero propósito:\n",
    "$$ \\vec{v} \\cdot \\vec{w} = \\|\\vec{v}\\| \\|\\vec{w}\\| \\cos(\\theta) $$\n",
    "donde $\\theta$ es el ángulo entre los vectores.\n",
    "\n",
    "**La Gran Intuición:** El producto punto mide el **grado de alineación** entre dos vectores, escalado por sus magnitudes.\n",
    "- **$\\vec{v} \\cdot \\vec{w} > 0$**: Ángulo agudo ($< 90^\\circ$). Apuntan en direcciones generales similares.\n",
    "- **$\\vec{v} \\cdot \\vec{w} = 0$**: Ángulo recto ($= 90^\\circ$). Son **ortogonales** (perpendiculares).\n",
    "- **$\\vec{v} \\cdot \\vec{w} < 0$**: Ángulo obtuso ($> 90^\\circ$). Apuntan en direcciones opuestas."
   ]
  },
  {
   "cell_type": "markdown",
   "metadata": {},
   "source": [
    "### Ejemplo Demostrativo 1: Cálculo e Interpretación del Signo"
   ]
  },
  {
   "cell_type": "code",
   "execution_count": null,
   "metadata": {},
   "outputs": [],
   "source": [
    "# 1. DATOS: Un vector de referencia 'v' y otros tres vectores con diferentes alineaciones.\n",
    "v = np.array([3, 1])\n",
    "w_agudo = np.array([2, 2])    # Apunta en una dirección similar\n",
    "w_ortogonal = np.array([-1, 3]) # Perpendicular\n",
    "w_obtuso = np.array([-2, 1])   # Apunta en una dirección opuesta\n",
    "\n",
    "# 2. APLICACIÓN: Calculamos el producto punto con el operador @ de NumPy\n",
    "dot_agudo = v @ w_agudo\n",
    "dot_ortogonal = v @ w_ortogonal\n",
    "dot_obtuso = v @ w_obtuso\n",
    "\n",
    "# 3. INTERPRETACIÓN\n",
    "print(f\"v · w_agudo     = {dot_agudo} (> 0, el ángulo es agudo)\")\n",
    "print(f\"v · w_ortogonal = {dot_ortogonal} (= 0, el ángulo es recto -> Ortogonales)\")\n",
    "print(f\"v · w_obtuso    = {dot_obtuso} (< 0, el ángulo es obtuso)\")\n",
    "\n",
    "# 4. VISUALIZACIÓN\n",
    "plot_vectors([v, w_agudo, w_ortogonal, w_obtuso], \n",
    "             labels=['v', 'w_agudo', 'w_ortogonal', 'w_obtuso'],\n",
    "             title='Interpretando el Signo del Producto Punto')"
   ]
  },
  {
   "cell_type": "markdown",
   "metadata": {},
   "source": [
    "## 2. Aplicaciones Clave: Ángulos, Proyecciones y Similitud"
   ]
  },
  {
   "cell_type": "markdown",
   "metadata": {},
   "source": [
    "### A. Similitud del Coseno\n",
    "Si reordenamos la fórmula geométrica, obtenemos una medida pura de alineación, independiente de las magnitudes de los vectores. Esta es la **similitud del coseno**, una métrica fundamental en Procesamiento del Lenguaje Natural (NLP) y Sistemas de Recomendación.\n",
    "$$ \\text{sim}(\\vec{v}, \\vec{w}) = \\cos(\\theta) = \\frac{\\vec{v} \\cdot \\vec{w}}{\\|\\vec{v}\\| \\|\\vec{w}\\|} $$\n",
    "Su valor va de -1 (perfectamente opuestos) a 1 (perfectamente alineados), con 0 significando ortogonales (sin similitud)."
   ]
  },
  {
   "cell_type": "markdown",
   "metadata": {},
   "source": [
    "### Ejemplo Demostrativo 2: Similitud entre Perfiles de Productos"
   ]
  },
  {
   "cell_type": "code",
   "execution_count": null,
   "metadata": {},
   "outputs": [],
   "source": [
    "# 1. DATOS: Perfiles de 3 productos de nuestro dataset de negocio. \n",
    "# Cada perfil es un vector [precio, gasto_marketing, calificacion_cliente]\n",
    "perfiles = datos_negocio[['precio', 'gasto_marketing', 'calificacion_cliente']].values\n",
    "prod_A = perfiles[0]\n",
    "prod_B = perfiles[1]\n",
    "prod_C = perfiles[2]\n",
    "\n",
    "# 2. APLICACIÓN: Calculamos la similitud del coseno entre A y los otros.\n",
    "def cosine_similarity(v, w):\n",
    "    dot_product = np.dot(v, w)\n",
    "    norm_v = np.linalg.norm(v)\n",
    "    norm_w = np.linalg.norm(w)\n",
    "    return dot_product / (norm_v * norm_w)\n",
    "\n",
    "sim_AB = cosine_similarity(prod_A, prod_B)\n",
    "sim_AC = cosine_similarity(prod_A, prod_C)\n",
    "\n",
    "# 3. INTERPRETACIÓN\n",
    "print(f\"Perfil Producto A: {np.round(prod_A, 2)}\")\n",
    "print(f\"Perfil Producto B: {np.round(prod_B, 2)}\")\n",
    "print(f\"Perfil Producto C: {np.round(prod_C, 2)}\")\n",
    "print(f\"\\nSimilitud(A, B) = {sim_AB:.3f}\")\n",
    "print(f\"Similitud(A, C) = {sim_AC:.3f}\")\n",
    "print(\"\\nConclusión: El producto A es mucho más similar en 'perfil' al producto B que al C.\")"
   ]
  },
  {
   "cell_type": "markdown",
   "metadata": {},
   "source": [
    "### B. Proyección Vectorial\n",
    "La proyección de $\\vec{v}$ sobre $\\vec{w}$ (denotada $\\text{proj}_{\\vec{w}}(\\vec{v})$) es la \"sombra\" que $\\vec{v}$ proyecta sobre la línea definida por $\\vec{w}$. Se calcula en dos pasos:\n",
    "\n",
    "1.  **Calcular la longitud de la sombra (componente escalar):** $c = \\frac{\\vec{v} \\cdot \\vec{w}}{\\|\\vec{w}\\|^2}$\n",
    "2.  **Convertir esa longitud en un vector:** $\\text{proj}_{\\vec{w}}(\\vec{v}) = c \\cdot \\vec{w}$\n",
    "\n",
    "> **Aplicación en Data Science:** La Proyección es la base de la **Regresión por Mínimos Cuadrados (OLS)**. El vector de predicciones $\\hat{y}$ es la proyección del vector de valores reales $y$ sobre el espacio generado por las columnas (features) de la matriz de datos $X$."
   ]
  },
  {
   "cell_type": "markdown",
   "metadata": {},
   "source": [
    "### Ejemplo Demostrativo 3: Proyección Geométrica Pura"
   ]
  },
  {
   "cell_type": "code",
   "execution_count": null,
   "metadata": {},
   "outputs": [],
   "source": [
    "# 1. DATOS: Vectores definidos para la demostración\n",
    "v = np.array([2, 3])\n",
    "w = np.array([4, 1])\n",
    "\n",
    "# 2. APLICACIÓN: Calculamos la proyección de v sobre w.\n",
    "componente_escalar = (v @ w) / (w @ w) # Usamos v@v = ||v||^2\n",
    "proyeccion_vectorial = componente_escalar * w\n",
    "\n",
    "# 3. INTERPRETACIÓN Y VISUALIZACIÓN\n",
    "print(f\"Vector v = {v}\")\n",
    "print(f\"Vector w = {w}\")\n",
    "print(f\"La 'sombra' de v sobre w tiene una longitud relativa de {componente_escalar:.2f} veces w.\")\n",
    "print(f\"El vector de proyección es {np.round(proyeccion_vectorial, 2)}.\")\n",
    "\n",
    "fig, ax = plt.subplots(figsize=(8, 8))\n",
    "ax.plot([v[0], proyeccion_vectorial[0]], [v[1], proyeccion_vectorial[1]], 'r--', label='Componente Ortogonal')\n",
    "plot_vectors([v, w, proyeccion_vectorial], \n",
    "             labels=['v', 'w', 'Proyección de v sobre w'], \n",
    "             title='Visualización de Proyección Vectorial',\n",
    "             ax=ax)"
   ]
  },
  {
   "cell_type": "markdown",
   "metadata": {},
   "source": [
    "---\n",
    "## 4. Ejercicios Guiados con Scaffolding (8+)\n",
    "Rellena las partes marcadas con `# COMPLETAR` para afianzar tu comprensión."
   ]
  },
  {
   "cell_type": "markdown",
   "metadata": {},
   "source": [
    "### === EJERCICIO GUIADO 1: Cálculo Básico e Interpretación del Signo ==="
   ]
  },
  {
   "cell_type": "code",
   "execution_count": null,
   "metadata": {},
   "outputs": [],
   "source": [
    "# DATOS\n",
    "a = np.array([4, -2])\n",
    "b = np.array([1, 2])\n",
    "\n",
    "# TODO 1: Calcula el producto punto de a y b.\n",
    "# PISTA: Usa el operador '@' de NumPy.\n",
    "producto_punto = # COMPLETAR\n",
    "\n",
    "# TODO 2: Basado en el signo del resultado, ¿qué tipo de ángulo hay entre a y b?\n",
    "interpretacion = \"\" # Escribe 'agudo', 'recto' u 'obtuso'\n",
    "# COMPLETAR\n",
    "\n",
    "# VERIFICACIÓN\n",
    "assert producto_punto == 0, \"El cálculo es incorrecto.\"\n",
    "assert interpretacion == \"recto\", \"La interpretación es incorrecta.\"\n",
    "print(\"✅ ¡Correcto! El producto punto es 0, lo que significa que los vectores son ortogonales (ángulo recto).\")\n",
    "plot_vectors([a, b], labels=['a', 'b'])"
   ]
  },
  {
   "cell_type": "markdown",
   "metadata": {},
   "source": [
    "### === EJERCICIO GUIADO 2: Encontrar un Vector Ortogonal ===\n"
   ]
  },
  {
   "cell_type": "code",
   "execution_count": null,
   "metadata": {},
   "outputs": [],
   "source": [
    "# DATOS\n",
    "v = np.array([5, 2])\n",
    "\n",
    "# Queremos encontrar un vector w = [x, y] tal que v · w = 0.\n",
    "# Esto nos da la ecuación 5x + 2y = 0.\n",
    "\n",
    "# TODO 1: Encuentra un par de valores (x, y) no nulos que satisfagan la ecuación.\n",
    "# PISTA: Un truco fácil en 2D es intercambiar los componentes y cambiar el signo de uno: [y, -x] o [-y, x].\n",
    "w = # COMPLETAR\n",
    "\n",
    "# VERIFICACIÓN\n",
    "assert v @ w == 0, \"El producto punto no es cero. Los vectores no son ortogonales.\"\n",
    "print(f\"✅ ¡Correcto! El vector {w} es ortogonal a {v}.\")\n",
    "plot_vectors([v, w], labels=['v', 'w'])"
   ]
  },
  {
   "cell_type": "markdown",
   "metadata": {},
   "source": [
    "### === EJERCICIO GUIADO 3: Calcular el Ángulo entre Vectores ===\n"
   ]
  },
  {
   "cell_type": "code",
   "execution_count": null,
   "metadata": {},
   "outputs": [],
   "source": [
    "# DATOS\n",
    "v_estudiante_A = datos_estudiantes.iloc[5].values # Vector del estudiante A\n",
    "v_estudiante_B = datos_estudiantes.iloc[10].values # Vector del estudiante B\n",
    "\n",
    "# TODO 1: Calcula el producto punto de los dos vectores.\n",
    "dot_product = # COMPLETAR\n",
    "\n",
    "# TODO 2: Calcula la norma (magnitud) de cada vector.\n",
    "norm_A = # COMPLETAR\n",
    "norm_B = # COMPLETAR\n",
    "\n",
    "# TODO 3: Calcula el coseno del ángulo usando la fórmula.\n",
    "cos_theta = # COMPLETAR\n",
    "\n",
    "# TODO 4: Calcula el ángulo en grados.\n",
    "# PISTA: Usa np.arccos() y np.rad2deg().\n",
    "angulo_grados = # COMPLETAR\n",
    "\n",
    "# VERIFICACIÓN\n",
    "assert 0 <= cos_theta <= 1, \"El coseno debería estar entre 0 y 1 para estos datos.\"\n",
    "print(f\"✅ ¡Cálculo correcto! El ángulo entre los perfiles de los estudiantes es de {angulo_grados:.2f} grados.\")"
   ]
  },
  {
   "cell_type": "markdown",
   "metadata": {},
   "source": [
    "### === EJERCICIO GUIADO 4: Calcular Similitud del Coseno ==="
   ]
  },
  {
   "cell_type": "code",
   "execution_count": null,
   "metadata": {},
   "outputs": [],
   "source": [
    "# DATOS: Los mismos vectores de estudiante del ejercicio anterior.\n",
    "v_estudiante_A = datos_estudiantes.iloc[5].values\n",
    "v_estudiante_B = datos_estudiantes.iloc[10].values\n",
    "\n",
    "# La similitud del coseno es simplemente el coseno del ángulo que ya calculaste.\n",
    "\n",
    "# TODO: Calcula la similitud del coseno usando la fórmula completa en una línea.\n",
    "similitud = # COMPLETAR\n",
    "\n",
    "# VERIFICACIÓN\n",
    "cos_theta_manual = (v_estudiante_A @ v_estudiante_B) / (np.linalg.norm(v_estudiante_A) * np.linalg.norm(v_estudiante_B))\n",
    "assert np.isclose(similitud, cos_theta_manual)\n",
    "print(f\"✅ ¡Correcto! La similitud del coseno entre los estudiantes es {similitud:.3f}.\")\n",
    "print(\"Interpretación: Un valor cercano a 1 indica que los perfiles son muy similares.\")"
   ]
  },
  {
   "cell_type": "markdown",
   "metadata": {},
   "source": [
    "### === EJERCICIO GUIADO 5: Calcular la Proyección Vectorial ==="
   ]
  },
  {
   "cell_type": "code",
   "execution_count": null,
   "metadata": {},
   "outputs": [],
   "source": [
    "# DATOS\n",
    "v_datos = np.array([3, 5])\n",
    "v_eje = np.array([1, 1]) # El eje sobre el cual proyectamos (línea y=x)\n",
    "\n",
    "# TODO 1: Calcula el componente escalar (la longitud de la sombra).\n",
    "# PISTA: (v_datos · v_eje) / (v_eje · v_eje)\n",
    "comp_escalar = # COMPLETAR\n",
    "\n",
    "# TODO 2: Calcula el vector de proyección multiplicando el componente escalar por el vector del eje.\n",
    "proyeccion = # COMPLETAR\n",
    "\n",
    "# VERIFICACIÓN\n",
    "assert np.isclose(comp_escalar, 4.0)\n",
    "assert np.allclose(proyeccion, np.array([4, 4]))\n",
    "print(\"✅ ¡Proyección calculada correctamente!\")\n",
    "plot_vectors([v_datos, v_eje, proyeccion], labels=['Datos', 'Eje', 'Proyección'])"
   ]
  },
  {
   "cell_type": "markdown",
   "metadata": {},
   "source": [
    "--- \n",
    "# 5. Banco de Ejercicios Prácticos (30+)\n",
    "Ahora te toca a ti. Resuelve estos ejercicios para consolidar tu conocimiento."
   ]
  },
  {
   "cell_type": "markdown",
   "metadata": {},
   "source": [
    "### Parte A: Cálculo e Interpretación"
   ]
  },
  {
   "cell_type": "markdown",
   "metadata": {},
   "source": [
    "**A1 (🟢 Fácil):** Calcula el producto punto de $\\vec{u}=[3, -1, 4]$ y $\\vec{v}=[2, 5, -1]$."
   ]
  },
  {
   "cell_type": "code",
   "execution_count": null,
   "metadata": {},
   "outputs": [],
   "source": []
  },
  {
   "cell_type": "markdown",
   "metadata": {},
   "source": [
    "**A2 (🟢 Fácil):** Sin calcular el ángulo, determina si el ángulo entre $\\vec{a}=[5,2]$ y $\\vec{b}=[-1,3]$ es agudo, recto u obtuso."
   ]
  },
  {
   "cell_type": "code",
   "execution_count": null,
   "metadata": {},
   "outputs": [],
   "source": []
  },
  {
   "cell_type": "markdown",
   "metadata": {},
   "source": [
    "**A3 (🟢 Fácil):** Haz lo mismo para $\\vec{c}=[-2, -3]$ y $\\vec{d}=[1, -5]$."
   ]
  },
  {
   "cell_type": "code",
   "execution_count": null,
   "metadata": {},
   "outputs": [],
   "source": []
  },
  {
   "cell_type": "markdown",
   "metadata": {},
   "source": [
    "**A4 (🟡 Medio):** ¿Qué resultado da el producto punto de un vector consigo mismo, $\\vec{v} \\cdot \\vec{v}$? ¿Con qué otra medida que ya conoces se relaciona?"
   ]
  },
  {
   "cell_type": "code",
   "execution_count": null,
   "metadata": {},
   "outputs": [],
   "source": []
  },
  {
   "cell_type": "markdown",
   "metadata": {},
   "source": [
    "**A5 (🟡 Medio):** Si $\\vec{u} \\cdot \\vec{v} = -15$, $\\|\\vec{u}\\|=5$ y $\\|\\vec{v}\\|=4$, ¿cuál es el coseno del ángulo entre ellos?"
   ]
  },
  {
   "cell_type": "code",
   "execution_count": null,
   "metadata": {},
   "outputs": [],
   "source": []
  },
  {
   "cell_type": "markdown",
   "metadata": {},
   "source": [
    "**A6 (🔴 Reto):** Demuestra la propiedad distributiva: $\\vec{u} \\cdot (\\vec{v} + \\vec{w}) = (\\vec{u} \\cdot \\vec{v}) + (\\vec{u} \\cdot \\vec{w})$ usando tres vectores 3D aleatorios."
   ]
  },
  {
   "cell_type": "code",
   "execution_count": null,
   "metadata": {},
   "outputs": [],
   "source": []
  },
  {
   "cell_type": "markdown",
   "metadata": {},
   "source": [
    "### Parte B: Ortogonalidad"
   ]
  },
  {
   "cell_type": "markdown",
   "metadata": {},
   "source": [
    "**B1 (🟢 Fácil):** Verifica si los vectores $\\vec{a}=[6, -2]$ y $\\vec{b}=[1, 3]$ son ortogonales."
   ]
  },
  {
   "cell_type": "code",
   "execution_count": null,
   "metadata": {},
   "outputs": [],
   "source": []
  },
  {
   "cell_type": "markdown",
   "metadata": {},
   "source": [
    "**B2 (🟢 Fácil):** ¿Son ortogonales los vectores de la base canónica $\\vec{i}=[1,0,0]$ y $\\vec{j}=[0,1,0]$?"
   ]
  },
  {
   "cell_type": "code",
   "execution_count": null,
   "metadata": {},
   "outputs": [],
   "source": []
  },
  {
   "cell_type": "markdown",
   "metadata": {},
   "source": [
    "**B3 (🟡 Medio):** Encuentra un valor para $k$ tal que el vector $\\vec{u}=[2, k, 1]$ sea ortogonal a $\\vec{v}=[4, 1, -3]$."
   ]
  },
  {
   "cell_type": "code",
   "execution_count": null,
   "metadata": {},
   "outputs": [],
   "source": []
  },
  {
   "cell_type": "markdown",
   "metadata": {},
   "source": [
    "**B4 (🟡 Medio):** Encuentra un vector 2D que sea ortogonal al vector del primer estudiante en `datos_estudiantes`."
   ]
  },
  {
   "cell_type": "code",
   "execution_count": null,
   "metadata": {},
   "outputs": [],
   "source": []
  },
  {
   "cell_type": "markdown",
   "metadata": {},
   "source": [
    "**B5 (🔴 Reto):** Encuentra un vector $\\vec{w}$ que sea ortogonal a la vez a $\\vec{u}=[1,1,1]$ y a $\\vec{v}=[1,2,3]$. (Pista: esto te dará un sistema de dos ecuaciones con tres incógnitas)."
   ]
  },
  {
   "cell_type": "code",
   "execution_count": null,
   "metadata": {},
   "outputs": [],
   "source": []
  },
  {
   "cell_type": "markdown",
   "metadata": {},
   "source": [
    "### Parte C: Ángulos y Similitud del Coseno"
   ]
  },
  {
   "cell_type": "markdown",
   "metadata": {},
   "source": [
    "**C1 (🟢 Fácil):** Calcula el ángulo (en grados) entre $\\vec{a}=[1,1]$ y $\\vec{b}=[0, 2]$."
   ]
  },
  {
   "cell_type": "code",
   "execution_count": null,
   "metadata": {},
   "outputs": [],
   "source": []
  },
  {
   "cell_type": "markdown",
   "metadata": {},
   "source": [
    "**C2 (🟡 Medio):** Calcula el ángulo entre los vectores $\\vec{u}=[1, 2, 3]$ y $\\vec{v}=[4, 5, 6]$."
   ]
  },
  {
   "cell_type": "code",
   "execution_count": null,
   "metadata": {},
   "outputs": [],
   "source": []
  },
  {
   "cell_type": "markdown",
   "metadata": {},
   "source": [
    "**C3 (🟡 Medio):** Usando `datos_negocio`, toma los perfiles de los productos en los índices 3 y 4. Calcula la similitud del coseno entre ellos."
   ]
  },
  {
   "cell_type": "code",
   "execution_count": null,
   "metadata": {},
   "outputs": [],
   "source": []
  },
  {
   "cell_type": "markdown",
   "metadata": {},
   "source": [
    "**C4 (🔴 Reto):** Encuentra al estudiante en `datos_estudiantes` cuyo perfil es más similar al perfil del estudiante en el índice 0, usando la similitud del coseno. (Pista: itera sobre todos los demás estudiantes y quédate con el que dé la similitud más alta)."
   ]
  },
  {
   "cell_type": "code",
   "execution_count": null,
   "metadata": {},
   "outputs": [],
   "source": []
  },
  {
   "cell_type": "markdown",
   "metadata": {},
   "source": [
    "### Parte D: Proyecciones"
   ]
  },
  {
   "cell_type": "markdown",
   "metadata": {},
   "source": [
    "**D1 (🟢 Fácil):** Calcula la proyección de $\\vec{v}=[5, 1]$ sobre $\\vec{w}=[3, 0]$ (el eje x)."
   ]
  },
  {
   "cell_type": "code",
   "execution_count": null,
   "metadata": {},
   "outputs": [],
   "source": []
  },
  {
   "cell_type": "markdown",
   "metadata": {},
   "source": [
    "**D2 (🟡 Medio):** Calcula la proyección de $\\vec{v}=[-1, 3]$ sobre $\\vec{w}=[2, 2]$ y visualiza los tres vectores."
   ]
  },
  {
   "cell_type": "code",
   "execution_count": null,
   "metadata": {},
   "outputs": [],
   "source": []
  },
  {
   "cell_type": "markdown",
   "metadata": {},
   "source": [
    "**D3 (🟡 Medio):** Define un \"vector de mercado\" $\\vec{m}=[100, 50]$ para `datos_negocio`. Proyecta el perfil del producto en el índice 8 sobre este vector de mercado."
   ]
  },
  {
   "cell_type": "code",
   "execution_count": null,
   "metadata": {},
   "outputs": [],
   "source": []
  },
  {
   "cell_type": "markdown",
   "metadata": {},
   "source": [
    "**D4 (🔴 Reto):** El vector $\\vec{v}_{\\perp} = \\vec{v} - \\text{proj}_{\\vec{w}}(\\vec{v})$ es el componente de $\\vec{v}$ que es ortogonal a $\\vec{w}$. Calcula este vector para $\\vec{v}=[2,3]$ y $\\vec{w}=[4,1]$ y verifica que $\\vec{v}_{\\perp} \\cdot \\vec{w}$ es (casi) cero."
   ]
  },
  {
   "cell_type": "code",
   "execution_count": null,
   "metadata": {},
   "outputs": [],
   "source": []
  },
  {
   "cell_type": "markdown",
   "metadata": {},
   "source": [
    "---"
   ]
  },
  {
   "cell_type": "markdown",
   "metadata": {},
   "source": [
    "## ✅ Mini-Quiz de Autoevaluación\n",
    "\n",
    "1. ¿Cuál es el tipo de dato del resultado de un producto punto? (Vector, escalar, matriz, etc.)\n",
    "2. ¿Cuál es el valor del producto punto de dos vectores no nulos si y solo si son ortogonales?\n",
    "3. Si la similitud del coseno entre dos vectores es -1, ¿qué puedes decir de ellos?\n",
    "4. ¿Es el producto punto una operación conmutativa? Es decir, ¿es $\\vec{u} \\cdot \\vec{v}$ siempre igual a $\\vec{v} \\cdot \\vec{u}$?\n",
    "5. La proyección de $\\vec{v}$ sobre $\\vec{w}$, ¿tiene la misma dirección que $\\vec{v}$ o que $\\vec{w}$?"
   ]
  },
  {
   "cell_type": "markdown",
   "metadata": {},
   "source": [
    "## 🚀 Próximos Pasos\n",
    "\n",
    "¡Felicidades! Has dominado una de las operaciones más versátiles y fundamentales del álgebra lineal.\n",
    "\n",
    "- En el notebook **`1.1.3.2_Determinante_y_Eigenvalores`**, exploraremos propiedades intrínsecas de las matrices cuadradas. El determinante nos dirá cómo una transformación escala áreas/volúmenes, y los eigenvalores/eigenvectores nos revelarán los ejes de transformación preferidos de una matriz, la base de algoritmos como PCA."
   ]
  }
 ],
 "metadata": {
  "kernelspec": {
   "display_name": "SageMath 10.x",
   "language": "sagemath",
   "name": "sagemath"
  },
  "language_info": {
   "codemirror_mode": {
    "name": "ipython",
    "version": 3
   },
   "file_extension": ".py",
   "mimetype": "text/x-python",
   "name": "python",
   "nbconvert_exporter": "python",
   "pygments_lexer": "ipython3",
   "version": "3.x.x"
  }
 },
 "nbformat": 4,
 "nbformat_minor": 4
}
