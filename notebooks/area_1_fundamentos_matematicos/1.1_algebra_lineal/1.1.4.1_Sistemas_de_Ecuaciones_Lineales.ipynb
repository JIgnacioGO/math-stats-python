{
 "cells": [
  {
   "cell_type": "markdown",
   "metadata": {},
   "source": [
    "# 1.1.4.1: Sistemas de Ecuaciones Lineales y Regresión"
   ]
  },
  {
   "cell_type": "markdown",
   "metadata": {},
   "source": [
    "## Objetivos de Aprendizaje\n",
    "\n",
    "Al completar este notebook, serás capaz de:\n",
    "\n",
    "- **Formular** un problema de regresión lineal simple y múltiple como un sistema de ecuaciones en la forma matricial $X\\vec{\\beta} = \\vec{y}$.\n",
    "- **Construir** la **matriz de diseño** $X$ (incluyendo el término de intercepto) y el vector objetivo $\\vec{y}$ a partir de un dataset.\n",
    "- **Resolver** sistemas sobredeterminados usando la solución de **mínimos cuadrados** con `np.linalg.lstsq`.\n",
    "- **Interpretar** los coeficientes $\\vec{\\beta}$ resultantes en el contexto de un problema de datos.\n",
    "- **Comprender** y diagnosticar la **inestabilidad numérica** causada por la multicolinealidad usando el **número de condición**."
   ]
  },
  {
   "cell_type": "code",
   "execution_count": null,
   "metadata": {
    "collapsed": true,
    "jupyter": {
     "source_hidden": true
    }
   },
   "outputs": [],
   "source": [
    "# --- Celda de Configuración (Oculta) ---\n",
    "%display latex\n",
    "import numpy as np\n",
    "import pandas as pd\n",
    "import matplotlib.pyplot as plt\n",
    "import seaborn as sns\n",
    "\n",
    "sns.set_theme(style=\"whitegrid\")"
   ]
  },
  {
   "cell_type": "markdown",
   "metadata": {},
   "source": [
    "--- \n",
    "## ⚙️ El Arsenal de Datasets: Nuestra Fuente de Ejercicios\n",
    "\n",
    "Este notebook es la aplicación directa de los sistemas de ecuaciones al Machine Learning. Usaremos datasets para plantear problemas de regresión realistas y para explorar los desafíos que surgen en la práctica, como la multicolinealidad."
   ]
  },
  {
   "cell_type": "code",
   "execution_count": null,
   "metadata": {},
   "outputs": [],
   "source": [
    "# === CONFIGURACIÓN DE DATASETS ===\n",
    "from src.data_generation.create_student_performance import create_student_performance_data\n",
    "from src.data_generation.create_business_data import create_business_data\n",
    "from src.data_generation.create_edge_cases import create_edge_cases\n",
    "\n",
    "# Configuración centralizada de aleatoriedad para REPRODUCIBILIDAD\n",
    "rng = np.random.default_rng(seed=42)\n",
    "\n",
    "# === Generación de Datasets y Matrices para este Notebook ===\n",
    "\n",
    "# 💡 CONTEXTO PEDAGÓGICO: Hilo Conductor (Regresión Lineal Simple)\n",
    "# El problema de predecir la calificación a partir de las horas de estudio es el ejemplo\n",
    "# canónico para introducir la formulación matricial de la regresión lineal.\n",
    "datos_estudiantes = create_student_performance_data(rng, simplified=True, n_samples=100)\n",
    "\n",
    "# 💡 CONTEXTO PEDAGÓGICO: Regresión Múltiple\n",
    "# Para ir más allá de la línea recta, usaremos un problema de negocio donde predecimos\n",
    "# las ventas a partir de múltiples variables (precio, marketing), lo que requiere una matriz X más ancha.\n",
    "datos_negocio = create_business_data(rng, n_samples=150)\n",
    "\n",
    "# 💡 CONTEXTO PEDAGÓGICO: Inestabilidad Numérica\n",
    "# Para entender por qué la multicolinealidad es un problema, generaremos un dataset donde\n",
    "# las features están altamente correlacionadas. Esto nos permitirá ver el efecto en el número de condición.\n",
    "datos_multicolineales = create_edge_cases(rng, case_type='multicollinear', n_samples=100)\n",
    "\n",
    "print(\"Datasets generados y listos para usar.\")"
   ]
  },
  {
   "cell_type": "markdown",
   "metadata": {},
   "source": [
    "## 1. De la Regresión a un Sistema de Ecuaciones\n",
    "\n",
    "En ciencia de datos, a menudo queremos modelar una variable objetivo $y$ en función de una o más variables predictoras (features) $x$. El modelo más simple es la **regresión lineal**, que busca encontrar la línea (o hiperplano en más dimensiones) que mejor se ajuste a los datos.\n",
    "\n",
    "La ecuación para una **regresión lineal simple** es:\n",
    "$$ y_i = \\beta_0 + \\beta_1 x_i + \\epsilon_i $$\n",
    "Donde $\\beta_0$ es la ordenada en el origen (intercepto), $\\beta_1$ es la pendiente y $\\epsilon_i$ es el error (la distancia vertical del punto a la línea).\n",
    "\n",
    "Nuestro objetivo es encontrar los mejores coeficientes $\\vec{\\beta} = [\\beta_0, \\beta_1]$ que minimicen este error para todos los puntos de datos a la vez."
   ]
  },
  {
   "cell_type": "markdown",
   "metadata": {},
   "source": [
    "### Formulando el Sistema $X\\vec{\\beta} = \\vec{y}$\n",
    "\n",
    "Para cada una de nuestras $m$ observaciones (estudiantes), podemos escribir una ecuación. Si las apilamos, obtenemos un sistema sobredeterminado (más ecuaciones que incógnitas) que podemos escribir en forma matricial:\n",
    "$$ \n",
    "\\underbrace{\\begin{pmatrix}\n",
    "1 & x_{1} \\\\\n",
    "1 & x_{2} \\\\\n",
    "\\vdots & \\vdots \\\\\n",
    "1 & x_{m}\n",
    "\\end{pmatrix}}_{X \\text{ (Matriz de Diseño, } m \\times 2)}\n",
    "\\underbrace{\\begin{pmatrix} \\beta_0 \\\\ \\beta_1 \\end{pmatrix}}_{\\vec{\\beta} \\text{ (Vector de Coeficientes, } 2 \\times 1)}\n",
    "\\approx\n",
    "\\underbrace{\\begin{pmatrix}\n",
    "y_1 \\\\\n",
    "y_2 \\\\\n",
    "\\vdots \\\\\n",
    "y_{m}\n",
    "\\end{pmatrix}}_{\\vec{y} \\text{ (Vector Objetivo, } m \\times 1)}\n",
    "$$\n",
    "La columna de unos en la **matriz de diseño $X$** es un truco matemático para que el coeficiente $\\beta_0$ (el intercepto) se pueda incluir limpiamente en la multiplicación matricial."
   ]
  },
  {
   "cell_type": "markdown",
   "metadata": {},
   "source": [
    "### Ejemplo Demostrativo 1: Regresión Lineal Simple con el Hilo Conductor"
   ]
  },
  {
   "cell_type": "code",
   "execution_count": null,
   "metadata": {},
   "outputs": [],
   "source": [
    "# 1. DATOS: Extraemos 'horas_estudio' como nuestra feature y 'calificacion_examen' como nuestro objetivo.\n",
    "X_feature = datos_estudiantes[['horas_estudio']].values\n",
    "y = datos_estudiantes['calificacion_examen'].values\n",
    "\n",
    "# 2. CONSTRUIR LA MATRIZ DE DISEÑO X: Añadimos la columna de unos para el intercepto.\n",
    "# np.c_ es una forma conveniente de concatenar columnas.\n",
    "X = np.c_[np.ones(X_feature.shape[0]), X_feature]\n",
    "\n",
    "print(\"Primeras 5 filas de la Matriz de Diseño X:\")\n",
    "print(X[:5])\n",
    "print(f\"\\nForma de X: {X.shape}\")\n",
    "print(f\"Forma de y: {y.shape}\")\n",
    "\n",
    "# 3. RESOLVER EL SISTEMA: Usamos Mínimos Cuadrados para encontrar la mejor solución aproximada.\n",
    "# np.linalg.lstsq encuentra el beta que minimiza ||X_beta - y||^2\n",
    "beta, residuals, rank, s = np.linalg.lstsq(X, y, rcond=None)\n",
    "beta_0, beta_1 = beta\n",
    "\n",
    "# 4. INTERPRETACIÓN Y VISUALIZACIÓN\n",
    "print(f\"\\nCoeficientes encontrados:\")\n",
    "print(f\"  β₀ (intercepto): {beta_0:.2f} -> Calificación esperada con 0 horas de estudio.\")\n",
    "print(f\"  β₁ (pendiente):   {beta_1:.2f} -> Puntos adicionales por cada hora de estudio.\")\n",
    "\n",
    "plt.figure(figsize=(10, 6))\n",
    "plt.scatter(X_feature, y, alpha=0.7, label='Datos Originales')\n",
    "plt.plot(X_feature, X @ beta, color='red', linewidth=3, label='Línea de Regresión de Mínimos Cuadrados')\n",
    "plt.title('Regresión Lineal: Calificación vs. Horas de Estudio')\n",
    "plt.xlabel('Horas de Estudio'); plt.ylabel('Calificación del Examen')\n",
    "plt.legend(); plt.grid(True)\n",
    "plt.show()"
   ]
  },
  {
   "cell_type": "markdown",
   "metadata": {},
   "source": [
    "## 2. Extendiendo a Regresión Múltiple\n",
    "\n",
    "La belleza del enfoque matricial es que se extiende sin esfuerzo a más dimensiones. Si queremos predecir $y$ a partir de $n$ features, la ecuación se convierte en:\n",
    "$$ y_i = \\beta_0 + \\beta_1 x_{i1} + \\beta_2 x_{i2} + \\dots + \\beta_n x_{in} $$\n",
    "La única diferencia es que nuestra matriz de diseño $X$ ahora tiene más columnas, una por cada feature (más la columna de unos del intercepto). El vector $\\vec{\\beta}$ también crece, pero el método de solución `np.linalg.lstsq` sigue funcionando exactamente igual."
   ]
  },
  {
   "cell_type": "markdown",
   "metadata": {},
   "source": [
    "### Ejemplo Demostrativo 2: Regresión Múltiple con Datos de Negocio"
   ]
  },
  {
   "cell_type": "code",
   "execution_count": null,
   "metadata": {},
   "outputs": [],
   "source": [
    "# 1. DATOS: Predecir 'ventas_mensuales' a partir de 'precio' y 'gasto_marketing'.\n",
    "features = datos_negocio[['precio', 'gasto_marketing']].values\n",
    "y = datos_negocio['ventas_mensuales'].values\n",
    "\n",
    "# 2. CONSTRUIR MATRIZ DE DISEÑO X: Ahora tendrá 3 columnas (intercepto, precio, marketing).\n",
    "X = np.c_[np.ones(features.shape[0]), features]\n",
    "\n",
    "print(\"Primeras 5 filas de la Matriz de Diseño X (múltiple):\")\n",
    "print(np.round(X[:5], 2))\n",
    "print(f\"\\nForma de X: {X.shape}\")\n",
    "\n",
    "# 3. RESOLVER EL SISTEMA\n",
    "beta, _, _, _ = np.linalg.lstsq(X, y, rcond=None)\n",
    "beta_0, beta_1, beta_2 = beta\n",
    "\n",
    "# 4. INTERPRETACIÓN\n",
    "print(f\"\\nCoeficientes encontrados:\")\n",
    "print(f\"  β₀ (base): {beta_0:.2f} -> Ventas base sin precio ni marketing.\")\n",
    "print(f\"  β₁ (precio): {beta_1:.2f} -> Cambio en ventas por cada unidad de aumento en el precio.\")\n",
    "print(f\"  β₂ (marketing): {beta_2:.2f} -> Cambio en ventas por cada unidad de aumento en marketing.\")"
   ]
  },
  {
   "cell_type": "markdown",
   "metadata": {},
   "source": [
    "## 3. Estabilidad Numérica y Número de Condición\n",
    "\n",
    "Un problema grave surge cuando las columnas de $X$ son muy similares (multicolinealidad). Esto hace que la matriz $(X^T X)$ (que `lstsq` resuelve internamente) esté mal condicionada, casi singular. La solución $\\vec{\\beta}$ se vuelve muy sensible a pequeños cambios en los datos, es decir, **inestable** y poco fiable.\n",
    "\n",
    "El **número de condición** (`np.linalg.cond`) mide esta sensibilidad. \n",
    "- Un número **pequeño** (cercano a 1) es **bueno** (matriz bien condicionada).\n",
    "- Un número **muy grande** (e.g., > 1000) es una **señal de alerta** de multicolinealidad."
   ]
  },
  {
   "cell_type": "markdown",
   "metadata": {},
   "source": [
    "### Ejemplo Demostrativo 3: El Peligro de la Multicolinealidad"
   ]
  },
  {
   "cell_type": "code",
   "execution_count": null,
   "metadata": {},
   "outputs": [],
   "source": [
    "# 1. DATOS: Usamos el dataset donde x2 y x3 dependen de x1.\n",
    "X_mal_condicionado = datos_multicolineales[['x1', 'x2', 'x3']].values\n",
    "X_bien_condicionado = datos_estudiantes[['horas_estudio', 'calificacion_previa']].values # Del notebook anterior\n",
    "\n",
    "# 2. APLICACIÓN: Calculamos el número de condición.\n",
    "cond_mal = np.linalg.cond(X_mal_condicionado)\n",
    "cond_bien = np.linalg.cond(X_bien_condicionado)\n",
    "\n",
    "# 3. INTERPRETACIÓN\n",
    "print(f\"Número de Condición (Features Correlacionadas): {cond_mal:,.2f}\")\n",
    "print(f\"Número de Condición (Features Independientes): {cond_bien:.2f}\")\n",
    "print(\"\\n🔴 ¡Alerta! Un número de condición tan alto indica que la solución de regresión con estos datos no será fiable.\")"
   ]
  },
  {
   "cell_type": "markdown",
   "metadata": {},
   "source": [
    "---\n",
    "## 4. Ejercicios Guiados con Scaffolding (8+)\n",
    "Rellena las partes marcadas con `# COMPLETAR` para afianzar tu comprensión."
   ]
  },
  {
   "cell_type": "markdown",
   "metadata": {},
   "source": [
    "### === EJERCICIO GUIADO 1: Construir la Matriz de Diseño X ==="
   ]
  },
  {
   "cell_type": "code",
   "execution_count": null,
   "metadata": {},
   "outputs": [],
   "source": [
    "# DATOS: Un array de NumPy con una sola feature.\n",
    "feature_x = np.array([5, 8, 12, 15])\n",
    "\n",
    "# TODO 1: Crea un vector de unos con la misma cantidad de filas que feature_x.\n",
    "intercepto = # COMPLETAR\n",
    "\n",
    "# TODO 2: Apila la columna de intercepto y la de feature_x para crear la matriz de diseño X.\n",
    "# PISTA: Usa np.c_[col1, col2]\n",
    "X = # COMPLETAR\n",
    "\n",
    "# VERIFICACIÓN\n",
    "X_esperada = np.array([[1, 5], [1, 8], [1, 12], [1, 15]])\n",
    "assert X.shape == (4, 2)\n",
    "assert np.allclose(X, X_esperada)\n",
    "print(\"✅ ¡Matriz de diseño construida correctamente!\")\n",
    "print(X)"
   ]
  },
  {
   "cell_type": "markdown",
   "metadata": {},
   "source": [
    "### === EJERCICIO GUIADO 2: Resolver un Sistema Simple con Mínimos Cuadrados ==="
   ]
  },
  {
   "cell_type": "code",
   "execution_count": null,
   "metadata": {},
   "outputs": [],
   "source": [
    "# DATOS: La matriz X del ejercicio anterior y un vector objetivo y.\n",
    "X = np.array([[1, 5], [1, 8], [1, 12], [1, 15]])\n",
    "y = np.array([12, 18, 25, 30])\n",
    "\n",
    "# TODO: Usa np.linalg.lstsq para encontrar el vector de coeficientes beta.\n",
    "# PISTA: La función devuelve varias cosas, pero solo necesitas la primera.\n",
    "beta, _, _, _ = # COMPLETAR\n",
    "\n",
    "# VERIFICACIÓN\n",
    "assert beta.shape == (2,)\n",
    "assert np.isclose(beta[0], 2.44) and np.isclose(beta[1], 1.84)\n",
    "print(\"✅ ¡Sistema resuelto correctamente!\")\n",
    "print(f\"β₀ (intercepto) = {beta[0]:.2f}\")\n",
    "print(f\"β₁ (pendiente) = {beta[1]:.2f}\")"
   ]
  },
  {
   "cell_type": "markdown",
   "metadata": {},
   "source": [
    "### === EJERCICIO GUIADO 3: Regresión Múltiple con el Hilo Conductor ==="
   ]
  },
  {
   "cell_type": "code",
   "execution_count": null,
   "metadata": {},
   "outputs": [],
   "source": [
    "# DATOS: Usaremos la versión completa de datos_estudiantes.\n",
    "datos_full = create_student_performance_data(rng, n_samples=50)\n",
    "features = datos_full[['horas_estudio', 'calificacion_previa']].values\n",
    "y = datos_full['calificacion_examen'].values\n",
    "\n",
    "# TODO 1: Construye la matriz de diseño X para este problema de regresión múltiple.\n",
    "# PISTA: No olvides la columna de unos para el intercepto.\n",
    "X = # COMPLETAR\n",
    "\n",
    "# TODO 2: Resuelve el sistema para encontrar los tres coeficientes beta.\n",
    "beta, _, _, _ = # COMPLETAR\n",
    "\n",
    "# VERIFICACIÓN\n",
    "assert X.shape == (50, 3)\n",
    "assert beta.shape == (3,)\n",
    "print(\"✅ ¡Regresión múltiple completada!\")\n",
    "print(f\"β₀ (Intercepto): {beta[0]:.2f}\")\n",
    "print(f\"β₁ (Horas Estudio): {beta[1]:.2f}\")\n",
    "print(f\"β₂ (Calif Previa): {beta[2]:.2f}\")"
   ]
  },
  {
   "cell_type": "markdown",
   "metadata": {},
   "source": [
    "### === EJERCICIO GUIADO 4: Calcular el Número de Condición ==="
   ]
  },
  {
   "cell_type": "code",
   "execution_count": null,
   "metadata": {},
   "outputs": [],
   "source": [
    "# DATOS: La matriz X del ejercicio anterior y la matriz de datos multicolineales.\n",
    "X_estudiantes = np.c_[np.ones(features.shape[0]), features]\n",
    "X_multi = datos_multicolineales[['x1', 'x2', 'x3']].values\n",
    "\n",
    "# TODO 1: Calcula el número de condición de la matriz de estudiantes.\n",
    "# PISTA: Usa np.linalg.cond().\n",
    "cond_estudiantes = # COMPLETAR\n",
    "\n",
    "# TODO 2: Calcula el número de condición de la matriz multicolineal.\n",
    "cond_multi = # COMPLETAR\n",
    "\n",
    "# VERIFICACIÓN\n",
    "assert cond_estudiantes < 1000 # Esperamos que esté bien condicionada\n",
    "assert cond_multi > 10000 # Esperamos que esté mal condicionada\n",
    "print(\"✅ ¡Cálculos correctos!\")\n",
    "print(f\"Número de condición (Estudiantes): {cond_estudiantes:.2f} (Estable)\")\n",
    "print(f\"Número de condición (Multicolineal): {cond_multi:,.2f} (Inestable)\")"
   ]
  },
  {
   "cell_type": "markdown",
   "metadata": {},
   "source": [
    "--- \n",
    "# 5. Banco de Ejercicios Prácticos (30+)\n",
    "Ahora te toca a ti. Resuelve estos ejercicios para consolidar tu conocimiento."
   ]
  },
  {
   "cell_type": "markdown",
   "metadata": {},
   "source": [
    "### Parte A: Sistemas Cuadrados y Estabilidad"
   ]
  },
  {
   "cell_type": "markdown",
   "metadata": {},
   "source": [
    "**A1 (🟢 Fácil):** Resuelve el sistema 3x3: $x+y+z=6, 2y+5z=-4, 2x+5y-z=27$ usando `np.linalg.solve`."
   ]
  },
  {
   "cell_type": "code",
   "execution_count": null,
   "metadata": {},
   "outputs": [],
   "source": []
  },
  {
   "cell_type": "markdown",
   "metadata": {},
   "source": [
    "**A2 (🟢 Fácil):** Calcula el número de condición de la matriz del ejercicio A1. ¿Consideras que es una matriz estable para resolver?"
   ]
  },
  {
   "cell_type": "code",
   "execution_count": null,
   "metadata": {},
   "outputs": [],
   "source": []
  },
  {
   "cell_type": "markdown",
   "metadata": {},
   "source": [
    "**A3 (🟡 Medio):** Genera una matriz singular 3x3. Intenta resolver un sistema $A\\vec{x} = \\vec{b}$ con ella. ¿Qué ocurre? ¿Por qué?"
   ]
  },
  {
   "cell_type": "code",
   "execution_count": null,
   "metadata": {},
   "outputs": [],
   "source": []
  },
  {
   "cell_type": "markdown",
   "metadata": {},
   "source": [
    "### Parte B: Regresión Lineal Simple"
   ]
  },
  {
   "cell_type": "markdown",
   "metadata": {},
   "source": [
    "**B1 (🟢 Fácil):** Tienes 3 puntos: (1,2), (2,3), (3,5). Construye la matriz de diseño $X$ y el vector $\\vec{y}$ para un modelo de regresión lineal."
   ]
  },
  {
   "cell_type": "code",
   "execution_count": null,
   "metadata": {},
   "outputs": [],
   "source": []
  },
  {
   "cell_type": "markdown",
   "metadata": {},
   "source": [
    "**B2 (🟢 Fácil):** Resuelve el sistema del ejercicio B1 usando `np.linalg.lstsq` para encontrar la línea de mejor ajuste."
   ]
  },
  {
   "cell_type": "code",
   "execution_count": null,
   "metadata": {},
   "outputs": [],
   "source": []
  },
  {
   "cell_type": "markdown",
   "metadata": {},
   "source": [
    "**B3 (🟡 Medio):** Toma una muestra aleatoria de 50 estudiantes de `datos_estudiantes`. Repite el proceso de regresión lineal. Compara los coeficientes $\\beta_0, \\beta_1$ obtenidos con los del ejemplo demostrativo. ¿Son muy diferentes?"
   ]
  },
  {
   "cell_type": "code",
   "execution_count": null,
   "metadata": {},
   "outputs": [],
   "source": []
  },
  {
   "cell_type": "markdown",
   "metadata": {},
   "source": [
    "**B4 (🟡 Medio):** Usando el modelo que entrenaste en B3, ¿qué calificación predecirías para un estudiante que estudió 15 horas?"
   ]
  },
  {
   "cell_type": "code",
   "execution_count": null,
   "metadata": {},
   "outputs": [],
   "source": []
  },
  {
   "cell_type": "markdown",
   "metadata": {},
   "source": [
    "**B5 (🔴 Reto):** Ajusta un modelo de regresión para `datos_negocio` que prediga `ventas_mensuales` basándose únicamente en `precio`. Visualiza los datos y la línea de regresión."
   ]
  },
  {
   "cell_type": "code",
   "execution_count": null,
   "metadata": {},
   "outputs": [],
   "source": []
  },
  {
   "cell_type": "markdown",
   "metadata": {},
   "source": [
    "### Parte C: Regresión Múltiple y Retos"
   ]
  },
  {
   "cell_type": "markdown",
   "metadata": {},
   "source": [
    "**C1 (🟡 Medio):** Construye la matriz de diseño y el vector objetivo para predecir `calificacion_examen` a partir de `horas_estudio` y `asistencia_porcentaje` del dataset completo de estudiantes."
   ]
  },
  {
   "cell_type": "code",
   "execution_count": null,
   "metadata": {},
   "outputs": [],
   "source": []
  },
  {
   "cell_type": "markdown",
   "metadata": {},
   "source": [
    "**C2 (🟡 Medio):** Resuelve el sistema del ejercicio C1 y reporta los tres coeficientes $\\beta$."
   ]
  },
  {
   "cell_type": "code",
   "execution_count": null,
   "metadata": {},
   "outputs": [],
   "source": []
  },
  {
   "cell_type": "markdown",
   "metadata": {},
   "source": [
    "**C3 (🔴 Reto):** Regresión Polinómica. Para ajustar una parábola ($y = \\beta_0 + \\beta_1 x + \\beta_2 x^2$), la matriz de diseño necesita una columna para $x^2$. Toma `datos_estudiantes`, construye una matriz $X$ con las columnas `[1, horas, horas^2]` y resuelve para los tres $\\beta$."
   ]
  },
  {
   "cell_type": "code",
   "execution_count": null,
   "metadata": {},
   "outputs": [],
   "source": []
  },
  {
   "cell_type": "markdown",
   "metadata": {},
   "source": [
    "**C4 (🔴 Reto):** Visualiza el ajuste parabólico del ejercicio C3 sobre el scatter plot de los datos de estudiantes."
   ]
  },
  {
   "cell_type": "code",
   "execution_count": null,
   "metadata": {},
   "outputs": [],
   "source": []
  },
  {
   "cell_type": "markdown",
   "metadata": {},
   "source": [
    "**C5 (🔴 Reto Conceptual):** ¿Por qué una regresión polinómica como la del ejercicio C3 sigue considerándose un problema de *álgebra lineal* y se puede resolver con `lstsq`?"
   ]
  },
  {
   "cell_type": "markdown",
   "metadata": {},
   "source": [
    "---"
   ]
  },
  {
   "cell_type": "markdown",
   "metadata": {},
   "source": [
    "## ✅ Mini-Quiz de Autoevaluación\n",
    "\n",
    "*Responde estas preguntas para verificar tu comprensión.*\n",
    "\n",
    "1. ¿Por qué `np.linalg.solve` no funciona para la mayoría de los problemas de regresión lineal del mundo real?\n",
    "2. En la matriz de diseño $X$ para $y = \\beta_0 + \\beta_1 x_1 + \\beta_2 x_2$, ¿qué representa la primera columna de unos?\n",
    "3. Un número de condición muy alto en la matriz de diseño $X$ es un síntoma de... (completa la palabra).\n",
    "4. Si tienes $m$ observaciones y $n$ features (incluyendo el intercepto), ¿cuál es la forma de la matriz de diseño $X$?"
   ]
  },
  {
   "cell_type": "markdown",
   "metadata": {},
   "source": [
    "## 🚀 Próximos Pasos\n",
    "\n",
    "¡Felicidades! Has implementado un algoritmo de Machine Learning desde cero, conectando directamente la teoría de sistemas de ecuaciones con una aplicación práctica y fundamental.\n",
    "\n",
    "- En el siguiente notebook, **`1.1.4.2_Proyecciones_y_Minimos_Cuadrados_OLS`**, profundizaremos en la **geometría** detrás de la solución de mínimos cuadrados. Descubriremos cómo el concepto de **proyección ortogonal** nos da esa 'mejor solución aproximada' y derivaremos formalmente la famosa ecuación normal $X^T X \\vec{\\beta} = X^T \\vec{y}$."
   ]
  }
 ],
 "metadata": {
  "kernelspec": {
   "display_name": "SageMath 10.x",
   "language": "sagemath",
   "name": "sagemath"
  },
  "language_info": {
   "codemirror_mode": {
    "name": "ipython",
    "version": 3
   },
   "file_extension": ".py",
   "mimetype": "text/x-python",
   "name": "python",
   "nbconvert_exporter": "python",
   "pygments_lexer": "ipython3",
   "version": "3.x.x"
  }
 },
 "nbformat": 4,
 "nbformat_minor": 4
}
