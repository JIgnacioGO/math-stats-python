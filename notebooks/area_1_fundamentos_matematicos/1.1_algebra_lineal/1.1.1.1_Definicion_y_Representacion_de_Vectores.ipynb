{
 "cells": [
  {
   "cell_type": "markdown",
   "metadata": {},
   "source": [
    "# 1.1.1.1: Definición y Representación de Vectores"
   ]
  },
  {
   "cell_type": "markdown",
   "metadata": {
    "tags": []
   },
   "source": [
    "## Objetivos de Aprendizaje\n",
    "\n",
    "Al completar este notebook, serás capaz de:\n",
    "\n",
    "- **Explicar** qué es un vector, mencionando sus dos componentes clave: magnitud y dirección.\n",
    "- **Diferenciar** entre la representación numérica (componentes) y gráfica (flecha) de un vector.\n",
    "- **Definir** qué es la dimensión de un vector y usar la notación $ℝ^n$ correctamente.\n",
    "- **Visualizar** vectores en 2D y 3D usando SageMath y Python, aplicados a diversos contextos de datos.\n",
    "- **Conectar** el concepto abstracto de vector con su aplicación en ciencia de datos (features)."
   ]
  },
  {
   "cell_type": "code",
   "execution_count": null,
   "metadata": {
    "collapsed": true,
    "jupyter": {
     "source_hidden": true
    }
   },
   "outputs": [],
   "source": [
    "# --- Celda de Configuración (Oculta) ---\n",
    "# Ejecuta esta celda una vez para configurar el notebook.\n",
    "\n",
    "# 1. Renderizado matemático con LaTeX para mayor claridad.\n",
    "%display latex\n",
    "\n",
    "# 2. Importaciones de librerías estándar de Python.\n",
    "import numpy as np\n",
    "import pandas as pd\n",
    "import matplotlib.pyplot as plt\n",
    "from IPython.display import Image\n",
    "import os\n",
    "\n",
    "# 3. Función de ayuda para graficar vectores 2D de forma consistente en SageMath.\n",
    "def plot_vector_2d(vectors, colors=None, legends=None, title=\"Gráfico de Vectores 2D\"):\n",
    "    \"\"\"Función para graficar una lista de vectores 2D con una paleta accesible.\"\"\"\n",
    "    if colors is None:\n",
    "        # Paleta de colores accesible (Okabe-Ito)\n",
    "        colors = ['#E69F00', '#56B4E9', '#009E73', '#F0E442', '#0072B2', '#D55E00', '#CC79A7']\n",
    "    \n",
    "    plots = []\n",
    "    for i, v in enumerate(vectors):\n",
    "        p_legend = legends[i] if legends and i < len(legends) else str(v)\n",
    "        p_color = colors[i % len(colors)]\n",
    "        plots.append(plot(v, color=p_color, legend_label=p_legend, thickness=1.5))\n",
    "    \n",
    "    combined_plot = sum(plots)\n",
    "    combined_plot.show(aspect_ratio=1, gridlines=True, title=title)"
   ]
  },
  {
   "cell_type": "markdown",
   "metadata": {},
   "source": [
    "## 1. Idea Central y Aplicación en Ciencia de Datos\n",
    "\n",
    "Un **vector** es un objeto matemático que empaqueta dos piezas de información: **magnitud** (¿cuánto?) y **dirección** (¿hacia dónde?). Es la forma de dar una instrucción de desplazamiento precisa desde un origen común.\n",
    "\n",
    "> **Por qué importa en Ciencia de Datos:** Piensa en un vector como una **fila de tu dataset** o una **observación**. Si tienes datos de un cliente, el vector `[edad, ingresos, compras_mes]` lo posiciona en un \"espacio de clientes\". La matemática de vectores nos permite medir distancias y similitudes entre estos puntos, que es la base de algoritmos como k-NN, k-Means y PCA."
   ]
  },
  {
   "cell_type": "markdown",
   "metadata": {},
   "source": [
    "## 2. Representación, Dimensión y Notación $ℝ^n$\n",
    "\n",
    "La **dimensión** de un vector es simplemente el número de componentes (o *features*) que tiene. Usamos la notación **$ℝ^n$** para describir el \"espacio\" de alta dimensión en el que vive un vector de dimensión *n*.\n",
    "\n",
    "| Vector | Dimensión | Espacio | Significado en Data Science |\n",
    "| :--- | :--- | :--- | :--- |\n",
    "| `[3, 4]` | 2 | $ℝ^2$ | Una observación con 2 features (ej: `[horas_estudio, nota]`). |\n",
    "| `[5, -1, 3]` | 3 | $ℝ^3$ | Una observación con 3 features (ej: `[precio, marketing, ventas]`). |\n",
    "| `[c₁, c₂, ..., cₙ]` | n | $ℝ^n$ | Una observación con *n* features. ¡El pan de cada día! |"
   ]
  },
  {
   "cell_type": "markdown",
   "metadata": {
    "tags": []
   },
   "source": [
    "--- \n",
    "## ⚙️ El Arsenal de Datasets: Nuestra Fuente de Ejercicios\n",
    "\n",
    "Para que nuestro aprendizaje sea coherente y aplicado, usaremos un **arsenal de funciones para generar datos**. Este enfoque es superior a usar archivos estáticos porque nos permite crear una variedad infinita de escenarios y controlar las propiedades de los datos para cada ejercicio. \n",
    "\n",
    "En la siguiente celda, configuraremos todo lo necesario. Importaremos las funciones de generación que usaremos en este notebook y crearemos una instancia central de un generador de números aleatorios para asegurar que nuestros resultados sean **reproducibles**."
   ]
  },
  {
   "cell_type": "code",
   "execution_count": null,
   "metadata": {},
   "outputs": [],
   "source": [
    "# === CONFIGURACIÓN DE DATASETS ===\n",
    "import numpy as np\n",
    "import pandas as pd\n",
    "\n",
    "# 1. Importar las funciones de generación de datos que usaremos en este notebook\n",
    "# Nota: Solo importamos las que son relevantes para el tema de 'Vectores'.\n",
    "from src.data_generation.create_student_performance import create_student_performance_data\n",
    "from src.data_generation.create_geometric_shapes import create_geometric_shapes\n",
    "from src.data_generation.create_business_data import create_business_data\n",
    "from src.data_generation.create_edge_cases import create_edge_cases\n",
    "\n",
    "# 2. Configuración centralizada de aleatoriedad para REPRODUCIBILIDAD\n",
    "# Todas las funciones de generación usarán este mismo 'rng'.\n",
    "rng = np.random.default_rng(seed=42)\n",
    "\n",
    "# 3. Generación de los datasets principales que usaremos en ejemplos y ejercicios\n",
    "# 💡 CONTEXTO PEDAGÓGICO: Hilo Conductor\n",
    "# Usamos datos de rendimiento estudiantil (simplificado a 2D) como nuestro ejemplo principal.\n",
    "# La relación lineal entre 'horas_estudio' y 'calificacion_examen' es fácil de visualizar\n",
    "# e ideal para introducir conceptos vectoriales de forma intuitiva.\n",
    "datos_estudiantes_simplificado = create_student_performance_data(rng, simplified=True, n_samples=100)\n",
    "\n",
    "# 💡 CONTEXTO PEDAGÓGICO: Intuición Geométrica\n",
    "# Usamos formas geométricas puras para quitar el \"ruido\" de un contexto real y centrarnos\n",
    "# exclusivamente en la geometría de los vectores: su posición, dirección y magnitud.\n",
    "datos_circulo = create_geometric_shapes(rng, shape_type=\"circle\", n_samples=40, noise_level=0.05)\n",
    "datos_linea = create_geometric_shapes(rng, shape_type=\"line\", n_samples=20, noise_level=0.2)\n",
    "\n",
    "# 💡 CONTEXTO PEDAGÓGICO: Aplicación a Negocios\n",
    "# Este dataset nos permite enmarcar los vectores en un problema de negocio, donde cada\n",
    "# vector puede representar un producto con un 'precio' y un volumen de 'ventas'.\n",
    "datos_negocio = create_business_data(rng, simplified=True, n_samples=75)\n",
    "\n",
    "print(\"Datasets generados y listos para usar:\")\n",
    "print(f\"- Hilo Conductor (Estudiantes): {datos_estudiantes_simplificado.shape}\")\n",
    "print(f\"- Geometría (Círculo): {datos_circulo.shape}\")\n",
    "print(f\"- Geometría (Línea): {datos_linea.shape}\")\n",
    "print(f\"- Negocios (Productos): {datos_negocio.shape}\")\n",
    "\n",
    "datos_estudiantes_simplificado.head()"
   ]
  },
  {
   "cell_type": "markdown",
   "metadata": {},
   "source": [
    "--- \n",
    "## 3. Ejemplos Demostrativos (5+)\n",
    "\n",
    "Antes de los ejercicios, veamos varios ejemplos resueltos y comentados que cubren diferentes contextos y establecen los patrones de código que usaremos."
   ]
  },
  {
   "cell_type": "markdown",
   "metadata": {},
   "source": [
    "### Ejemplo Demostrativo 1: Visualizar un Único Vector en $ℝ^2$"
   ]
  },
  {
   "cell_type": "code",
   "execution_count": null,
   "metadata": {},
   "outputs": [],
   "source": [
    "# 1. Definimos el vector v en el espacio R^2\n",
    "v = vector([4, 3])\n",
    "\n",
    "# 2. Creamos el objeto gráfico y lo personalizamos\n",
    "grafico_v = plot(v, color='#D55E00', legend_label='v = (4, 3)', thickness=2)\n",
    "\n",
    "# 3. Mostramos el gráfico con opciones de estilo para mejor visualización\n",
    "# aspect_ratio=1 asegura que los ejes tengan la misma escala, evitando distorsiones.\n",
    "grafico_v.show(aspect_ratio=1, gridlines=True, title=\"Ejemplo 1: Vector Único\")"
   ]
  },
  {
   "cell_type": "markdown",
   "metadata": {},
   "source": [
    "### Ejemplo Demostrativo 2: Múltiples Vectores con la Función de Ayuda"
   ]
  },
  {
   "cell_type": "code",
   "execution_count": null,
   "metadata": {},
   "outputs": [],
   "source": [
    "# 1. Definimos una lista de vectores\n",
    "vec_a = vector([-3, 1])\n",
    "vec_b = vector([1, -2])\n",
    "vec_c = vector([4, 2])\n",
    "\n",
    "# 2. Usamos nuestra función de ayuda para graficarlos todos a la vez\n",
    "# La función se encarga de asignar colores y leyendas de forma automática.\n",
    "plot_vector_2d(\n",
    "    [vec_a, vec_b, vec_c], \n",
    "    legends=['a = (-3, 1)', 'b = (1, -2)', 'c = (4, 2)'],\n",
    "    title=\"Ejemplo 2: Múltiples Vectores\"\n",
    ")"
   ]
  },
  {
   "cell_type": "markdown",
   "metadata": {},
   "source": [
    "### Ejemplo Demostrativo 3: Visualizar un Vector 3D Interactivo"
   ]
  },
  {
   "cell_type": "code",
   "execution_count": null,
   "metadata": {},
   "outputs": [],
   "source": [
    "# 1. Definimos un vector en R^3\n",
    "u = vector([3, 4, 5])\n",
    "\n",
    "# 2. Creamos el gráfico 3D\n",
    "grafico_3d = plot(u, color='green', thickness=4)\n",
    "\n",
    "# 3. Usamos el visor 'threejs' para que sea interactivo\n",
    "# ¡Puedes rotar, hacer pan y zoom en el gráfico resultante con el mouse!\n",
    "grafico_3d.show(viewer='threejs', title=\"Ejemplo 3: Vector 3D Interactivo\")"
   ]
  },
  {
   "cell_type": "markdown",
   "metadata": {},
   "source": [
    "### Ejemplo Demostrativo 4: Vectores del Hilo Conductor (Estudiantes)"
   ]
  },
  {
   "cell_type": "code",
   "execution_count": null,
   "metadata": {},
   "outputs": [],
   "source": [
    "# 1. Extraemos los datos de dos estudiantes de nuestro DataFrame\n",
    "# Usamos .values para obtener un array de NumPy, que SageMath puede convertir a vector.\n",
    "estudiante_1_data = datos_estudiantes_simplificado.iloc[0].values\n",
    "estudiante_alto_rendimiento_data = datos_estudiantes_simplificado.iloc[90].values # Un estudiante con buenos resultados\n",
    "\n",
    "# 2. Creamos los objetos vector de SageMath\n",
    "vec_estudiante_1 = vector(estudiante_1_data)\n",
    "vec_estudiante_alto = vector(estudiante_alto_rendimiento_data)\n",
    "\n",
    "# 3. INTERPRETACIÓN PEDAGÓGICA\n",
    "# Visualizamos los vectores. Cada vector representa a un estudiante en el espacio de\n",
    "# (horas de estudio, calificación). La dirección y longitud del vector nos dan una idea\n",
    "# rápida de su perfil de rendimiento.\n",
    "print(f\"Vector del Estudiante 1 (Horas, Calif): {vec_estudiante_1}\")\n",
    "print(f\"Vector de Alto Rendimiento (Horas, Calif): {vec_estudiante_alto}\")\n",
    "\n",
    "# 4. VISUALIZACIÓN\n",
    "plot_vector_2d(\n",
    "    [vec_estudiante_1, vec_estudiante_alto],\n",
    "    legends=['Estudiante 1', 'Estudiante de Alto Rendimiento'],\n",
    "    title=\"Ejemplo 4: Vectores del Dataset de Estudiantes\"\n",
    ")"
   ]
  },
  {
   "cell_type": "markdown",
   "metadata": {},
   "source": [
    "### Ejemplo Demostrativo 5: Vectores en un Contexto Geométrico (Círculo)"
   ]
  },
  {
   "cell_type": "code",
   "execution_count": null,
   "metadata": {},
   "outputs": [],
   "source": [
    "# 1. GENERACIÓN DE DATOS (Ya la hicimos en la celda de config)\n",
    "# Usamos 'datos_circulo'\n",
    "\n",
    "# 2. APLICACIÓN DEL CONCEPTO\n",
    "# Tomamos tres puntos del círculo y los convertimos en vectores desde el origen.\n",
    "puntos_circulo = datos_circulo.sample(n=3, random_state=1) # Tomamos 3 puntos al azar\n",
    "vectores_circulo = [vector(row) for row in puntos_circulo.values]\n",
    "\n",
    "# 3. INTERPRETACIÓN PEDAGÓGICA\n",
    "# En un contexto puramente geométrico, los vectores nos ayudan a definir la posición\n",
    "# de puntos en el espacio. Observa cómo todos los vectores tienen una magnitud (longitud)\n",
    "# muy similar, porque todos yacen en la circunferencia de un círculo.\n",
    "print(\"Tres vectores extraídos de la forma de círculo:\")\n",
    "for v in vectores_circulo:\n",
    "    print(f\"- Vector: {v}, Magnitud: {v.norm():.2f}\")\n",
    "\n",
    "# 4. VISUALIZACIÓN\n",
    "# Primero graficamos todos los puntos del círculo como referencia\n",
    "puntos_plot = points(datos_circulo.values, color='gray', alpha=0.5, size=10)\n",
    "# Luego, superponemos nuestros vectores\n",
    "vectores_plot = plot_vector_2d(vectores_circulo, title=\"Ejemplo 5: Vectores en un Círculo\")\n",
    "\n",
    "(puntos_plot + vectores_plot).show(aspect_ratio=1, gridlines=True)"
   ]
  },
  {
   "cell_type": "markdown",
   "metadata": {},
   "source": [
    "### Ejemplo Demostrativo 6: Vectores en un Contexto de Negocios"
   ]
  },
  {
   "cell_type": "code",
   "execution_count": null,
   "metadata": {},
   "outputs": [],
   "source": [
    "# 1. DATOS PROPORCIONADOS (Ya generados)\n",
    "# Usamos 'datos_negocio', que contiene 'precio' y 'ventas_mensuales'\n",
    "\n",
    "# 2. APLICACIÓN DEL CONCEPTO\n",
    "# Buscamos dos productos con perfiles opuestos para compararlos.\n",
    "producto_barato_exitoso = datos_negocio.sort_values(by='ventas_mensuales', ascending=False).iloc[0]\n",
    "producto_caro_nicho = datos_negocio.sort_values(by='precio', ascending=False).iloc[0]\n",
    "\n",
    "vec_exito = vector(producto_barato_exitoso.values)\n",
    "vec_nicho = vector(producto_caro_nicho.values)\n",
    "\n",
    "# 3. INTERPRETACIÓN PEDAGÓGICA\n",
    "# Cada vector representa un producto en el 'espacio de productos'.\n",
    "# El vector 'Éxito en Ventas' apunta hacia pocas ventas y bajo precio.\n",
    "# El vector 'Producto de Nicho' apunta hacia un alto precio pero menos ventas.\n",
    "# Esta representación vectorial nos permitirá en el futuro encontrar 'productos similares'.\n",
    "print(f\"Vector Éxito (Precio, Ventas): {vec_exito}\")\n",
    "print(f\"Vector Nicho (Precio, Ventas): {vec_nicho}\")\n",
    "\n",
    "# 4. VISUALIZACIÓN\n",
    "plot_vector_2d(\n",
    "    [vec_exito, vec_nicho],\n",
    "    legends=['Éxito en Ventas', 'Producto de Nicho'],\n",
    "    title=\"Ejemplo 6: Vectores de Productos en el Mercado\"\n",
    ")"
   ]
  },
  {
   "cell_type": "markdown",
   "metadata": {},
   "source": [
    "---",
    "## 4. Ejercicios Guiados con Scaffolding (8+)\n",
    "Estos ejercicios te guían paso a paso para asegurar que comprendes el proceso. Rellena las partes marcadas con `# COMPLETAR`."
   ]
  },
  {
   "cell_type": "code",
   "execution_count": null,
   "metadata": {},
   "outputs": [],
   "source": [
    "# === EJERCICIO GUIADO 1: Extraer y Visualizar un Vector de Estudiante ===\n",
    "\n",
    "# DATOS PROPORCIONADOS\n",
    "# Usaremos 'datos_estudiantes_simplificado'.\n",
    "print(\"Dataset de Estudiantes (primeras 5 filas):\")\n",
    "display(datos_estudiantes_simplificado.head())\n",
    "\n",
    "# TODO 1: Extrae los datos del estudiante en el índice 10.\n",
    "# PISTA: Usa .iloc[10].values para obtener los valores como un array de NumPy.\n",
    "datos_estudiante_10 = # COMPLETAR\n",
    "\n",
    "# TODO 2: Convierte los datos del estudiante en un objeto vector de SageMath.\n",
    "# PISTA: Usa la función vector().\n",
    "vector_estudiante_10 = # COMPLETAR\n",
    "\n",
    "# VERIFICACIÓN AUTOMÁTICA\n",
    "assert isinstance(vector_estudiante_10, sage.modules.vector_real_double.Vector_real_double_dense), \"El resultado no es un vector de SageMath!\"\n",
    "print(f\"\\n✅ ¡Correcto! Vector del estudiante 10: {vector_estudiante_10}\")\n",
    "\n",
    "# TODO 3: Usa la función plot_vector_2d para visualizar tu vector.\n",
    "# PISTA: Debe estar dentro de una lista, ej: [mi_vector].\n",
    "# COMPLETAR"
   ]
  },
  {
   "cell_type": "code",
   "execution_count": null,
   "metadata": {},
   "outputs": [],
   "source": [
    "# === EJERCICIO GUIADO 2: Calcular la Magnitud de un Vector de Estudiante ===\n",
    "\n",
    "# DATOS PROPORCIONADOS\n",
    "vector_estudiante_10 = vector(datos_estudiantes_simplificado.iloc[10].values)\n",
    "\n",
    "# TODO 1: Calcula la magnitud (norma) del vector 'vector_estudiante_10'.\n",
    "# PISTA: Los vectores de SageMath tienen un método .norm().\n",
    "magnitud = # COMPLETAR\n",
    "\n",
    "# VERIFICACIÓN AUTOMÁTICA\n",
    "expected_magnitude = np.linalg.norm(datos_estudiantes_simplificado.iloc[10].values)\n",
    "assert np.isclose(magnitud, expected_magnitude), \"La magnitud no es correcta.\"\n",
    "print(f\"✅ ¡Correcto! La magnitud del vector es: {magnitud:.2f}\")\n",
    "print(\"Interpretación: Este número representa la 'distancia' euclidiana del estudiante al origen (0,0).\")"
   ]
  },
  {
   "cell_type": "code",
   "execution_count": null,
   "metadata": {},
   "outputs": [],
   "source": [
    "# === EJERCICIO GUIADO 3: Extraer Vectores de una Forma Geométrica ===\n",
    "\n",
    "# DATOS PROPORCIONADOS\n",
    "# Usaremos 'datos_linea'.\n",
    "print(\"Dataset Geométrico (Línea):\")\n",
    "display(datos_linea.head())\n",
    "\n",
    "# TODO 1: Extrae el primer punto (índice 0) y el último punto (índice -1) del DataFrame.\n",
    "# PISTA: Usa .iloc[...].values\n",
    "primer_punto = # COMPLETAR\n",
    "ultimo_punto = # COMPLETAR\n",
    "\n",
    "# TODO 2: Convierte ambos puntos en vectores de SageMath.\n",
    "vec_primero = # COMPLETAR\n",
    "vec_ultimo = # COMPLETAR\n",
    "\n",
    "# VERIFICACIÓN AUTOMÁTICA\n",
    "assert vec_primero.degree() == 2 and vec_ultimo.degree() == 2, \"Los objetos no son vectores 2D.\"\n",
    "print(\"\\n✅ ¡Correcto! Vectores extraídos:\")\n",
    "print(f\"- Primer vector: {vec_primero}\")\n",
    "print(f\"- Último vector: {vec_ultimo}\")\n",
    "\n",
    "# TODO 3: Grafica AMBOS vectores en el mismo plano usando plot_vector_2d.\n",
    "# No olvides pasar una lista de leyendas, como ['Primer Punto', 'Último Punto'].\n",
    "# COMPLETAR"
   ]
  },
  {
   "cell_type": "code",
   "execution_count": null,
   "metadata": {},
   "outputs": [],
   "source": [
    "# === EJERCICIO GUIADO 4: Identificar un Vector de Producto por Característica ===\n",
    "\n",
    "# DATOS PROPORCIONADOS\n",
    "# Usaremos 'datos_negocio'.\n",
    "\n",
    "# TODO 1: Encuentra la fila correspondiente al producto con el precio más bajo.\n",
    "# PISTA: Usa .sort_values(by='...') y luego .iloc[0].\n",
    "producto_mas_barato = # COMPLETAR\n",
    "\n",
    "# TODO 2: Convierte esta fila en un vector de SageMath.\n",
    "vec_barato = vector(producto_mas_barato.values)\n",
    "\n",
    "# VERIFICACIÓN AUTOMÁTICA\n",
    "min_price = datos_negocio['precio'].min()\n",
    "assert np.isclose(vec_barato[0], min_price), \"No has seleccionado el producto correcto.\"\n",
    "print(f\"✅ ¡Correcto! El producto más barato tiene el vector (Precio, Ventas): {vec_barato}\")\n",
    "\n",
    "# TODO 3: ¿Qué esperas de la componente 'ventas_mensuales' de este vector? ¿Será alta o baja?\n",
    "# Escribe tu respuesta en un comentario.\n",
    "\n",
    "# Respuesta: # COMPLETAR\n",
    "\n",
    "# Visualiza el vector para confirmar tu hipótesis.\n",
    "plot_vector_2d([vec_barato], legends=['Producto más barato'])"
   ]
  },
  {
   "cell_type": "code",
   "execution_count": null,
   "metadata": {},
   "outputs": [],
   "source": [
    "# === EJERCICIO GUIADO 5: Construir un Vector 3D ===\n",
    "\n",
    "# DATOS: Usaremos la versión completa del dataset de estudiantes.\n",
    "rng_temp = np.random.default_rng(123)\n",
    "datos_estudiantes_3d = create_student_performance_data(rng_temp, simplified=False, n_samples=10)[['horas_estudio', 'calificacion_previa', 'calificacion_examen']]\n",
    "print(\"Dataset 3D de Estudiantes:\")\n",
    "display(datos_estudiantes_3d.head())\n",
    "\n",
    "# TODO 1: Extrae los datos del estudiante en el índice 3 en un vector de SageMath.\n",
    "vec_estudiante_3d = # COMPLETAR\n",
    "\n",
    "# TODO 2: Calcula la magnitud del vector 3D.\n",
    "magnitud_3d = # COMPLETAR\n",
    "\n",
    "print(f\"\\n✅ Vector 3D: {vec_estudiante_3d}\")\n",
    "print(f\"✅ Magnitud: {magnitud_3d:.2f}\")\n",
    "\n",
    "# TODO 3: Crea un gráfico 3D interactivo para visualizar el vector.\n",
    "# PISTA: Usa plot() y .show(viewer='threejs').\n",
    "# COMPLETAR"
   ]
  },
  {
   "cell_type": "code",
   "execution_count": null,
   "metadata": {},
   "outputs": [],
   "source": [
    "# === EJERCICIO GUIADO 6: El Vector Nulo ===\n",
    "\n",
    "# TODO 1: Crea un vector nulo (cero) de dimensión 2.\n",
    "vector_nulo_2d = # COMPLETAR\n",
    "\n",
    "# TODO 2: Crea un vector nulo de dimensión 3.\n",
    "vector_nulo_3d = # COMPLETAR\n",
    "\n",
    "# TODO 3: Calcula la magnitud de ambos vectores.\n",
    "mag_2d = # COMPLETAR\n",
    "mag_3d = # COMPLETAR\n",
    "\n",
    "# VERIFICACIÓN\n",
    "assert mag_2d == 0 and mag_3d == 0, \"La magnitud del vector nulo debe ser 0.\"\n",
    "print(f\"✅ ¡Correcto! La magnitud de {vector_nulo_2d} es {mag_2d}.\")\n",
    "print(\"El vector nulo tiene magnitud cero y una dirección indefinida. Es simplemente el origen.\")\n",
    "\n",
    "# ¿Qué pasa si intentas graficarlo? Descomenta la línea de abajo y observa.\n",
    "# plot(vector_nulo_2d).show()"
   ]
  },
  {
   "cell_type": "code",
   "execution_count": null,
   "metadata": {},
   "outputs": [],
   "source": [
    "# === EJERCICIO GUIADO 7: Vector como Punto en el Espacio ===\n",
    "\n",
    "# Un vector puede verse como una flecha o como el punto final de esa flecha.\n",
    "# Vamos a visualizar ambas ideas a la vez.\n",
    "\n",
    "# TODO 1: Define un vector 'v' con componentes [5, 2].\n",
    "v = # COMPLETAR\n",
    "\n",
    "# TODO 2: Crea un gráfico del vector 'v' (una flecha).\n",
    "plot_flecha = # COMPLETAR\n",
    "\n",
    "# TODO 3: Crea un gráfico de un punto en las coordenadas (5, 2).\n",
    "# PISTA: Usa points([(5, 2)], color='red', size=40).\n",
    "plot_punto = # COMPLETAR\n",
    "\n",
    "# Visualización combinada\n",
    "print(\"Visualizando un vector como flecha y como punto final.\")\n",
    "(plot_flecha + plot_punto).show(aspect_ratio=1, gridlines=True)"
   ]
  },
  {
   "cell_type": "code",
   "execution_count": null,
   "metadata": {},
   "outputs": [],
   "source": [
    "# === EJERCICIO GUIADO 8: Identificando Outliers Visualmente ===\n",
    "\n",
    "# DATOS PROPORCIONADOS\n",
    "# Generamos datos con algunos outliers (valores atípicos).\n",
    "datos_con_outliers = create_edge_cases(rng, case_type=\"outliers\", n_samples=50)\n",
    "\n",
    "# TODO 1: Convierte CADA fila del DataFrame en un vector de SageMath.\n",
    "# PISTA: Usa una comprensión de lista: [vector(row) for row in dataframe.values]\n",
    "vectores_outliers = # COMPLETAR\n",
    "\n",
    "# TODO 2: Grafica todos los vectores usando plot_vector_2d.\n",
    "plot_all = # COMPLETAR\n",
    "\n",
    "# TODO 3: En un comentario, describe qué hace que los vectores outliers se vean diferentes.\n",
    "# ¿Es su magnitud, su dirección, o ambas cosas?\n",
    "\n",
    "# Respuesta: # COMPLETAR\n",
    "\n",
    "# VERIFICACIÓN VISUAL\n",
    "plot_all.show()"
   ]
  },
  {
   "cell_type": "markdown",
   "metadata": {},
   "source": [
    "--- \n",
    "# 5. Banco de Ejercicios Prácticos (30+)\n",
    "Ahora te toca a ti. Resuelve estos ejercicios para consolidar tu conocimiento. Están organizados por dificultad y contexto."
   ]
  },
  {
   "cell_type": "markdown",
   "metadata": {},
   "source": [
    "### Parte A: Fundamentos de Visualización 2D (Hilo Conductor)"
   ]
  },
  {
   "cell_type": "markdown",
   "metadata": {},
   "source": [
    "**A1 (🟢 Fácil):** Grafica el vector $\\vec{v} = [4, 2]$ usando `plot()` y `.show()`."
   ]
  },
  {
   "cell_type": "code",
   "execution_count": null,
   "metadata": {},
   "outputs": [],
   "source": []
  },
  {
   "cell_type": "markdown",
   "metadata": {},
   "source": [
    "**A2 (🟢 Fácil):** Grafica el vector $\\vec{u} = [-1, 3]$ con la función de ayuda `plot_vector_2d`."
   ]
  },
  {
   "cell_type": "code",
   "execution_count": null,
   "metadata": {},
   "outputs": [],
   "source": []
  },
  {
   "cell_type": "markdown",
   "metadata": {},
   "source": [
    "**A3 (🟢 Fácil):** Grafica los vectores $\\vec{a} = [2, 5]$ y $\\vec{b} = [5, 2]$ en el mismo plano. ¿Son iguales? ¿Por qué?"
   ]
  },
  {
   "cell_type": "code",
   "execution_count": null,
   "metadata": {},
   "outputs": [],
   "source": []
  },
  {
   "cell_type": "markdown",
   "metadata": {},
   "source": [
    "**A4 (🟢 Fácil):** Extrae el vector del estudiante en el índice 25 de `datos_estudiantes_simplificado` y visualízalo."
   ]
  },
  {
   "cell_type": "code",
   "execution_count": null,
   "metadata": {},
   "outputs": [],
   "source": []
  },
  {
   "cell_type": "markdown",
   "metadata": {},
   "source": [
    "**A5 (🟡 Medio):** Grafica el vector $\\vec{p} = [2, 1]$ y su opuesto, $-\\vec{p}$. ¿Qué relación geométrica observas en términos de dirección y magnitud?"
   ]
  },
  {
   "cell_type": "code",
   "execution_count": null,
   "metadata": {},
   "outputs": [],
   "source": []
  },
  {
   "cell_type": "markdown",
   "metadata": {},
   "source": [
    "**A6 (🟡 Medio):** Grafica los vectores de los estudiantes en los índices 5, 50 y 95 de `datos_estudiantes_simplificado` en el mismo gráfico. Usa leyendas para identificarlos."
   ]
  },
  {
   "cell_type": "code",
   "execution_count": null,
   "metadata": {},
   "outputs": [],
   "source": []
  },
  {
   "cell_type": "markdown",
   "metadata": {},
   "source": [
    "**A7 (🟡 Medio):** Encuentra al estudiante con el mayor número de horas de estudio en `datos_estudiantes_simplificado`. Crea un vector para este estudiante y visualízalo."
   ]
  },
  {
   "cell_type": "code",
   "execution_count": null,
   "metadata": {},
   "outputs": [],
   "source": []
  },
  {
   "cell_type": "markdown",
   "metadata": {},
   "source": [
    "**A8 (🔴 Reto):** Crea un scatter plot de todos los puntos en `datos_estudiantes_simplificado` usando `points()`. Luego, superpón los vectores de los estudiantes con la calificación más alta y más baja. ¿Confirma la visualización la relación esperada?"
   ]
  },
  {
   "cell_type": "code",
   "execution_count": null,
   "metadata": {},
   "outputs": [],
   "source": []
  },
  {
   "cell_type": "markdown",
   "metadata": {},
   "source": [
    "### Parte B: Intuición con Formas Geométricas"
   ]
  },
  {
   "cell_type": "markdown",
   "metadata": {},
   "source": [
    "**B1 (🟢 Fácil):** Extrae dos vectores cualesquiera del dataset `datos_circulo` y visualízalos. Comprueba si sus magnitudes son similares."
   ]
  },
  {
   "cell_type": "code",
   "execution_count": null,
   "metadata": {},
   "outputs": [],
   "source": []
  },
  {
   "cell_type": "markdown",
   "metadata": {},
   "source": [
    "**B2 (🟢 Fácil):** Extrae dos vectores cualesquiera del dataset `datos_linea` y visualízalos. ¿Apuntan en una dirección similar?"
   ]
  },
  {
   "cell_type": "code",
   "execution_count": null,
   "metadata": {},
   "outputs": [],
   "source": []
  },
  {
   "cell_type": "markdown",
   "metadata": {},
   "source": [
    "**B3 (🟡 Medio):** Genera un nuevo dataset de una parábola (`shape_type='parabola'`). Extrae 3 puntos de la parábola (uno cerca del origen, dos más lejanos) y grafica sus vectores. ¿Cómo cambia la \"pendiente\" de los vectores a medida que te alejas del origen?"
   ]
  },
  {
   "cell_type": "code",
   "execution_count": null,
   "metadata": {},
   "outputs": [],
   "source": []
  },
  {
   "cell_type": "markdown",
   "metadata": {},
   "source": [
    "**B4 (🟡 Medio):** Un **vector libre** no parte del origen. Va de un punto A a un punto B, y se calcula como $B-A$. Usando `datos_circulo`, elige dos puntos A y B, calcula el vector libre $\\vec{v} = B - A$ y visualízalo. Para visualizarlo desde el origen, simplemente usa `plot(v)`."
   ]
  },
  {
   "cell_type": "code",
   "execution_count": null,
   "metadata": {},
   "outputs": [],
   "source": []
  },
  {
   "cell_type": "markdown",
   "metadata": {},
   "source": [
    "**B5 (🔴 Reto):** Grafica un cuadrado en el plano 2D cuyos vértices son (1,1), (3,1), (3,3) y (1,3). Para ello, grafica los cuatro vectores que van desde el origen a cada uno de estos vértices."
   ]
  },
  {
   "cell_type": "code",
   "execution_count": null,
   "metadata": {},
   "outputs": [],
   "source": []
  },
  {
   "cell_type": "markdown",
   "metadata": {},
   "source": [
    "### Parte C: Aplicaciones en Contexto de Negocios"
   ]
  },
  {
   "cell_type": "markdown",
   "metadata": {},
   "source": [
    "**C1 (🟢 Fácil):** Del dataset `datos_negocio`, extrae y visualiza el vector del producto en el índice 50."
   ]
  },
  {
   "cell_type": "code",
   "execution_count": null,
   "metadata": {},
   "outputs": [],
   "source": []
  },
  {
   "cell_type": "markdown",
   "metadata": {},
   "source": [
    "**C2 (🟡 Medio):** Encuentra el producto con el mayor número de ventas en `datos_negocio`. Crea un vector para él y visualízalo. Compara su dirección con el del producto más caro (que probablemente tendrá pocas ventas)."
   ]
  },
  {
   "cell_type": "code",
   "execution_count": null,
   "metadata": {},
   "outputs": [],
   "source": []
  },
  {
   "cell_type": "markdown",
   "metadata": {},
   "source": [
    "**C3 (🟡 Medio):** Calcula la magnitud promedio de todos los vectores de productos en `datos_negocio`."
   ]
  },
  {
   "cell_type": "code",
   "execution_count": null,
   "metadata": {},
   "outputs": [],
   "source": []
  },
  {
   "cell_type": "markdown",
   "metadata": {},
   "source": [
    "**C4 (🔴 Reto):** Filtra `datos_negocio` para quedarte solo con los productos cuyo precio es mayor a 250. De este subconjunto, extrae y visualiza 3 vectores al azar. ¿En qué cuadrante del plano tienden a agruparse estos vectores?"
   ]
  },
  {
   "cell_type": "code",
   "execution_count": null,
   "metadata": {},
   "outputs": [],
   "source": []
  },
  {
   "cell_type": "markdown",
   "metadata": {},
   "source": [
    "### Parte D: Exploración en 3D"
   ]
  },
  {
   "cell_type": "markdown",
   "metadata": {},
   "source": [
    "**D1 (🟢 Fácil):** Grafica el vector 3D $\\vec{p} = [1, 2, 3]$ con el visor interactivo."
   ]
  },
  {
   "cell_type": "code",
   "execution_count": null,
   "metadata": {},
   "outputs": [],
   "source": []
  },
  {
   "cell_type": "markdown",
   "metadata": {},
   "source": [
    "**D2 (🟢 Fácil):** Grafica el vector 3D $\\vec{q} = [-2, 3, -1]$ con el visor interactivo."
   ]
  },
  {
   "cell_type": "code",
   "execution_count": null,
   "metadata": {},
   "outputs": [],
   "source": []
  },
  {
   "cell_type": "markdown",
   "metadata": {},
   "source": [
    "**D3 (🟡 Medio):** Grafica los vectores base canónicos en 3D: $\\vec{i} = [1, 0, 0]$, $\\vec{j} = [0, 1, 0]$ y $\\vec{k} = [0, 0, 1]$ en el mismo gráfico 3D. Usa `sum()` para combinar los plots."
   ]
  },
  {
   "cell_type": "code",
   "execution_count": null,
   "metadata": {},
   "outputs": [],
   "source": []
  },
  {
   "cell_type": "markdown",
   "metadata": {},
   "source": [
    "**D4 (🟡 Medio):** Genera un dataset de estudiantes completo (no simplificado) con 3 variables: `['horas_estudio', 'calificacion_previa', 'asistencia_porcentaje']`. Extrae al primer estudiante como un vector 3D y visualízalo."
   ]
  },
  {
   "cell_type": "code",
   "execution_count": null,
   "metadata": {},
   "outputs": [],
   "source": []
  },
  {
   "cell_type": "markdown",
   "metadata": {},
   "source": [
    "### Parte E: Práctica con Python/Matplotlib"
   ]
  },
  {
   "cell_type": "markdown",
   "metadata": {},
   "source": [
    "**E1 (🟢 Fácil):** Replica el ejercicio A1, graficando $\\vec{v} = [4, 2]$ con Matplotlib."
   ]
  },
  {
   "cell_type": "code",
   "execution_count": null,
   "metadata": {},
   "outputs": [],
   "source": [
    "# Template para Matplotlib\n",
    "fig, ax = plt.subplots(figsize=(5,5))\n",
    "v = np.array([4, 2])\n",
    "# Usa ax.quiver para dibujar la flecha desde el origen (0,0)\n",
    "ax.quiver(0, 0, v[0], v[1], angles='xy', scale_units='xy', scale=1, color='#009E73')\n",
    "ax.set_xlim(0, 5); ax.set_ylim(0, 5)\n",
    "ax.set_title(\"Vector con Matplotlib\")\n",
    "ax.set_aspect('equal'); ax.grid(True); plt.show()"
   ]
  },
  {
   "cell_type": "markdown",
   "metadata": {},
   "source": [
    "**E2 (🟡 Medio):** Replica el ejercicio A3, graficando $\\vec{a} = [2, 5]$ y $\\vec{b} = [5, 2]$ con Matplotlib en el mismo gráfico, con diferentes colores y una leyenda."
   ]
  },
  {
   "cell_type": "code",
   "execution_count": null,
   "metadata": {},
   "outputs": [],
   "source": []
  },
  {
   "cell_type": "markdown",
   "metadata": {},
   "source": [
    "**E3 (🔴 Reto):** Crea un scatter plot del `datos_negocio` usando Matplotlib (`ax.scatter`). Luego, superpón (con `ax.quiver`) los vectores del producto más caro y el más barato. Esto combina un gráfico de datos con la visualización de vectores específicos."
   ]
  },
  {
   "cell_type": "code",
   "execution_count": null,
   "metadata": {},
   "outputs": [],
   "source": []
  },
  {
   "cell_type": "markdown",
   "metadata": {},
   "source": [
    "### Parte F: Desafíos Conceptuales y de Dimensión"
   ]
  },
  {
   "cell_type": "markdown",
   "metadata": {},
   "source": [
    "**F1 (Conceptual):** ¿Cuál es la dimensión del vector nulo $\\vec{z} = [0, 0, 0]$? ¿Tiene magnitud? ¿Tiene dirección?"
   ]
  },
  {
   "cell_type": "markdown",
   "metadata": {},
   "source": [
    "**F2 (Conceptual):** Si tomas un vector del dataset `datos_estudiantes_simplificado`, ¿en qué espacio ($ℝ^n$) vive? ¿Y si tomas un vector del dataset completo de estudiantes con 5 variables?"
   ]
  },
  {
   "cell_type": "markdown",
   "metadata": {},
   "source": [
    "**F3 (🔴 Reto):** Crea tu propio \"vector personal\" de dimensión 4. Por ejemplo: `mi_vector = [edad, altura_cm, horas_sueño_promedio, tazas_cafe_diarias]`.\n",
    "1. Define el vector en SageMath.\n",
    "2. Calcula su magnitud (norma).\n",
    "3. Explica qué representa esta magnitud en tu contexto personal (es un número abstracto, ¡pero intenta darle un significado!).\n",
    "4. No puedes graficar un vector 4D, pero puedes graficar una proyección 2D. Grafica el vector `[edad, altura_cm]`."
   ]
  },
  {
   "cell_type": "code",
   "execution_count": null,
   "metadata": {},
   "outputs": [],
   "source": []
  },
  {
   "cell_type": "markdown",
   "metadata": {},
   "source": [
    "**F4 (🔴 Reto):** Vuelve a generar el `datos_estudiantes` pero en su versión completa (`simplified=False`) y con 200 muestras. Luego, selecciona únicamente las columnas `['calificacion_previa', 'asistencia_porcentaje', 'tutor_privado', 'calificacion_examen']`. Esto te dará un DataFrame con datos en $ℝ^4$. Verifica sus dimensiones con `.shape`. No necesitas graficarlo, solo comprueba que has creado con éxito vectores de 4 dimensiones."
   ]
  },
  {
   "cell_type": "code",
   "execution_count": null,
   "metadata": {},
   "outputs": [],
   "source": []
  },
  {
   "cell_type": "markdown",
   "metadata": {},
   "source": [
    "---"
   ]
  },
  {
   "cell_type": "markdown",
   "metadata": {},
   "source": [
    "## ✅ Mini-Quiz de Autoevaluación\n",
    "\n",
    "*Responde estas preguntas para verificar tu comprensión.*\n",
    "\n",
    "1. ¿Cuál es la dimensión del vector `[2, -1, 0, 5]` y en qué espacio vive?\n",
    "2. Si dos vectores tienen los mismos componentes pero en diferente orden (ej. `[1, 4]` y `[4, 1]`), ¿son el mismo vector? ¿Por qué?\n",
    "3. Verdadero o Falso: La magnitud de un vector puede ser negativa.\n",
    "4. ¿Qué representa un vector en el contexto de un dataset de Pandas?\n",
    "5. ¿Qué método usarías en un vector de SageMath para calcular su longitud?"
   ]
  },
  {
   "cell_type": "markdown",
   "metadata": {},
   "source": [
    "## 🚀 Próximos Pasos\n",
    "\n",
    "¡Felicidades por completar esta introducción! Has visualizado vectores en múltiples contextos y, más importante, has aprendido a generar, cargar y representar datos de diversas fuentes, un flujo de trabajo esencial.\n",
    "\n",
    "En el notebook **`1.1.1.2_Operaciones_Vectoriales.ipynb`**, aprenderás a manipular estos vectores. Descubrirás cómo sumar los datos de dos estudiantes, cómo \"escalar\" su rendimiento y por qué estas operaciones son la base de casi todo en machine learning. También analizaremos la eficiencia de estas operaciones (¡prepárate para la **vectorización**!)."
   ]
  }
 ],
 "metadata": {
  "kernelspec": {
   "display_name": "SageMath 10.x",
   "language": "sagemath",
   "name": "sagemath"
  },
  "language_info": {
   "codemirror_mode": {
    "name": "ipython",
    "version": 3
   },
   "file_extension": ".py",
   "mimetype": "text/x-python",
   "name": "python",
   "nbconvert_exporter": "python",
   "pygments_lexer": "ipython3",
   "version": "3.x.x"
  }
 },
 "nbformat": 4,
 "nbformat_minor": 4
}