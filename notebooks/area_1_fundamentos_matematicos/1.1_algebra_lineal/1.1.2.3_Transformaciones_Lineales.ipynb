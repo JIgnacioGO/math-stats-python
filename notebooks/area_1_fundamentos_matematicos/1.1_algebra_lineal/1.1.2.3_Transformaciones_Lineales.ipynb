{
 "cells": [
  {
   "cell_type": "markdown",
   "metadata": {},
   "source": [
    "# 1.1.2.3: Transformaciones Lineales, Base y Dimensión"
   ]
  },
  {
   "cell_type": "markdown",
   "metadata": {},
   "source": [
    "## Objetivos de Aprendizaje\n",
    "\n",
    "Al completar este notebook, serás capaz de:\n",
    "\n",
    "- **Definir** formalmente una **transformación lineal** y verificar sus propiedades (preservación de la suma y del escalado).\n",
    "- **Comprender** los conceptos de **Base** y **Dimensión** como los \"ladrillos\" y el \"tamaño\" de un espacio vectorial.\n",
    "- **Encontrar la matriz estándar** para una transformación lineal, derivando por qué este método funciona.\n",
    "- **Definir, calcular e interpretar** el **Kernel (espacio nulo)** y la **Imagen (espacio columna)** de una transformación.\n",
    "- **Conectar** estos conceptos con aplicaciones como el **Análisis de Componentes Principales (PCA)** y la detección de redundancia de datos."
   ]
  },
  {
   "cell_type": "code",
   "execution_count": null,
   "metadata": {
    "collapsed": true,
    "jupyter": {
     "source_hidden": true
    }
   },
   "outputs": [],
   "source": [
    "# --- Celda de Configuración (Oculta) ---\n",
    "%display latex\n",
    "import numpy as np\n",
    "import pandas as pd\n",
    "import matplotlib.pyplot as plt\n",
    "from scipy.linalg import null_space # Herramienta clave para el Kernel\n",
    "\n",
    "def plot_linear_transformation(matrix, ax=None, title=None):\n",
    "    standalone = ax is None\n",
    "    if standalone:\n",
    "        fig, ax = plt.subplots(figsize=(7, 7))\n",
    "    \n",
    "    limit = 4\n",
    "    ax.set_xlim(-limit, limit); ax.set_ylim(-limit, limit)\n",
    "    ax.set_aspect('equal'); ax.grid(True, linestyle='--')\n",
    "    ax.axhline(0, color='black', lw=0.5); ax.axvline(0, color='black', lw=0.5)\n",
    "    \n",
    "    # Transforma la cuadrícula\n",
    "    for i in range(-limit, limit + 1):\n",
    "        p1 = matrix @ np.array([i, -limit]); p2 = matrix @ np.array([i, limit])\n",
    "        ax.plot([p1[0], p2[0]], [p1[1], p2[1]], color='gray', lw=0.5, zorder=0)\n",
    "        p1 = matrix @ np.array([-limit, i]); p2 = matrix @ np.array([limit, i])\n",
    "        ax.plot([p1[0], p2[0]], [p1[1], p2[1]], color='gray', lw=0.5, zorder=0)\n",
    "    \n",
    "    # Transforma los vectores base\n",
    "    i_hat_T = matrix @ np.array([1, 0]); j_hat_T = matrix @ np.array([0, 1])\n",
    "    ax.quiver(0, 0, i_hat_T[0], i_hat_T[1], angles='xy', scale_units='xy', scale=1, color='#0072B2', zorder=2, label='T(î)')\n",
    "    ax.quiver(0, 0, j_hat_T[0], j_hat_T[1], angles='xy', scale_units='xy', scale=1, color='#E69F00', zorder=2, label='T(ĵ)')\n",
    "    \n",
    "    ax.legend()\n",
    "    if title:\n",
    "        ax.set_title(title)\n",
    "    elif standalone:\n",
    "        ax.set_title(f\"Transformación por la Matriz A = {np.round(matrix, 2).tolist()}\")\n",
    "        \n",
    "    if standalone:\n",
    "        plt.show()"
   ]
  },
  {
   "cell_type": "markdown",
   "metadata": {},
   "source": [
    "--- \n",
    "## ⚙️ El Arsenal de Datasets: Nuestra Fuente de Ejercicios\n",
    "\n",
    "Para un tema tan conceptual como las transformaciones lineales, la visualización es clave. Usaremos nuestros generadores para crear tanto datos estructurados (formas geométricas) como matrices con propiedades específicas (singulares, proyecciones) para hacer tangibles las ideas abstractas."
   ]
  },
  {
   "cell_type": "code",
   "execution_count": null,
   "metadata": {},
   "outputs": [],
   "source": [
    "# === CONFIGURACIÓN DE DATASETS ===\n",
    "from src.data_generation.create_student_performance import create_student_performance_data\n",
    "from src.data_generation.create_geometric_shapes import create_geometric_shapes\n",
    "from src.data_generation.create_special_matrices import create_special_matrices\n",
    "\n",
    "# Configuración centralizada de aleatoriedad para REPRODUCIBILIDAD\n",
    "rng = np.random.default_rng(seed=42)\n",
    "\n",
    "# === Generación de Datasets y Matrices para este Notebook ===\n",
    "\n",
    "# 💡 CONTEXTO PEDAGÓGICO: Hilo Conductor (Datos a transformar)\n",
    "# El dataset de estudiantes nos sirve como un ejemplo de 'nube de puntos' del mundo real.\n",
    "# Veremos cómo una transformación lineal afecta a la distribución de estos datos.\n",
    "datos_estudiantes = create_student_performance_data(rng, simplified=True, n_samples=100)\n",
    "\n",
    "# 💡 CONTEXTO PEDAGÓGICO: Lienzo para Transformaciones\n",
    "# Una forma geométrica bien definida es el mejor 'lienzo' para pintar nuestras transformaciones\n",
    "# y entender visualmente qué es una rotación, proyección o cizalla.\n",
    "datos_lienzo = create_geometric_shapes(rng, shape_type='circle', n_samples=100, noise_level=0)\n",
    "\n",
    "# 💡 CONTEXTO PEDAGÓGICO: Matrices para Kernel/Imagen\n",
    "# Para entender el Kernel y la Imagen, necesitamos matrices que no tengan rango completo.\n",
    "# Una matriz de proyección o una singular son ejemplos perfectos.\n",
    "matriz_proyeccion = np.array([[1, 0], [0, 0]])\n",
    "matriz_singular = create_special_matrices(rng, matrix_type='singular', size=(3, 3))\n",
    "\n",
    "print(\"Datasets y matrices generados y listos para usar.\")"
   ]
  },
  {
   "cell_type": "markdown",
   "metadata": {},
   "source": [
    "## 1. La Definición Formal de Transformación Lineal\n",
    "\n",
    "Una **transformación lineal** es una función $T$ que mapea vectores de un espacio a otro (e.g., de $\\mathbb{R}^n$ a $\\mathbb{R}^m$) de una forma que \"respeta\" la estructura del espacio vectorial. Específicamente, cumple dos reglas de oro:\n",
    "\n",
    "1.  **Preservación de la Suma:** $T(\\vec{u} + \\vec{v}) = T(\\vec{u}) + T(\\vec{v})$\n",
    "2.  **Preservación de la Multiplicación por Escalar:** $T(c\\vec{v}) = cT(\\vec{v})$\n",
    "\n",
    "**Consecuencias Geométricas:** Estas reglas implican que **el origen no se mueve** ($T(\\vec{0}) = \\vec{0}$), y **las líneas de la cuadrícula permanecen paralelas y equidistantes** tras la transformación. Cualquier transformación que curve las líneas o mueva el origen no es lineal."
   ]
  },
  {
   "cell_type": "markdown",
   "metadata": {},
   "source": [
    "### Ejemplo Demostrativo 1: Verificando la Linealidad (y la no linealidad)"
   ]
  },
  {
   "cell_type": "code",
   "execution_count": null,
   "metadata": {},
   "outputs": [],
   "source": [
    "# DATOS\n",
    "u = np.array([1, 2]); v = np.array([3, -1]); c = 2\n",
    "\n",
    "# CASO 1: Transformación Lineal (Rotación 90°)\n",
    "T_lineal = lambda x: np.array([-x[1], x[0]])\n",
    "lado_izq_suma = T_lineal(u + v)\n",
    "lado_der_suma = T_lineal(u) + T_lineal(v)\n",
    "print(\"--- Transformación Lineal (Rotación) ---\")\n",
    "print(f\"T(u+v) = {lado_izq_suma}, T(u)+T(v) = {lado_der_suma}\")\n",
    "print(f\"¿Propiedad de suma se cumple? {np.allclose(lado_izq_suma, lado_der_suma)}\")\n",
    "\n",
    "# CASO 2: Transformación NO Lineal (Traslación)\n",
    "T_no_lineal = lambda x: x + np.array([1, 1])\n",
    "lado_izq_suma_nl = T_no_lineal(u + v)\n",
    "lado_der_suma_nl = T_no_lineal(u) + T_no_lineal(v)\n",
    "print(\"\\n--- Transformación NO Lineal (Traslación) ---\")\n",
    "print(f\"T(u+v) = {lado_izq_suma_nl}, T(u)+T(v) = {lado_der_suma_nl}\")\n",
    "print(f\"¿Propiedad de suma se cumple? {np.allclose(lado_izq_suma_nl, lado_der_suma_nl)}\")\n",
    "print(\"La traslación no es lineal porque el origen se mueve y la suma no se preserva.\")"
   ]
  },
  {
   "cell_type": "markdown",
   "metadata": {},
   "source": [
    "## 2. El Rol de la Base: Los \"Ladrillos\" del Espacio\n",
    "\n",
    "Una **Base** para un espacio vectorial es un conjunto de vectores que cumple dos condiciones:\n",
    "1.  Es **linealmente independiente** (no hay información redundante).\n",
    "2.  **Genera (spans)** todo el espacio (puedes construir cualquier vector del espacio con ellos).\n",
    "\n",
    "Una base es el conjunto de \"ladrillos\" mínimo y no redundante necesario para construir un espacio. La **dimensión** de un espacio vectorial es simplemente el **número de vectores** en cualquiera de sus bases. Para $\\mathbb{R}^n$, la dimensión es $n$.\n",
    "\n",
    "> **Aplicación a Data Science (PCA):** El **Análisis de Componentes Principales (PCA)** es un algoritmo para encontrar una **nueva base** más eficiente para describir los datos. Los componentes principales (vectores propios de la matriz de covarianza) son los vectores de esta nueva base, ordenados por la cantidad de varianza que explican. Cambiar de base es cambiar nuestro \"punto de vista\" para ver los datos de una forma más informativa."
   ]
  },
  {
   "cell_type": "markdown",
   "metadata": {},
   "source": [
    "### Ejemplo Demostrativo 2: Distintas Bases para el mismo Espacio"
   ]
  },
  {
   "cell_type": "code",
   "execution_count": null,
   "metadata": {},
   "outputs": [],
   "source": [
    "# La base canónica es nuestro sistema de coordenadas estándar (ejes X e Y)\n",
    "e1 = np.array([1, 0])\n",
    "e2 = np.array([0, 1])\n",
    "\n",
    "# Esta es otra base válida para R^2. Está rotada y no es ortogonal.\n",
    "b1 = np.array([2, 1])\n",
    "b2 = np.array([-1, 1])\n",
    "\n",
    "# Un vector v\n",
    "v = np.array([3, 5])\n",
    "\n",
    "# Encontramos las coordenadas de v en la nueva base resolviendo B*c = v\n",
    "B = np.column_stack([b1, b2])\n",
    "coords_en_B = np.linalg.solve(B, v)\n",
    "\n",
    "print(f\"El vector v = {v} en la base canónica.\")\n",
    "print(f\"Para construirlo en la nueva base necesitamos {coords_en_B[0]:.2f} del vector b1 y {coords_en_B[1]:.2f} del vector b2.\")\n",
    "print(f\"Verificación: {coords_en_B[0]:.2f} * {b1} + {coords_en_B[1]:.2f} * {b2} = {coords_en_B[0]*b1 + coords_en_B[1]*b2}\")\n"
   ]
  },
  {
   "cell_type": "markdown",
   "metadata": {},
   "source": [
    "## 3. La Matriz Estándar de una Transformación Lineal\n",
    "\n",
    "**Teorema Fundamental:** Toda transformación lineal $T: \\mathbb{R}^n \\to \\mathbb{R}^m$ puede ser representada por la multiplicación por una única matriz $A$ de dimensión $m \\times n$, tal que $T(\\vec{x}) = A\\vec{x}$.\n",
    "\n",
    "Gracias a la linealidad, solo necesitamos saber a dónde van a parar los vectores de la base canónica ($\\{\\vec{e_1}, \\vec{e_2}, \\dots, \\vec{e_n}\\}$) para conocer toda la transformación.\n",
    "\n",
    "**El \"Truco\" para Encontrar la Matriz A:** Las columnas de la matriz $A$ son, simple y elegantemente, las transformaciones de los vectores de la base canónica.\n",
    "$$ A = [ \\ T(\\vec{e_1}) \\ | \\ T(\\vec{e_2}) \\ | \\ \\dots \\ | \\ T(\\vec{e_n}) \\ ] $$"
   ]
  },
  {
   "cell_type": "markdown",
   "metadata": {},
   "source": [
    "### Ejemplo Demostrativo 3: Construyendo una Matriz de Transformación\n",
    "**Problema:** Encontrar la matriz 2x2 para la transformación $T$ que rota 90° en sentido antihorario y luego aplica una cizalla (shear) horizontal (sumando la coordenada y a la x)."
   ]
  },
  {
   "cell_type": "code",
   "execution_count": null,
   "metadata": {},
   "outputs": [],
   "source": [
    "# 1. Definimos los vectores de la base canónica\n",
    "e1 = np.array([1, 0])\n",
    "e2 = np.array([0, 1])\n",
    "\n",
    "# 2. Aplicamos la transformación a e1\n",
    "# Rotar [1, 0] -> [0, 1]. Cizallar [0, 1] -> [0+1, 1] = [1, 1]\n",
    "T_e1 = np.array([1, 1])\n",
    "\n",
    "# 3. Aplicamos la transformación a e2\n",
    "# Rotar [0, 1] -> [-1, 0]. Cizallar [-1, 0] -> [-1+0, 0] = [-1, 0]\n",
    "T_e2 = np.array([-1, 0])\n",
    "\n",
    "# 4. Ensamblamos la matriz con los resultados como columnas\n",
    "A = np.column_stack([T_e1, T_e2])\n",
    "\n",
    "print(f\"La primera columna de A es T(e1) = {T_e1}\")\n",
    "print(f\"La segunda columna de A es T(e2) = {T_e2}\")\n",
    "print(f\"\\nMatriz de transformación estándar A:\\n{A}\")\n",
    "\n",
    "# 5. Verificación visual\n",
    "plot_linear_transformation(A, title='Transformación Compuesta: Rotación + Cizalla')"
   ]
  },
  {
   "cell_type": "markdown",
   "metadata": {},
   "source": [
    "## 4. Kernel e Imagen: Los Subespacios Fundamentales\n",
    "\n",
    "Toda transformación lineal tiene dos subespacios asociados que la describen completamente:\n",
    "\n",
    "- **Imagen (o Espacio Columna):** Es el **rango** de la transformación; el conjunto de todos los posibles vectores de salida. Corresponde al **span de las columnas** de la matriz $A$. Su dimensión es el **rango** de la matriz.\n",
    "\n",
    "- **Kernel (o Espacio Nulo):** El conjunto de todos los vectores de entrada $\\vec{v}$ que son \"aplastados\" al origen por la transformación ($T(\\vec{v}) = A\\vec{v} = \\vec{0}$). Si el Kernel contiene más que el vector cero, la transformación está perdiendo dimensiones.\n",
    "\n",
    "> **Aplicación a Data Science:**\n",
    "> - La **Imagen** (espacio columna) de una matriz de datos es el universo de todas las posibles predicciones que un modelo lineal puede generar.\n",
    "> - Un **Kernel** no trivial ($\\{\\vec{0}\\}$) implica que la matriz es singular, sus columnas son linealmente dependientes y existe **multicolinealidad**."
   ]
  },
  {
   "cell_type": "markdown",
   "metadata": {},
   "source": [
    "### Ejemplo Demostrativo 4: Analizando el Kernel y la Imagen de una Proyección"
   ]
  },
  {
   "cell_type": "code",
   "execution_count": null,
   "metadata": {},
   "outputs": [],
   "source": [
    "# 1. DATOS: Una matriz de proyección 3D -> 2D\n",
    "A = np.array([[1, 0, 2], [0, 1, -1], [0, 0, 0]]) # Proyecta sobre el plano x-y (de forma no ortogonal)\n",
    "\n",
    "# 2. IMAGEN (Espacio Columna)\n",
    "# La imagen es el span de las columnas. Las dos primeras son independientes.\n",
    "# La tercera es una combinación de las dos primeras. Por tanto, la imagen es un plano 2D en R^3.\n",
    "rango = np.linalg.matrix_rank(A)\n",
    "print(f\"--- ANÁLISIS DE LA IMAGEN ---\")\n",
    "print(f\"El rango de A es {rango}, por lo que la dimensión de la Imagen es {rango}.\")\n",
    "print(\"Interpretación: Aunque los vectores de entrada están en 3D, todas las salidas viven en un plano 2D.\")\n",
    "\n",
    "# 3. KERNEL (Espacio Nulo)\n",
    "# Usamos scipy.linalg.null_space para encontrar una base para el kernel.\n",
    "base_kernel = null_space(A)\n",
    "print(f\"\\n--- ANÁLISIS DEL KERNEL ---\")\n",
    "print(f\"Una base para el Kernel de A es:\\n{np.round(base_kernel, 2)}\")\n",
    "print(f\"La dimensión del Kernel (nulidad) es {base_kernel.shape[1]}.\")\n",
    "\n",
    "# 4. TEOREMA RANGO-NULIDAD\n",
    "nulidad = base_kernel.shape[1]\n",
    "num_columnas = A.shape[1]\n",
    "print(f\"\\nVerificación del Teorema Rango-Nulidad: Rango({rango}) + Nulidad({nulidad}) = {rango + nulidad} (Número de columnas)\")\n",
    "\n",
    "# Verificamos que un vector en el kernel es mapeado a cero\n",
    "v_en_kernel = base_kernel[:, 0]\n",
    "resultado = A @ v_en_kernel\n",
    "print(f\"\\nAplicando A a un vector del Kernel: A @ v_k = {np.round(resultado, 5)}\")"
   ]
  },
  {
   "cell_type": "markdown",
   "metadata": {},
   "source": [
    "---\n",
    "## 4. Ejercicios Guiados con Scaffolding (8+)\n",
    "Rellena las partes marcadas con `# COMPLETAR` para afianzar tu comprensión."
   ]
  },
  {
   "cell_type": "markdown",
   "metadata": {},
   "source": [
    "### === EJERCICIO GUIADO 1: Verificar Propiedades de Linealidad ==="
   ]
  },
  {
   "cell_type": "code",
   "execution_count": null,
   "metadata": {},
   "outputs": [],
   "source": [
    "# DATOS: Una matriz de transformación y dos vectores.\n",
    "T = np.array([[2, -1], [1, 1]])\n",
    "u = np.array([2, 3])\n",
    "v = np.array([-1, 4])\n",
    "\n",
    "# TODO 1: Verifica la propiedad de la suma T(u+v) = T(u) + T(v)\n",
    "lado_izquierdo = # COMPLETAR. Aplica T a la suma de u y v.\n",
    "lado_derecho = # COMPLETAR. Suma los resultados de aplicar T a u y v por separado.\n",
    "\n",
    "# VERIFICACIÓN AUTOMÁTICA\n",
    "assert np.allclose(lado_izquierdo, lado_derecho), \"La propiedad de la suma no se cumple.\"\n",
    "print(f\"✅ Propiedad de la suma verificada: {lado_izquierdo} == {lado_derecho}\")"
   ]
  },
  {
   "cell_type": "markdown",
   "metadata": {},
   "source": [
    "### === EJERCICIO GUIADO 2: Encontrar la Matriz Estándar (Simple) ==="
   ]
  },
  {
   "cell_type": "code",
   "execution_count": null,
   "metadata": {},
   "outputs": [],
   "source": [
    "# DESCRIPCIÓN: Una transformación T: R^2 -> R^2 que refleja los puntos sobre el eje X.\n",
    "\n",
    "# TODO 1: Encuentra a dónde va a parar el primer vector base e1 = [1, 0].\n",
    "T_e1 = # COMPLETAR\n",
    "\n",
    "# TODO 2: Encuentra a dónde va a parar el segundo vector base e2 = [0, 1].\n",
    "T_e2 = # COMPLETAR\n",
    "\n",
    "# TODO 3: Ensambla la matriz estándar A usando T_e1 y T_e2 como columnas.\n",
    "A = # COMPLETAR\n",
    "\n",
    "# VERIFICACIÓN AUTOMÁTICA\n",
    "A_esperada = np.array([[1, 0], [0, -1]])\n",
    "assert np.allclose(A, A_esperada), \"La matriz estándar es incorrecta.\"\n",
    "print(f\"✅ Matriz de reflexión sobre el eje X encontrada correctamente:\\n{A}\")"
   ]
  },
  {
   "cell_type": "markdown",
   "metadata": {},
   "source": [
    "### === EJERCICIO GUIADO 3: Encontrar Matriz Estándar (R^2 -> R^3) ==="
   ]
  },
  {
   "cell_type": "code",
   "execution_count": null,
   "metadata": {},
   "outputs": [],
   "source": [
    "# DESCRIPCIÓN: Una transformación T: R^2 -> R^3 que mapea (x, y) a (x, y, x+y).\n",
    "\n",
    "# TODO 1: Aplica la transformación a e1 = [1, 0].\n",
    "T_e1 = # COMPLETAR\n",
    "\n",
    "# TODO 2: Aplica la transformación a e2 = [0, 1].\n",
    "T_e2 = # COMPLETAR\n",
    "\n",
    "# TODO 3: Ensambla la matriz A. ¿Qué forma (dimensiones) debería tener?\n",
    "A = # COMPLETAR\n",
    "\n",
    "# VERIFICACIÓN\n",
    "assert A.shape == (3, 2), \"La forma de la matriz es incorrecta para un mapeo R^2 -> R^3.\"\n",
    "assert np.allclose(A @ np.array([2, 3]), np.array([2, 3, 5])), \"La matriz no transforma correctamente un vector de prueba.\"\n",
    "print(f\"✅ Matriz estándar R^2 -> R^3 encontrada:\\n{A}\")"
   ]
  },
  {
   "cell_type": "markdown",
   "metadata": {},
   "source": [
    "### === EJERCICIO GUIADO 4: Comprobar si un conjunto es una Base ==="
   ]
  },
  {
   "cell_type": "code",
   "execution_count": null,
   "metadata": {},
   "outputs": [],
   "source": [
    "# DATOS: Un conjunto de 3 vectores en R^3.\n",
    "v1 = np.array([1, 2, 3]); v2 = np.array([0, 1, 2]); v3 = np.array([-1, 0, 3])\n",
    "\n",
    "# Para ser una base de R^3, un conjunto debe tener 3 vectores linealmente independientes.\n",
    "\n",
    "# TODO 1: Crea una matriz B con estos vectores como columnas.\n",
    "B = # COMPLETAR\n",
    "\n",
    "# TODO 2: Calcula el rango de la matriz B.\n",
    "rango_B = # COMPLETAR\n",
    "\n",
    "# TODO 3: Escribe una condición booleana para determinar si es una base.\n",
    "# PISTA: ¿Cómo se compara el rango con el número de vectores?\n",
    "es_una_base = # COMPLETAR\n",
    "\n",
    "assert es_una_base, \"Estos vectores deberían formar una base.\"\n",
    "print(f\"✅ El conjunto es una base para R^3 porque tiene 3 vectores y su rango es {rango_B}.\")"
   ]
  },
  {
   "cell_type": "markdown",
   "metadata": {},
   "source": [
    "### === EJERCICIO GUIADO 5: Encontrar Coordenadas en una Nueva Base ==="
   ]
  },
  {
   "cell_type": "code",
   "execution_count": null,
   "metadata": {},
   "outputs": [],
   "source": [
    "# DATOS: La base B del ejercicio anterior y un vector 'v'.\n",
    "B = np.column_stack([[1, 2, 3], [0, 1, 2], [-1, 0, 3]])\n",
    "v = np.array([8, 7, 6])\n",
    "\n",
    "# Queremos encontrar los coeficientes 'c' tal que B @ c = v.\n",
    "\n",
    "# TODO: Resuelve el sistema de ecuaciones para encontrar el vector de coordenadas 'c'.\n",
    "# PISTA: Usa np.linalg.solve().\n",
    "c = # COMPLETAR\n",
    "\n",
    "# VERIFICACIÓN\n",
    "assert np.allclose(B @ c, v), \"La combinación lineal de las coordenadas no reconstruye el vector original.\"\n",
    "print(f\"El vector v = {v} se representa como {np.round(c, 2)} en la base B.\")"
   ]
  },
  {
   "cell_type": "markdown",
   "metadata": {},
   "source": [
    "### === EJERCICIO GUIADO 6: Encontrar el Kernel (Espacio Nulo) ==="
   ]
  },
  {
   "cell_type": "code",
   "execution_count": null,
   "metadata": {},
   "outputs": [],
   "source": [
    "# DATOS: Una matriz 3x3 con columnas linealmente dependientes.\n",
    "A = np.array([[1, 2, 3], [4, 5, 6], [7, 8, 9]])\n",
    "\n",
    "# TODO: Usa la función importada `null_space` para encontrar una base para el kernel de A.\n",
    "base_del_kernel = # COMPLETAR\n",
    "\n",
    "# VERIFICACIÓN\n",
    "# 1. El resultado no debe estar vacío.\n",
    "assert base_del_kernel.shape[1] > 0, \"Esta matriz debería tener un kernel no trivial.\"\n",
    "# 2. Al multiplicar la matriz por un vector del kernel, el resultado debe ser (casi) cero.\n",
    "vector_del_kernel = base_del_kernel[:, 0] # Tomamos el primer (y único) vector de la base\n",
    "resultado = A @ vector_del_kernel\n",
    "assert np.allclose(resultado, np.zeros(3)), \"A @ v_k no es el vector cero.\"\n",
    "print(\"✅ Base para el Kernel encontrada correctamente.\")\n",
    "print(f\"Un vector que es 'aplastado' al origen por A es {np.round(vector_del_kernel, 2)}.\")"
   ]
  },
  {
   "cell_type": "markdown",
   "metadata": {},
   "source": [
    "--- \n",
    "# 5. Banco de Ejercicios Prácticos (30+)\n",
    "Ahora te toca a ti. Resuelve estos ejercicios para consolidar tu conocimiento."
   ]
  },
  {
   "cell_type": "markdown",
   "metadata": {},
   "source": [
    "### Parte A: Verificación de Linealidad (Conceptuales)"
   ]
  },
  {
   "cell_type": "markdown",
   "metadata": {},
   "source": [
    "**A1 (🟢 Fácil):** ¿Es la transformación $T(\\vec{v}) = 5\\vec{v}$ lineal? Verifica las dos propiedades con un ejemplo numérico."
   ]
  },
  {
   "cell_type": "code",
   "execution_count": null,
   "metadata": {},
   "outputs": [],
   "source": []
  },
  {
   "cell_type": "markdown",
   "metadata": {},
   "source": [
    "**A2 (🟢 Fácil):** ¿Es la transformación $T(x, y) = (x+y, x-y)$ lineal? Verifica las dos propiedades."
   ]
  },
  {
   "cell_type": "code",
   "execution_count": null,
   "metadata": {},
   "outputs": [],
   "source": []
  },
  {
   "cell_type": "markdown",
   "metadata": {},
   "source": [
    "**A3 (🟡 Medio):** ¿Es la transformación $T(x, y) = (xy, y)$ lineal? Justifica tu respuesta mostrando cuál de las dos propiedades falla."
   ]
  },
  {
   "cell_type": "code",
   "execution_count": null,
   "metadata": {},
   "outputs": [],
   "source": []
  },
  {
   "cell_type": "markdown",
   "metadata": {},
   "source": [
    "**A4 (🟡 Medio):** ¿Es la transformación \"calcular la norma L2\", $T(\\vec{v}) = ||\\vec{v}||_2$, una transformación lineal de $\\mathbb{R}^2 \\to \\mathbb{R}$? Justifica."
   ]
  },
  {
   "cell_type": "code",
   "execution_count": null,
   "metadata": {},
   "outputs": [],
   "source": []
  },
  {
   "cell_type": "markdown",
   "metadata": {},
   "source": [
    "### Parte B: Encontrar la Matriz Estándar"
   ]
  },
  {
   "cell_type": "markdown",
   "metadata": {},
   "source": [
    "**B1 (🟢 Fácil):** Encuentra la matriz estándar para la transformación $T(x, y) = (y, x)$ (una reflexión sobre la línea y=x)."
   ]
  },
  {
   "cell_type": "code",
   "execution_count": null,
   "metadata": {},
   "outputs": [],
   "source": []
  },
  {
   "cell_type": "markdown",
   "metadata": {},
   "source": [
    "**B2 (🟢 Fácil):** Encuentra la matriz estándar para la transformación de proyección sobre el eje y, $T(x,y) = (0, y)$."
   ]
  },
  {
   "cell_type": "code",
   "execution_count": null,
   "metadata": {},
   "outputs": [],
   "source": []
  },
  {
   "cell_type": "markdown",
   "metadata": {},
   "source": [
    "**B3 (🟡 Medio):** Encuentra la matriz estándar para la transformación $T: \\mathbb{R}^2 \\to \\mathbb{R}^2$ que rota los vectores 180 grados."
   ]
  },
  {
   "cell_type": "code",
   "execution_count": null,
   "metadata": {},
   "outputs": [],
   "source": []
  },
  {
   "cell_type": "markdown",
   "metadata": {},
   "source": [
    "**B4 (🟡 Medio):** Encuentra la matriz estándar para la transformación $T: \\mathbb{R}^3 \\to \\mathbb{R}^2$ definida por $T(x, y, z) = (x+z, y-z)$."
   ]
  },
  {
   "cell_type": "code",
   "execution_count": null,
   "metadata": {},
   "outputs": [],
   "source": []
  },
  {
   "cell_type": "markdown",
   "metadata": {},
   "source": [
    "**B5 (🔴 Reto):** Encuentra la matriz estándar para la transformación $T: \\mathbb{R}^2 \\to \\mathbb{R}^2$ que primero aplica una cizalla vertical ($T(x,y)=(x, y+0.5x)$) y luego refleja sobre el eje y."
   ]
  },
  {
   "cell_type": "code",
   "execution_count": null,
   "metadata": {},
   "outputs": [],
   "source": []
  },
  {
   "cell_type": "markdown",
   "metadata": {},
   "source": [
    "### Parte C: Bases y Dimensión"
   ]
  },
  {
   "cell_type": "markdown",
   "metadata": {},
   "source": [
    "**C1 (🟢 Fácil):** ¿El conjunto `{[1, 2], [2, 4]}` forma una base para ℝ²? Justifica."
   ]
  },
  {
   "cell_type": "code",
   "execution_count": null,
   "metadata": {},
   "outputs": [],
   "source": []
  },
  {
   "cell_type": "markdown",
   "metadata": {},
   "source": [
    "**C2 (🟢 Fácil):** ¿Cuántos vectores necesitas para formar una base de $\\mathbb{R}^4$?"
   ]
  },
  {
   "cell_type": "markdown",
   "metadata": {},
   "source": [
    "**C3 (🟡 Medio):** Verifica si el conjunto de vectores `{[1,0,1], [1,1,0], [0,1,1]}` forma una base para $\\mathbb{R}^3$."
   ]
  },
  {
   "cell_type": "code",
   "execution_count": null,
   "metadata": {},
   "outputs": [],
   "source": []
  },
  {
   "cell_type": "markdown",
   "metadata": {},
   "source": [
    "**C4 (🔴 Reto):** Considera la base $B = \\{ [1,1], [-1,1] \\}$. Encuentra las coordenadas del vector $\\vec{v}=[5, 3]$ en esta base $B$."
   ]
  },
  {
   "cell_type": "code",
   "execution_count": null,
   "metadata": {},
   "outputs": [],
   "source": []
  },
  {
   "cell_type": "markdown",
   "metadata": {},
   "source": [
    "### Parte D: Kernel e Imagen"
   ]
  },
  {
   "cell_type": "markdown",
   "metadata": {},
   "source": [
    "**D1 (🟢 Fácil):** Describe geométricamente la Imagen y el Kernel de una rotación de 45 grados en $\\mathbb{R}^2$."
   ]
  },
  {
   "cell_type": "markdown",
   "metadata": {},
   "source": [
    "**D2 (🟡 Medio):** Encuentra una base para la Imagen de la matriz $A = [[1, 2, 3], [4, 5, 6]]$. (Pista: el espacio columna)."
   ]
  },
  {
   "cell_type": "code",
   "execution_count": null,
   "metadata": {},
   "outputs": [],
   "source": []
  },
  {
   "cell_type": "markdown",
   "metadata": {},
   "source": [
    "**D3 (🟡 Medio):** Encuentra una base para el Kernel de la matriz del ejercicio anterior, $A = [[1, 2, 3], [4, 5, 6]]$. Verifica el teorema Rango-Nulidad."
   ]
  },
  {
   "cell_type": "code",
   "execution_count": null,
   "metadata": {},
   "outputs": [],
   "source": []
  },
  {
   "cell_type": "markdown",
   "metadata": {},
   "source": [
    "**D4 (🔴 Reto):** Construye una matriz 3x3 (que no sea la matriz cero) cuya Imagen sea una línea y su Kernel sea un plano. (Pista: piensa en una matriz de rango 1)."
   ]
  },
  {
   "cell_type": "code",
   "execution_count": null,
   "metadata": {},
   "outputs": [],
   "source": []
  },
  {
   "cell_type": "markdown",
   "metadata": {},
   "source": [
    "---"
   ]
  },
  {
   "cell_type": "markdown",
   "metadata": {},
   "source": [
    "## ✅ Mini-Quiz de Autoevaluación\n",
    "\n",
    "1. ¿Cuáles son las dos condiciones que debe cumplir una función para ser una transformación lineal?\n",
    "2. Si una transformación lineal $T: \\mathbb{R}^2 \\to \\mathbb{R}^2$ transforma $\\vec{e_1}$ en $[5,0]$ y $\\vec{e_2}$ en $[1,2]$, ¿cuál es su matriz estándar?\n",
    "3. Si el kernel de una transformación $T: \\mathbb{R}^5 \\to \\mathbb{R}^5$ tiene dimensión 2, ¿cuál es la dimensión de su imagen?\n",
    "4. Verdadero o Falso: Cualquier conjunto de 3 vectores en $\\mathbb{R}^3$ forma una base para $\\mathbb{R}^3$."
   ]
  },
  {
   "cell_type": "markdown",
   "metadata": {},
   "source": [
    "## 🚀 Próximos Pasos\n",
    "\n",
    "Hemos sentado las bases teóricas de las transformaciones. Ahora estamos listos para explorar propiedades más profundas y herramientas para analizarlas.\n",
    "\n",
    "- En **`1.1.3.1_Producto_Punto`**, exploraremos una operación que nos permite medir ángulos y proyecciones, propiedades geométricas clave que son alteradas por estas transformaciones y que son fundamentales para algoritmos como SVM y OLS."
   ]
  }
 ],
 "metadata": {
  "kernelspec": {
   "display_name": "SageMath 10.x",
   "language": "sagemath",
   "name": "sagemath"
  },
  "language_info": {
   "codemirror_mode": {
    "name": "ipython",
    "version": 3
   },
   "file_extension": ".py",
   "mimetype": "text/x-python",
   "name": "python",
   "nbconvert_exporter": "python",
   "pygments_lexer": "ipython3",
   "version": "3.x.x"
  }
 },
 "nbformat": 4,
 "nbformat_minor": 4
}
