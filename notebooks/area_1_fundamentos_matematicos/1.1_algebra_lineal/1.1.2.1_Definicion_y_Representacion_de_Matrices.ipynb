{
 "cells": [
  {
   "cell_type": "markdown",
   "metadata": {},
   "source": [
    "# 1.1.2.1: Definición, Representación e Independencia Lineal de Matrices"
   ]
  },
  {
   "cell_type": "markdown",
   "metadata": {},
   "source": [
    "## Objetivos de Aprendizaje\n",
    "\n",
    "Al completar este notebook, serás capaz de:\n",
    "\n",
    "- **Definir** qué es una matriz, sus dimensiones ($m \\times n$), filas y columnas, usando datasets como ejemplo.\n",
    "- **Representar** matrices en Python con NumPy y acceder a sus elementos, filas y columnas.\n",
    "- **Generar y reconocer** matrices especiales (identidad, diagonal, simétrica, singular) y calcular la **transpuesta**.\n",
    "- **Definir** la **Independencia Lineal** de los vectores columna de una matriz y calcular su **rango**.\n",
    "- **Conectar** la dependencia lineal con el problema práctico de la **multicolinealidad** en ciencia de datos."
   ]
  },
  {
   "cell_type": "code",
   "execution_count": null,
   "metadata": {
    "collapsed": true,
    "jupyter": {
     "source_hidden": true
    }
   },
   "outputs": [],
   "source": [
    "# --- Celda de Configuración (Oculta) ---\n",
    "%display latex\n",
    "import numpy as np\n",
    "import pandas as pd\n",
    "import matplotlib.pyplot as plt\n",
    "import seaborn as sns # Para visualizaciones más atractivas\n",
    "\n",
    "def plot_matrix(matrix, title=\"Visualización de Matriz\", ax=None, cmap='viridis'):\n",
    "    \"\"\"Función mejorada para visualizar una matriz con un heatmap.\"\"\"\n",
    "    if not isinstance(matrix, np.ndarray):\n",
    "        matrix = np.array(matrix, dtype=float)\n",
    "    \n",
    "    standalone = ax is None\n",
    "    if standalone:\n",
    "        fig, ax = plt.subplots(figsize=(5, 4))\n",
    "    \n",
    "    sns.heatmap(matrix, annot=matrix.size <= 100, fmt=\".2f\", cmap=cmap, cbar=True, ax=ax, linewidths=.5)\n",
    "    ax.set_title(title)\n",
    "    ax.tick_params(axis='both', which='both', length=0) # Ocultar ticks\n",
    "    \n",
    "    if standalone:\n",
    "        plt.show()"
   ]
  },
  {
   "cell_type": "markdown",
   "metadata": {},
   "source": [
    "--- \n",
    "## ⚙️ El Arsenal de Datasets: Nuestra Fuente de Ejercicios\n",
    "\n",
    "Para este notebook, donde la estructura de los datos es el concepto central, nuestro arsenal de generadores es más importante que nunca. Nos permitirá crear al instante matrices con propiedades específicas para explorar cada idea."
   ]
  },
  {
   "cell_type": "code",
   "execution_count": null,
   "metadata": {},
   "outputs": [],
   "source": [
    "# === CONFIGURACIÓN DE DATASETS ===\n",
    "from src.data_generation.create_student_performance import create_student_performance_data\n",
    "from src.data_generation.create_business_data import create_business_data\n",
    "from src.data_generation.create_special_matrices import create_special_matrices\n",
    "from src.data_generation.create_edge_cases import create_edge_cases\n",
    "\n",
    "# Configuración centralizada de aleatoriedad para REPRODUCIBILIDAD\n",
    "rng = np.random.default_rng(seed=42)\n",
    "\n",
    "# === Generación de Datasets para este Notebook ===\n",
    "\n",
    "# 💡 CONTEXTO PEDAGÓGICO: Hilo Conductor (Observaciones vs Features)\n",
    "# La matriz de estudiantes es el ejemplo perfecto de una matriz de datos (data matrix), \n",
    "# donde las filas son observaciones y las columnas son features.\n",
    "datos_estudiantes = create_student_performance_data(rng, n_samples=50)\n",
    "\n",
    "# 💡 CONTEXTO PEDAGÓGICO: Multicolinealidad en el Mundo Real\n",
    "# Este generador crea un dataset donde una columna es una combinación lineal de las otras.\n",
    "# Es el ejemplo perfecto para ilustrar la dependencia lineal y el concepto de rango.\n",
    "datos_multicolineales = create_edge_cases(rng, case_type='multicollinear', n_samples=100)\n",
    "\n",
    "# 💡 CONTEXTO PEDAGÓGICO: Matrices con Propiedades Controladas\n",
    "# Para estudiar matrices especiales, nada mejor que generarlas directamente. Crearemos\n",
    "# matrices singulares (columnas dependientes) y ortogonales (columnas perfectamente independientes).\n",
    "matriz_singular = create_special_matrices(rng, matrix_type='singular', size=(4, 4))\n",
    "matriz_aleatoria_cuadrada = create_special_matrices(rng, matrix_type='random', size=(4, 4))\n",
    "\n",
    "print(\"Datasets y matrices generados y listos para usar.\")\n",
    "datos_estudiantes.head()"
   ]
  },
  {
   "cell_type": "markdown",
   "metadata": {},
   "source": [
    "## 1. ¿Qué es una Matriz?\n",
    "\n",
    "Si un vector es una lista de números, una **matriz** es una parrilla o tabla rectangular de números, organizada en filas y columnas. Es la estructura de datos más fundamental en álgebra lineal y ciencia de datos.\n",
    "\n",
    "> **Conexión Directa:** Un DataFrame de Pandas o una hoja de cálculo **ES** una matriz. \n",
    "> - Las **filas** ($m$) representan las **observaciones** (e.g., 50 estudiantes).\n",
    "> - Las **columnas** ($n$) representan las **features** (e.g., 'horas_estudio', 'calificacion_examen', etc.).\n",
    "\n",
    "#### Anatomía de una Matriz\n",
    "- **Dimensión (o Forma):** Se describe como **$m \\times n$**, donde **$m$** es el número de filas y **$n$** es el número de columnas.\n",
    "- **Elementos:** Cada número individual. Se accede a ellos mediante su posición `A[i, j]` (fila *i*, columna *j*), **recordando que los índices en Python/NumPy empiezan en 0**."
   ]
  },
  {
   "cell_type": "markdown",
   "metadata": {},
   "source": [
    "### Ejemplo Demostrativo 1: El \"Hilo Conductor\" como Matriz\n",
    "Vamos a tomar una subsección de nuestro DataFrame de estudiantes y a tratarla explícitamente como una matriz de NumPy."
   ]
  },
  {
   "cell_type": "code",
   "execution_count": null,
   "metadata": {},
   "outputs": [],
   "source": [
    "# 1. Extraemos las primeras 5 filas y 3 columnas como una matriz de NumPy\n",
    "matriz_muestra_estudiantes = datos_estudiantes[['horas_estudio', 'calificacion_previa', 'calificacion_examen']].head(5).values\n",
    "\n",
    "# 2. Verificamos sus propiedades\n",
    "print(f\"Tipo de dato: {type(matriz_muestra_estudiantes)}\")\n",
    "print(f\"Dimensiones (forma): {matriz_muestra_estudiantes.shape}\")\n",
    "print(f\"Número de filas (m): {matriz_muestra_estudiantes.shape[0]}\")\n",
    "print(f\"Número de columnas (n): {matriz_muestra_estudiantes.shape[1]}\")\n",
    "\n",
    "# 3. Accedemos a un elemento: la calificación previa (columna 1) del estudiante en la fila 3 (índice 2)\n",
    "elemento_2_1 = matriz_muestra_estudiantes[2, 1]\n",
    "print(f\"\\nElemento en la fila 3, columna 2 (índices 2,1): {elemento_2_1:.2f}\")\n",
    "\n",
    "# 4. Visualización\n",
    "plot_matrix(matriz_muestra_estudiantes, title='Matriz de 5 Estudiantes x 3 Features')"
   ]
  },
  {
   "cell_type": "markdown",
   "metadata": {},
   "source": [
    "---\n",
    "## 2. Tipos Especiales de Matrices y la Transpuesta"
   ]
  },
  {
   "cell_type": "markdown",
   "metadata": {},
   "source": [
    "Existen varias matrices con nombres especiales que aparecen constantemente:\n",
    "\n",
    "- **Matriz Cuadrada:** Tiene el mismo número de filas y columnas ($m = n$).\n",
    "- **Matriz Identidad ($I_n$):** Matriz cuadrada con 1s en la diagonal principal y 0s en el resto. Es el análogo al número 1 en la multiplicación de matrices.\n",
    "- **Matriz Diagonal:** Matriz cuadrada donde solo los elementos de la diagonal principal pueden ser no nulos.\n",
    "- **Matriz Simétrica:** Matriz cuadrada que es igual a su transpuesta ($A = A^T$). La matriz de covarianza es un ejemplo famoso.\n",
    "- **Transpuesta ($A^T$):** La operación de \"voltear\" la matriz sobre su diagonal. Las filas de A se convierten en las columnas de $A^T$. Si A es $m \\times n$, $A^T$ es **$n \\times m$**."
   ]
  },
  {
   "cell_type": "markdown",
   "metadata": {},
   "source": [
    "### Ejemplo Demostrativo 2: Creando Matrices Especiales y la Transpuesta"
   ]
  },
  {
   "cell_type": "code",
   "execution_count": null,
   "metadata": {},
   "outputs": [],
   "source": [
    "# 1. GENERACIÓN DE DATOS\n",
    "# Usamos nuestro generador para crear una matriz simétrica.\n",
    "matriz_simetrica = create_special_matrices(rng, 'symmetric', size=(4,4))\n",
    "\n",
    "# 2. APLICACIÓN DEL CONCEPTO\n",
    "# Creamos una matriz no cuadrada y una identidad\n",
    "A = np.array([[1, 2, 3], [4, 5, 6]])\n",
    "A_t = A.T\n",
    "I = np.identity(4)\n",
    "\n",
    "# 3. INTERPRETACIÓN Y VISUALIZACIÓN\n",
    "print(f\"Matriz A (forma {A.shape}):\\n{A}\")\n",
    "print(f\"\\nTranspuesta A.T (forma {A_t.shape}):\\n{A_t}\")\n",
    "\n",
    "fig, axs = plt.subplots(1, 3, figsize=(15, 4))\n",
    "plot_matrix(I, 'Matriz Identidad 4x4', ax=axs[0], cmap='gray_r')\n",
    "plot_matrix(matriz_simetrica, 'Matriz Simétrica 4x4', ax=axs[1], cmap='cividis')\n",
    "plot_matrix(matriz_simetrica.T, 'Transpuesta de la Simétrica', ax=axs[2], cmap='cividis')\n",
    "plt.tight_layout()\n",
    "plt.show()\n",
    "\n",
    "print(\"Observa cómo la matriz simétrica y su transpuesta son visualmente idénticas.\")"
   ]
  },
  {
   "cell_type": "markdown",
   "metadata": {},
   "source": [
    "---\n",
    "## 3. Independencia Lineal: ¿Aportan mis datos información nueva?\n",
    "\n",
    "Ahora que vemos las matrices como colecciones de vectores columna (features), podemos hacernos una pregunta crucial: **¿son todas nuestras features realmente necesarias?**\n",
    "\n",
    "Un conjunto de vectores es **linealmente independiente** si ningún vector en el conjunto puede ser escrito como una combinación lineal de los otros. Intuitivamente, significa que cada vector (cada feature) aporta \"información direccional nueva\" y no es redundante.\n",
    "\n",
    "Si los vectores columna de una matriz son **linealmente dependientes**, tenemos **multicolinealidad**. Esto significa que al menos una de nuestras features es una mezcla de las otras (e.g., `gasto_en_usd = gasto_en_eur * 1.07`). La información es redundante y puede causar problemas serios de inestabilidad en muchos modelos de Machine Learning (como la Regresión Lineal).\n",
    "\n",
    "### La Prueba Práctica: El Rango de una Matriz\n",
    "\n",
    "El **rango** de una matriz es el número de columnas (o filas) linealmente independientes que tiene. Es la verdadera \"dimensión\" de la información contenida en la matriz.\n",
    "\n",
    "- Si `rango(A) == número de columnas`, las columnas son **linealmente independientes**.\n",
    "- Si `rango(A) < número de columnas`, las columnas son **linealmente dependientes** (hay multicolinealidad)."
   ]
  },
  {
   "cell_type": "markdown",
   "metadata": {},
   "source": [
    "### Ejemplo Demostrativo 3: Detectando Multicolinealidad con el Rango"
   ]
  },
  {
   "cell_type": "code",
   "execution_count": null,
   "metadata": {},
   "outputs": [],
   "source": [
    "# 1. GENERACIÓN DE DATOS\n",
    "# Usamos nuestro generador de casos de borde para crear un dataset con multicolinealidad perfecta.\n",
    "# Por construcción, la columna 'x3' es una combinación de 'x1' y 'x2'.\n",
    "X_dependiente = datos_multicolineales[['x1', 'x2', 'x3']].values\n",
    "\n",
    "# Para comparar, creamos una matriz con columnas independientes\n",
    "X_independiente = rng.random(size=(X_dependiente.shape[0], 3))\n",
    "\n",
    "# 2. APLICACIÓN DEL CONCEPTO: Calcular el rango\n",
    "rango_dependiente = np.linalg.matrix_rank(X_dependiente)\n",
    "rango_independiente = np.linalg.matrix_rank(X_independiente)\n",
    "\n",
    "# 3. INTERPRETACIÓN\n",
    "print(\"--- Caso 1: Matriz con Multicolinealidad ---\")\n",
    "print(f\"Forma de la matriz: {X_dependiente.shape}\")\n",
    "print(f\"Rango de la matriz: {rango_dependiente}\")\n",
    "if rango_dependiente < X_dependiente.shape[1]:\n",
    "    print(\"🔴 ¡Alerta! El rango es menor que el número de columnas -> Hay multicolinealidad.\")\n",
    "\n",
    "print(\"\\n--- Caso 2: Matriz Aleatoria (sin multicolinealidad esperada) ---\")\n",
    "print(f\"Forma de la matriz: {X_independiente.shape}\")\n",
    "print(f\"Rango de la matriz: {rango_independiente}\")\n",
    "if rango_independiente == X_independiente.shape[1]:\n",
    "    print(\"🟢 El rango es igual al número de columnas -> Las features son linealmente independientes.\")"
   ]
  },
  {
   "cell_type": "markdown",
   "metadata": {},
   "source": [
    "### Ejemplo Demostrativo 4: Visualizando Columnas Dependientes e Independientes"
   ]
  },
  {
   "cell_type": "code",
   "execution_count": null,
   "metadata": {},
   "outputs": [],
   "source": [
    "# 1. DATOS\n",
    "# Columnas independientes (no están en la misma línea/plano)\n",
    "v1 = np.array([1, 2, 3])\n",
    "v2 = np.array([4, 1, 5])\n",
    "v3 = np.array([-1, 3, -2])\n",
    "M_indep = np.column_stack([v1, v2, v3])\n",
    "\n",
    "# Columnas dependientes (v6 = v4 + v5)\n",
    "v4 = np.array([1, 1, 1])\n",
    "v5 = np.array([2, 0, 2])\n",
    "v6 = v4 + v5\n",
    "M_dep = np.column_stack([v4, v5, v6])\n",
    "\n",
    "# 2. VISUALIZACIÓN\n",
    "fig = plt.figure(figsize=(12, 6))\n",
    "ax1 = fig.add_subplot(121, projection='3d')\n",
    "ax2 = fig.add_subplot(122, projection='3d')\n",
    "\n",
    "# Plot independiente\n",
    "for i, v in enumerate([v1, v2, v3]):\n",
    "    ax1.quiver(0, 0, 0, v[0], v[1], v[2], label=f'v{i+1}')\n",
    "ax1.set_title(f'Columnas Independientes (Rango={np.linalg.matrix_rank(M_indep)})')\n",
    "ax1.legend()\n",
    "\n",
    "# Plot dependiente\n",
    "for i, v in enumerate([v4, v5, v6]):\n",
    "    ax2.quiver(0, 0, 0, v[0], v[1], v[2], label=f'v{i+4}')\n",
    "ax2.set_title(f'Columnas Dependientes (Rango={np.linalg.matrix_rank(M_dep)})')\n",
    "ax2.legend()\n",
    "\n",
    "plt.show()\n",
    "\n",
    "print(\"Observa cómo en el gráfico de la derecha, los 3 vectores yacen en el mismo plano. v6 no añade una nueva dirección; es redundante.\")"
   ]
  },
  {
   "cell_type": "markdown",
   "metadata": {},
   "source": [
    "---\n",
    "## 4. Ejercicios Guiados con Scaffolding (8+)\n",
    "Rellena las partes marcadas con `# COMPLETAR` para afianzar tu comprensión."
   ]
  },
  {
   "cell_type": "markdown",
   "metadata": {},
   "source": [
    "### === EJERCICIO GUIADO 1: Creación y Propiedades Básicas ==="
   ]
  },
  {
   "cell_type": "code",
   "execution_count": null,
   "metadata": {},
   "outputs": [],
   "source": [
    "# TODO 1: Crea una matriz 2x4 en NumPy con los números del 1 al 8.\n",
    "A = # COMPLETAR\n",
    "\n",
    "# VERIFICACIÓN AUTOMÁTICA\n",
    "assert isinstance(A, np.ndarray), \"A no es un array de NumPy\"\n",
    "assert A.shape == (2, 4), f\"La forma de A es {A.shape}, pero se esperaba (2, 4)\"\n",
    "print(\"✅ ¡Matriz creada correctamente!\")\n",
    "print(f\"Matriz A:\\n{A}\")"
   ]
  },
  {
   "cell_type": "markdown",
   "metadata": {},
   "source": [
    "### === EJERCICIO GUIADO 2: Slicing (Extracción de Sub-matrices) ==="
   ]
  },
  {
   "cell_type": "code",
   "execution_count": null,
   "metadata": {},
   "outputs": [],
   "source": [
    "# DATOS: Una matriz 5x5 de nuestro dataset de estudiantes.\n",
    "matriz_est = datos_estudiantes.head(5).values\n",
    "\n",
    "# TODO 1: Extrae la primera fila de la matriz.\n",
    "# PISTA: El slicing es A[fila, columna]. Usa ':' para 'todas'.\n",
    "primera_fila = # COMPLETAR\n",
    "\n",
    "# TODO 2: Extrae la tercera columna de la matriz.\n",
    "tercera_columna = # COMPLETAR\n",
    "\n",
    "# VERIFICACIÓN AUTOMÁTICA\n",
    "assert primera_fila.shape == (5,), f\"La forma de la primera fila es {primera_fila.shape}, se esperaba (5,)\"\n",
    "assert tercera_columna.shape == (5,), f\"La forma de la tercera columna es {tercera_columna.shape}, se esperaba (5,)\"\n",
    "print(f\"✅ ¡Slicing correcto!\")\n",
    "print(f\"Primera Fila (Estudiante 0): {np.round(primera_fila, 2)}\")\n",
    "print(f\"Tercera Columna (Asistencia %): {np.round(tercera_columna, 2)}\")"
   ]
  },
  {
   "cell_type": "markdown",
   "metadata": {},
   "source": [
    "### === EJERCICIO GUIADO 3: Transpuesta de una Matriz de Datos ==="
   ]
  },
  {
   "cell_type": "code",
   "execution_count": null,
   "metadata": {},
   "outputs": [],
   "source": [
    "# DATOS: Una submatriz de 10x3 del dataset de negocio.\n",
    "matriz_negocio = create_business_data(rng, n_samples=10)[['precio', 'gasto_marketing', 'ventas_mensuales']].values\n",
    "\n",
    "# TODO 1: Calcula la transpuesta de 'matriz_negocio'.\n",
    "matriz_transpuesta = # COMPLETAR\n",
    "\n",
    "# VERIFICACIÓN AUTOMÁTICA\n",
    "expected_shape = (matriz_negocio.shape[1], matriz_negocio.shape[0])\n",
    "assert matriz_transpuesta.shape == expected_shape, f\"La forma de la transpuesta es {matriz_transpuesta.shape}, se esperaba {expected_shape}\"\n",
    "print(f\"✅ ¡Transpuesta correcta!\")\n",
    "print(f\"Forma Original (Observaciones x Features): {matriz_negocio.shape}\")\n",
    "print(f\"Forma Transpuesta (Features x Observaciones): {matriz_transpuesta.shape}\")\n",
    "print(\"Interpretación: Hemos cambiado de una vista de '10 productos' a una vista de '3 series de datos de longitud 10'.\")"
   ]
  },
  {
   "cell_type": "markdown",
   "metadata": {},
   "source": [
    "### === EJERCICIO GUIADO 4: Verificación de Matriz Simétrica ==="
   ]
  },
  {
   "cell_type": "code",
   "execution_count": null,
   "metadata": {},
   "outputs": [],
   "source": [
    "# DATOS: Una matriz simétrica y una no simétrica.\n",
    "M_simetrica = create_special_matrices(rng, 'symmetric', (3, 3))\n",
    "M_no_simetrica = create_special_matrices(rng, 'random', (3, 3))\n",
    "\n",
    "# TODO 1: Comprueba si M_simetrica es igual a su transpuesta.\n",
    "# PISTA: Usa np.allclose() para comparar arrays de punto flotante de forma segura.\n",
    "es_simetrica = # COMPLETAR\n",
    "\n",
    "# TODO 2: Comprueba si M_no_simetrica es igual a su transpuesta.\n",
    "no_es_simetrica = # COMPLETAR\n",
    "\n",
    "# VERIFICACIÓN AUTOMÁTICA\n",
    "assert es_simetrica == True, \"La matriz simétrica debería ser igual a su transpuesta.\"\n",
    "assert no_es_simetrica == False, \"La matriz aleatoria no debería ser simétrica.\"\n",
    "print(\"✅ ¡Verificación correcta!\")"
   ]
  },
  {
   "cell_type": "markdown",
   "metadata": {},
   "source": [
    "### === EJERCICIO GUIADO 5: Rango de una Matriz Singular ==="
   ]
  },
  {
   "cell_type": "code",
   "execution_count": null,
   "metadata": {},
   "outputs": [],
   "source": [
    "# DATOS: Usamos la matriz singular 4x4 que generamos al principio.\n",
    "# Por construcción, sus columnas son linealmente dependientes.\n",
    "\n",
    "# TODO 1: Calcula el rango de 'matriz_singular'.\n",
    "rango = # COMPLETAR\n",
    "\n",
    "# TODO 2: Compara el rango con el número de columnas.\n",
    "num_columnas = matriz_singular.shape[1]\n",
    "es_dependiente = # COMPLETAR (debe ser una expresión booleana: True o False)\n",
    "\n",
    "# VERIFICACIÓN AUTOMÁTICA\n",
    "assert es_dependiente == True, \"Una matriz singular debe tener columnas dependientes (rango < n).\"\n",
    "print(\"✅ ¡Análisis correcto!\")\n",
    "print(f\"La matriz 4x4 tiene rango {rango}, confirmando que es singular y sus columnas son dependientes.\")"
   ]
  },
  {
   "cell_type": "markdown",
   "metadata": {},
   "source": [
    "### === EJERCICIO GUIADO 6: Rango de una Matriz de Rango Completo ==="
   ]
  },
  {
   "cell_type": "code",
   "execution_count": null,
   "metadata": {},
   "outputs": [],
   "source": [
    "# DATOS: Usamos la matriz aleatoria cuadrada 4x4.\n",
    "# Una matriz aleatoria casi con seguridad tendrá columnas independientes.\n",
    "\n",
    "# TODO 1: Calcula el rango de 'matriz_aleatoria_cuadrada'.\n",
    "rango = # COMPLETAR\n",
    "\n",
    "# TODO 2: Compara el rango con el número de columnas.\n",
    "num_columnas = matriz_aleatoria_cuadrada.shape[1]\n",
    "es_independiente = # COMPLETAR (debe ser una expresión booleana)\n",
    "\n",
    "# VERIFICACIÓN AUTOMÁTICA\n",
    "assert es_independiente == True, \"Una matriz aleatoria cuadrada típicamente tiene rango completo.\"\n",
    "print(\"✅ ¡Análisis correcto!\")\n",
    "print(f\"La matriz 4x4 tiene rango {rango}, confirmando que tiene rango completo y sus columnas son independientes.\")"
   ]
  },
  {
   "cell_type": "markdown",
   "metadata": {},
   "source": [
    "### === EJERCICIO GUIADO 7: Introduciendo Multicolinealidad Manualmente ==="
   ]
  },
  {
   "cell_type": "code",
   "execution_count": null,
   "metadata": {},
   "outputs": [],
   "source": [
    "# DATOS: El dataset de estudiantes (solo 2 columnas).\n",
    "matriz_original = datos_estudiantes[['horas_estudio', 'calificacion_previa']].values\n",
    "\n",
    "# TODO 1: Crea una nueva columna que sea una combinación lineal de las existentes.\n",
    "# Por ejemplo, nueva_col = 2 * col_0 + 3 * col_1\n",
    "nueva_columna_redundante = # COMPLETAR\n",
    "\n",
    "# TODO 2: Apila la nueva columna a la matriz original para crear una matriz con dependencia lineal.\n",
    "# PISTA: Usa np.column_stack([matriz_original, nueva_columna_redundante])\n",
    "matriz_dependiente = # COMPLETAR\n",
    "\n",
    "# VERIFICACIÓN AUTOMÁTICA\n",
    "rango_original = np.linalg.matrix_rank(matriz_original)\n",
    "rango_dependiente = np.linalg.matrix_rank(matriz_dependiente)\n",
    "assert rango_original == 2, \"La matriz original debería tener rango 2.\"\n",
    "assert rango_dependiente == 2, \"Al añadir una columna dependiente, el rango NO debe aumentar.\"\n",
    "print(\"✅ ¡Multicolinealidad introducida y detectada con éxito!\")\n",
    "print(f\"Rango de la matriz original (2 columnas): {rango_original}\")\n",
    "print(f\"Rango de la nueva matriz (3 columnas): {rango_dependiente}\")"
   ]
  },
  {
   "cell_type": "markdown",
   "metadata": {},
   "source": [
    "### === EJERCICIO GUIADO 8: Creando una Matriz Identidad ==="
   ]
  },
  {
   "cell_type": "code",
   "execution_count": null,
   "metadata": {},
   "outputs": [],
   "source": [
    "# TODO 1: Crea una matriz identidad de tamaño 5x5.\n",
    "# PISTA: Usa np.identity() o np.eye().\n",
    "I5 = # COMPLETAR\n",
    "\n",
    "# VERIFICACIÓN AUTOMÁTICA\n",
    "assert I5.shape == (5, 5), \"La forma no es 5x5.\"\n",
    "assert np.sum(np.diag(I5)) == 5, \"La suma de la diagonal de I5 debe ser 5.\"\n",
    "assert np.sum(I5) - np.sum(np.diag(I5)) == 0, \"Los elementos fuera de la diagonal deben ser 0.\"\n",
    "print(\"✅ ¡Matriz identidad creada correctamente!\")\n",
    "plot_matrix(I5, title='Matriz Identidad 5x5', cmap='gray_r')"
   ]
  },
  {
   "cell_type": "markdown",
   "metadata": {},
   "source": [
    "--- \n",
    "# 5. Banco de Ejercicios Prácticos (30+)\n",
    "Ahora te toca a ti. Resuelve estos ejercicios para consolidar tu conocimiento."
   ]
  },
  {
   "cell_type": "markdown",
   "metadata": {},
   "source": [
    "### Parte A: Creación, Dimensiones y Transpuesta"
   ]
  },
  {
   "cell_type": "markdown",
   "metadata": {},
   "source": [
    "**A1 (🟢 Fácil):** Crea una matriz 3x2 en NumPy con los números del 1 al 6. Imprime la matriz y su forma (`.shape`)."
   ]
  },
  {
   "cell_type": "code",
   "execution_count": null,
   "metadata": {},
   "outputs": [],
   "source": []
  },
  {
   "cell_type": "markdown",
   "metadata": {},
   "source": [
    "**A2 (🟢 Fácil):** Calcula y muestra la transpuesta de la matriz del ejercicio anterior. Verifica que su nueva forma sea 2x3."
   ]
  },
  {
   "cell_type": "code",
   "execution_count": null,
   "metadata": {},
   "outputs": [],
   "source": []
  },
  {
   "cell_type": "markdown",
   "metadata": {},
   "source": [
    "**A3 (🟢 Fácil):** Toma la matriz `datos_estudiantes` y extrae las columnas `['tutor_privado', 'calificacion_examen']` para los primeros 10 estudiantes. Muestra la forma de esta nueva matriz."
   ]
  },
  {
   "cell_type": "code",
   "execution_count": null,
   "metadata": {},
   "outputs": [],
   "source": []
  },
  {
   "cell_type": "markdown",
   "metadata": {},
   "source": [
    "**A4 (🟢 Fácil):** De la matriz anterior, extrae y muestra la calificación del quinto estudiante (índice 4)."
   ]
  },
  {
   "cell_type": "code",
   "execution_count": null,
   "metadata": {},
   "outputs": [],
   "source": []
  },
  {
   "cell_type": "markdown",
   "metadata": {},
   "source": [
    "**A5 (🟡 Medio):** Crea una matriz de 10x2 con datos del dataset de negocio: 'precio' y 'ventas_mensuales'. Visualízala usando `plot_matrix`."
   ]
  },
  {
   "cell_type": "code",
   "execution_count": null,
   "metadata": {},
   "outputs": [],
   "source": []
  },
  {
   "cell_type": "markdown",
   "metadata": {},
   "source": [
    "**A6 (🟡 Medio):** Transpón la matriz del ejercicio A5. ¿Qué representan ahora las filas y las columnas? ¿Cuál es la nueva dimensión?"
   ]
  },
  {
   "cell_type": "code",
   "execution_count": null,
   "metadata": {},
   "outputs": [],
   "source": []
  },
  {
   "cell_type": "markdown",
   "metadata": {},
   "source": [
    "**A7 (🔴 Reto):** Crea una matriz de 5x5 donde cada elemento `A[i, j]` sea igual a `i + j`. Luego, calcula su transpuesta. ¿Es la matriz original simétrica?"
   ]
  },
  {
   "cell_type": "code",
   "execution_count": null,
   "metadata": {},
   "outputs": [],
   "source": []
  },
  {
   "cell_type": "markdown",
   "metadata": {},
   "source": [
    "### Parte B: Matrices Especiales"
   ]
  },
  {
   "cell_type": "markdown",
   "metadata": {},
   "source": [
    "**B1 (🟢 Fácil):** Crea y visualiza una matriz identidad 6x6."
   ]
  },
  {
   "cell_type": "code",
   "execution_count": null,
   "metadata": {},
   "outputs": [],
   "source": []
  },
  {
   "cell_type": "markdown",
   "metadata": {},
   "source": [
    "**B2 (🟢 Fácil):** Crea una matriz 4x4 con ceros en todas partes excepto en la diagonal, que debe contener los valores `[5, 1, 8, 3]`."
   ]
  },
  {
   "cell_type": "code",
   "execution_count": null,
   "metadata": {},
   "outputs": [],
   "source": []
  },
  {
   "cell_type": "markdown",
   "metadata": {},
   "source": [
    "**B3 (🟡 Medio):** Genera una matriz simétrica de 5x5 usando `create_special_matrices`. Verifica que `A[1, 3]` es igual a `A[3, 1]`."
   ]
  },
  {
   "cell_type": "code",
   "execution_count": null,
   "metadata": {},
   "outputs": [],
   "source": []
  },
  {
   "cell_type": "markdown",
   "metadata": {},
   "source": [
    "**B4 (🟡 Medio):** Genera una matriz ortogonal de 4x4. Aunque no hemos visto la definición completa, una propiedad clave es que $A^T A = I$. Verifica si esto se cumple para tu matriz (usa `np.allclose` para la comparación)."
   ]
  },
  {
   "cell_type": "code",
   "execution_count": null,
   "metadata": {},
   "outputs": [],
   "source": []
  },
  {
   "cell_type": "markdown",
   "metadata": {},
   "source": [
    "**B5 (🔴 Reto):** Una matriz antisimétrica es una matriz cuadrada donde $A^T = -A$. Crea una matriz aleatoria 3x3 `R`, y luego construye una matriz antisimétrica `A` calculando `A = R - R.T`. Verifica que la propiedad `A.T == -A` se cumple."
   ]
  },
  {
   "cell_type": "code",
   "execution_count": null,
   "metadata": {},
   "outputs": [],
   "source": []
  },
  {
   "cell_type": "markdown",
   "metadata": {},
   "source": [
    "### Parte C: Independencia Lineal y Rango"
   ]
  },
  {
   "cell_type": "markdown",
   "metadata": {},
   "source": [
    "**C1 (🟢 Fácil):** ¿Son los vectores columna de la matriz `A = np.array([[1, 2], [0, 1]])` linealmente independientes? Verifica calculando el rango."
   ]
  },
  {
   "cell_type": "code",
   "execution_count": null,
   "metadata": {},
   "outputs": [],
   "source": []
  },
  {
   "cell_type": "markdown",
   "metadata": {},
   "source": [
    "**C2 (🟢 Fácil):** ¿Y los de la matriz `B = np.array([[1, 2], [2, 4]])`? Verifica con el rango y explica el resultado."
   ]
  },
  {
   "cell_type": "code",
   "execution_count": null,
   "metadata": {},
   "outputs": [],
   "source": []
  },
  {
   "cell_type": "markdown",
   "metadata": {},
   "source": [
    "**C3 (🟡 Medio):** Determina si el conjunto de vectores `{[1, 2, 3], [4, 5, 6], [7, 8, 9]}` es linealmente independiente. (Pista: ponlos como columnas de una matriz y calcula su rango)."
   ]
  },
  {
   "cell_type": "code",
   "execution_count": null,
   "metadata": {},
   "outputs": [],
   "source": []
  },
  {
   "cell_type": "markdown",
   "metadata": {},
   "source": [
    "**C4 (🟡 Medio):** Toma las 4 primeras columnas de `datos_estudiantes`. ¿Son linealmente independientes? Calcula el rango para responder."
   ]
  },
  {
   "cell_type": "code",
   "execution_count": null,
   "metadata": {},
   "outputs": [],
   "source": []
  },
  {
   "cell_type": "markdown",
   "metadata": {},
   "source": [
    "**C5 (🟡 Medio):** Genera una matriz singular 5x5. ¿Cuál esperas que sea su rango? Verifícalo."
   ]
  },
  {
   "cell_type": "code",
   "execution_count": null,
   "metadata": {},
   "outputs": [],
   "source": []
  },
  {
   "cell_type": "markdown",
   "metadata": {},
   "source": [
    "**C6 (🔴 Reto):** Crea una matriz 4x4 donde la cuarta columna sea la suma de las dos primeras. Sin calcular explícitamente el rango, ¿cuál es el rango máximo posible que podría tener esta matriz? Luego, calcula el rango para verificar tu hipótesis."
   ]
  },
  {
   "cell_type": "code",
   "execution_count": null,
   "metadata": {},
   "outputs": [],
   "source": []
  },
  {
   "cell_type": "markdown",
   "metadata": {},
   "source": [
    "**C7 (🔴 Reto):** Usa `datos_multicolineales`. Sabemos que 'x3' depende de 'x1' y 'x2'. ¿Son 'x1' y 'x2' linealmente independientes entre sí? Crea una submatriz solo con estas dos columnas y calcula su rango para confirmarlo."
   ]
  },
  {
   "cell_type": "code",
   "execution_count": null,
   "metadata": {},
   "outputs": [],
   "source": []
  },
  {
   "cell_type": "markdown",
   "metadata": {},
   "source": [
    "---"
   ]
  },
  {
   "cell_type": "markdown",
   "metadata": {},
   "source": [
    "## ✅ Mini-Quiz de Autoevaluación\n",
    "\n",
    "1. Si una matriz de datos de 100 observaciones y 5 features tiene un rango de 4, ¿qué significa esto sobre las features?\n",
    "2. ¿Cuál es la dimensión de la transpuesta de una matriz 7x3?\n",
    "3. Verdadero o Falso: El elemento en `A[1, 2]` de una matriz NumPy es el que está en la primera fila y la segunda columna.\n",
    "4. ¿Qué propiedad define a una matriz simétrica en relación con su transpuesta?\n",
    "5. ¿Cuál es el rango de una matriz identidad 10x10?"
   ]
  },
  {
   "cell_type": "markdown",
   "metadata": {},
   "source": [
    "## 🚀 Próximos Pasos\n",
    "\n",
    "¡Felicidades! Ahora entiendes la estructura fundamental para organizar datos y cómo analizar su calidad con el concepto de independencia lineal.\n",
    "\n",
    "- En el notebook **`1.1.2.2_Operaciones_Matriciales.ipynb`**, aprenderás a sumar, restar y multiplicar matrices. Estas operaciones son el motor de casi todos los algoritmos de Machine Learning, desde la regresión lineal hasta las redes neuronales."
   ]
  }
 ],
 "metadata": {
  "kernelspec": {
   "display_name": "SageMath 10.x",
   "language": "sagemath",
   "name": "sagemath"
  },
  "language_info": {
   "codemirror_mode": {
    "name": "ipython",
    "version": 3
   },
   "file_extension": ".py",
   "mimetype": "text/x-python",
   "name": "python",
   "nbconvert_exporter": "python",
   "pygments_lexer": "ipython3",
   "version": "3.x.x"
  }
 },
 "nbformat": 4,
 "nbformat_minor": 4
}
