{
 "cells": [
  {
   "cell_type": "markdown",
   "metadata": {},
   "source": [
    "# 1.1.1.2: Operaciones Vectoriales, Normas y Span"
   ]
  },
  {
   "cell_type": "markdown",
   "metadata": {},
   "source": [
    "## Objetivos de Aprendizaje\n",
    "\n",
    "Al completar este notebook, serás capaz de:\n",
    "\n",
    "- **Calcular y visualizar** la suma, resta y multiplicación por un escalar de vectores.\n",
    "- **Explicar** el concepto de **vectorización** y por qué es crucial para el rendimiento computacional.\n",
    "- **Calcular, diferenciar e interpretar** las normas **L1 (Manhattan)** y **L2 (Euclidiana)** de un vector.\n",
    "- **Conectar** las normas vectoriales con las métricas de error (MAE, RMSE) y la regularización (Lasso, Ridge) en Machine Learning.\n",
    "- **Comprender, calcular y visualizar** los conceptos de **Combinación Lineal** y **Espacio Generado (Span)**."
   ]
  },
  {
   "cell_type": "code",
   "execution_count": null,
   "metadata": {
    "collapsed": true,
    "jupyter": {
     "source_hidden": true
    }
   },
   "outputs": [],
   "source": [
    "# --- Celda de Configuración (Oculta) ---\n",
    "%display latex\n",
    "import numpy as np\n",
    "import pandas as pd\n",
    "import matplotlib.pyplot as plt\n",
    "import time\n",
    "\n",
    "def plot_vectors_2d(vectors, origins=None, colors=None, legends=None, title=\"Gráfico de Vectores 2D\", figsize=(7,7)):\n",
    "    \"\"\"Función mejorada para graficar vectores 2D, permitiendo orígenes personalizados.\"\"\"\n",
    "    fig, ax = plt.subplots(figsize=figsize)\n",
    "    if colors is None:\n",
    "        colors = ['#0072B2', '#E69F00', '#D55E00', '#CC79A7', '#56B4E9', '#009E73']\n",
    "    if origins is None:\n",
    "        origins = [[0, 0]] * len(vectors)\n",
    "    elif not isinstance(origins[0], list) and not isinstance(origins[0], np.ndarray):\n",
    "        origins = [origins] * len(vectors)\n",
    "    \n",
    "    for i, v in enumerate(vectors):\n",
    "        origin = origins[i]\n",
    "        ax.quiver(origin[0], origin[1], v[0], v[1], angles='xy', scale_units='xy', scale=1, \n",
    "                  color=colors[i % len(colors)], label=legends[i] if legends and i < len(legends) else str(v))\n",
    "\n",
    "    all_points = np.array(origins + [np.array(o) + np.array(v) for o, v in zip(origins, vectors)])\n",
    "    x_min, y_min = all_points.min(axis=0)\n",
    "    x_max, y_max = all_points.max(axis=0)\n",
    "    buffer = max(abs(x_min), abs(x_max), abs(y_min), abs(y_max)) * 0.1 + 1\n",
    "    ax.set_xlim(x_min - buffer, x_max + buffer)\n",
    "    ax.set_ylim(y_min - buffer, y_max + buffer)\n",
    "    ax.set_aspect('equal'); ax.grid(True); ax.legend()\n",
    "    ax.set_title(title)\n",
    "    plt.show()"
   ]
  },
  {
   "cell_type": "markdown",
   "metadata": {},
   "source": [
    "--- \n",
    "## ⚙️ El Arsenal de Datasets: Nuestra Fuente de Ejercicios\n",
    "\n",
    "Al igual que en el notebook anterior, usaremos nuestro arsenal de funciones para generar datos. Esto nos da la flexibilidad de crear contextos ricos y variados para cada concepto matemático."
   ]
  },
  {
   "cell_type": "code",
   "execution_count": null,
   "metadata": {},
   "outputs": [],
   "source": [
    "# === CONFIGURACIÓN DE DATASETS ===\n",
    "from src.data_generation.create_student_performance import create_student_performance_data\n",
    "from src.data_generation.create_geometric_shapes import create_geometric_shapes\n",
    "from src.data_generation.create_business_data import create_business_data\n",
    "from src.data_generation.create_edge_cases import create_edge_cases\n",
    "\n",
    "# Configuración centralizada de aleatoriedad para REPRODUCIBILIDAD\n",
    "rng = np.random.default_rng(seed=42)\n",
    "\n",
    "# === Generación de Datasets para este Notebook ===\n",
    "\n",
    "# 💡 CONTEXTO PEDAGÓGICO: Hilo Conductor\n",
    "# Continuamos usando el rendimiento estudiantil para contextualizar operaciones. \n",
    "# Por ejemplo, sumar vectores de 'mejora' o promediar perfiles de estudiantes.\n",
    "datos_estudiantes = create_student_performance_data(rng, simplified=True, n_samples=100)\n",
    "\n",
    "# 💡 CONTEXTO PEDAGÓGICO: Aplicación a Negocios\n",
    "# Ideal para entender normas. Un producto con una norma L2 grande es un 'extremo' en el mercado. \n",
    "# La resta de vectores puede representar la 'diferencia de perfil' entre dos productos.\n",
    "datos_negocio = create_business_data(rng, simplified=True, n_samples=75)\n",
    "\n",
    "# 💡 CONTEXTO PEDAGÓGICO: Intuición Geométrica\n",
    "# Usaremos vectores de formas geométricas para visualizar conceptos como Span y combinaciones lineales\n",
    "# de una forma pura, sin el 'ruido' de un contexto del mundo real.\n",
    "vec_base_1 = vector([2, 1])\n",
    "vec_base_2 = vector([-1, 2]) # Casi ortogonales para un buen span\n",
    "\n",
    "print(\"Datasets generados y listos para usar.\")\n",
    "datos_estudiantes.head()"
   ]
  },
  {
   "cell_type": "markdown",
   "metadata": {},
   "source": [
    "---\n",
    "## 1. Operaciones Vectoriales Fundamentales"
   ]
  },
  {
   "cell_type": "markdown",
   "metadata": {},
   "source": [
    "### Suma y Resta\n",
    "\n",
    "Estas operaciones se realizan **componente a componente** y solo son posibles entre vectores de la **misma dimensión**.\n",
    "\n",
    "- **Suma**: $\\vec{v} + \\vec{w} = [v_1+w_1, v_2+w_2, \\dots, v_n+w_n]$\n",
    "- **Resta**: $\\vec{v} - \\vec{w} = [v_1-w_1, v_2-w_2, \\dots, v_n-w_n]$\n",
    "\n",
    "Geométricamente, la suma $\\vec{v} + \\vec{w}$ sigue la **regla del paralelogramo**. La resta $\\vec{v} - \\vec{w}$ es el vector que va desde la punta de $\\vec{w}$ hasta la punta de $\\vec{v}$."
   ]
  },
  {
   "cell_type": "markdown",
   "metadata": {},
   "source": [
    "### Multiplicación por un Escalar\n",
    "\n",
    "Multiplicar un vector $\\vec{v}$ por un número (escalar) $c$ **escala** (estira o encoge) su magnitud. Si $c < 0$, también invierte su dirección.\n",
    "\n",
    "$ c\\vec{v} = [c \\cdot v_1, c \\cdot v_2, ..., c \\cdot v_n] $"
   ]
  },
  {
   "cell_type": "markdown",
   "metadata": {},
   "source": [
    "### Ejemplo Demostrativo 1: Visualización de Operaciones"
   ]
  },
  {
   "cell_type": "code",
   "execution_count": null,
   "metadata": {},
   "outputs": [],
   "source": [
    "v = np.array([3, 1])\n",
    "w = np.array([1, 2])\n",
    "\n",
    "# Operaciones\n",
    "v_plus_w = v + w\n",
    "v_minus_w = v - w\n",
    "scaled_v = 2 * v\n",
    "\n",
    "# --- Visualización de la Suma (Regla del Paralelogramo) ---\n",
    "fig, ax = plt.subplots(1, 2, figsize=(14, 7))\n",
    "\n",
    "# Orígenes y vectores para el paralelogramo\n",
    "origins = [[0,0], [0,0], [0,0], v, w] # Para dibujar el paralelogramo\n",
    "vectors = [v, w, v_plus_w, w, v]\n",
    "legends = [f'v={v}', f'w={w}', f'v+w={v_plus_w}', '', '']\n",
    "colors = ['#0072B2', '#E69F00', '#D55E00', '#0072B2', '#E69F00']\n",
    "\n",
    "for i, vec in enumerate(vectors):\n",
    "    ax[0].quiver(origins[i][0], origins[i][1], vec[0], vec[1], angles='xy', scale_units='xy', scale=1, \n",
    "                 color=colors[i], linestyle='--' if i > 2 else '-')\n",
    "ax[0].text(v_plus_w[0], v_plus_w[1], 'v+w', fontsize=12)\n",
    "ax[0].set_title('Suma de Vectores (Regla del Paralelogramo)')\n",
    "\n",
    "# --- Visualización de Resta y Escalamiento ---\n",
    "ax[1].quiver(0, 0, v[0], v[1], angles='xy', scale_units='xy', scale=1, color='#0072B2', label=f'v={v}')\n",
    "ax[1].quiver(0, 0, scaled_v[0], scaled_v[1], angles='xy', scale_units='xy', scale=1, color='#56B4E9', label=f'2v={scaled_v}')\n",
    "ax[1].quiver(w[0], w[1], v_minus_w[0], v_minus_w[1], angles='xy', scale_units='xy', scale=1, color='#CC79A7', label=f'v-w={v_minus_w}')\n",
    "ax[1].quiver(0,0, v_minus_w[0], v_minus_w[1], angles='xy', scale_units='xy', scale=1, color='#CC79A7', linestyle=':')\n",
    "ax[1].set_title('Resta y Multiplicación por Escalar')\n",
    "\n",
    "for axis in ax:\n",
    "    axis.set_xlim(0, 7); axis.set_ylim(0, 5)\n",
    "    axis.set_aspect('equal'); axis.grid(True); axis.legend()\n",
    "\n",
    "plt.show()"
   ]
  },
  {
   "cell_type": "markdown",
   "metadata": {},
   "source": [
    "### 🚀 El Eje Computacional: La Magia de la Vectorización\n",
    "\n",
    "Podríamos sumar vectores usando un bucle `for` de Python, pero en la práctica **nunca** lo hacemos. Las librerías como NumPy son órdenes de magnitud más rápidas gracias a la **vectorización**: NumPy delega la operación a rutinas de bajo nivel pre-compiladas y altamente optimizadas (escritas en C o Fortran), que operan en bloques enteros de memoria a la vez."
   ]
  },
  {
   "cell_type": "code",
   "execution_count": null,
   "metadata": {},
   "outputs": [],
   "source": [
    "# Creamos dos vectores grandes con 1 millón de elementos\n",
    "vec_a_np = rng.random(1_000_000)\n",
    "vec_b_np = rng.random(1_000_000)\n",
    "\n",
    "# Método 1: Suma vectorizada de NumPy (rápido)\n",
    "print(\"Midiendo el tiempo de la suma vectorizada de NumPy:\")\n",
    "%timeit vec_c_np = vec_a_np + vec_b_np\n",
    "\n",
    "# Método 2: Suma con un bucle for de Python (lento)\n",
    "print(\"\\nMidiendo el tiempo de la suma con un bucle de Python:\")\n",
    "%timeit vec_c_loop = np.array([a + b for a, b in zip(vec_a_np, vec_b_np)])\n",
    "\n",
    "print(\"\\nObserva la diferencia de velocidad. ¡Ese es el poder de la vectorización!\")"
   ]
  },
  {
   "cell_type": "markdown",
   "metadata": {},
   "source": [
    "---\n",
    "## 2. Medición de Vectores: Normas L1 y L2"
   ]
  },
  {
   "cell_type": "markdown",
   "metadata": {},
   "source": [
    "Una **norma** es una función que asigna una \"longitud\" o \"tamaño\" estrictamente positivo a cada vector. Las más comunes en ciencia de datos son L1 y L2.\n",
    "\n",
    "#### Norma L2 (Euclidiana) \n",
    "Es la distancia en línea recta desde el origen. Se calcula con el Teorema de Pitágoras.\n",
    "$$ \\|\\vec{v}\\|_2 = \\sqrt{\\sum_{i=1}^{n} v_i^2} $$\n",
    "\n",
    "#### Norma L1 (Manhattan) \n",
    "Es la distancia recorriendo los ejes, como un taxi en una ciudad con calles en cuadrícula. Es la suma de los valores absolutos de los componentes.\n",
    "$$ \\|\\vec{v}\\|_1 = \\sum_{i=1}^{n} |v_i| $$\n",
    "\n",
    "> **Aplicaciones en Machine Learning:**\n",
    "> - **Métricas de Error:** El **Error Absoluto Medio (MAE)** usa la norma L1 de los errores, haciéndolo robusto a outliers. El **Error Cuadrático Medio (RMSE)** usa la norma L2, que penaliza más fuertemente los errores grandes.\n",
    "> - **Regularización:** La **Regularización Lasso (L1)** puede forzar a que los coeficientes de un modelo se vuelvan **exactamente cero** (selección de features). La **Regularización Ridge (L2)** encoge los coeficientes, pero raramente a cero."
   ]
  },
  {
   "cell_type": "markdown",
   "metadata": {},
   "source": [
    "### Ejemplo Demostrativo 2: Normas en un Contexto de Negocios"
   ]
  },
  {
   "cell_type": "code",
   "execution_count": null,
   "metadata": {},
   "outputs": [],
   "source": [
    "# 1. GENERACIÓN DE DATOS (Ya generados)\n",
    "# Usamos 'datos_negocio'\n",
    "\n",
    "# 2. APLICACIÓN DEL CONCEPTO\n",
    "# Buscamos productos 'extremos': el de mayor precio y el de mayor venta.\n",
    "prod_max_precio = datos_negocio.loc[datos_negocio['precio'].idxmax()]\n",
    "prod_max_ventas = datos_negocio.loc[datos_negocio['ventas_mensuales'].idxmax()]\n",
    "\n",
    "v_precio = prod_max_precio.values\n",
    "v_ventas = prod_max_ventas.values\n",
    "\n",
    "# Calculamos sus normas L1 y L2\n",
    "norma_l1_precio = np.linalg.norm(v_precio, ord=1)\n",
    "norma_l2_precio = np.linalg.norm(v_precio, ord=2)\n",
    "norma_l1_ventas = np.linalg.norm(v_ventas, ord=1)\n",
    "norma_l2_ventas = np.linalg.norm(v_ventas, ord=2)\n",
    "\n",
    "# 3. INTERPRETACIÓN PEDAGÓGICA\n",
    "print(f\"Producto más caro: {v_precio}, Normas L1={norma_l1_precio:.2f}, L2={norma_l2_precio:.2f}\")\n",
    "print(f\"Producto más vendido: {v_ventas}, Normas L1={norma_l1_ventas:.2f}, L2={norma_l2_ventas:.2f}\")\n",
    "print(\"\\nLa norma nos da una medida de la 'magnitud' total de un vector. Un producto con una norma L2 muy alta es un 'extremo' en el espacio de productos, alejado del origen (un producto con precio 0 y ventas 0).\")\n",
    "\n",
    "# 4. VISUALIZACIÓN\n",
    "plot_vectors_2d(\n",
    "    vectors=[v_precio, v_ventas],\n",
    "    legends=['Max Precio', 'Max Ventas'],\n",
    "    title='Vectores de Productos Extremos'\n",
    ")"
   ]
  },
  {
   "cell_type": "markdown",
   "metadata": {},
   "source": [
    "### Ejemplo Demostrativo 3: Operaciones con el \"Hilo Conductor\""
   ]
  },
  {
   "cell_type": "code",
   "execution_count": null,
   "metadata": {},
   "outputs": [],
   "source": [
    "# 1. DATOS\n",
    "# Usamos 'datos_estudiantes'\n",
    "\n",
    "# 2. APLICACIÓN DEL CONCEPTO\n",
    "# Identifiquemos un estudiante de bajo y alto rendimiento\n",
    "est_bajo = datos_estudiantes.loc[datos_estudiantes['calificacion_examen'].idxmin()].values\n",
    "est_alto = datos_estudiantes.loc[datos_estudiantes['calificacion_examen'].idxmax()].values\n",
    "\n",
    "# El 'vector de mejora' es la diferencia entre ellos\n",
    "v_mejora = est_alto - est_bajo\n",
    "\n",
    "# 3. INTERPRETACIÓN PEDAGÓGICA\n",
    "print(f\"Estudiante bajo rendimiento: {np.round(est_bajo, 2)}\")\n",
    "print(f\"Estudiante alto rendimiento: {np.round(est_alto, 2)}\")\n",
    "print(f\"Vector de Mejora necesario: {np.round(v_mejora, 2)}\")\n",
    "print(\"Este vector nos dice cuánto necesitan aumentar las 'horas de estudio' y la 'calificación' para pasar de un perfil a otro.\")\n",
    "\n",
    "# 4. VISUALIZACIÓN\n",
    "# Visualizamos la operación v_bajo + v_mejora = v_alto\n",
    "plot_vectors_2d(\n",
    "    vectors=[est_bajo, v_mejora, est_alto],\n",
    "    origins=[[0,0], est_bajo, [0,0]],\n",
    "    legends=['Bajo Rendimiento', 'Vector Mejora', 'Alto Rendimiento'],\n",
    "    title='Resta de Vectores como la \"Distancia\" a Mejorar'\n",
    ")"
   ]
  },
  {
   "cell_type": "markdown",
   "metadata": {},
   "source": [
    "---\n",
    "## 3. Combinaciones Lineales y Span"
   ]
  },
  {
   "cell_type": "markdown",
   "metadata": {},
   "source": [
    "### Combinación Lineal\n",
    "\n",
    "Una **combinación lineal** de un conjunto de vectores $\\{\\vec{v}_1, \\dots, \\vec{v}_p\\}$ es cualquier vector $\\vec{y}$ que se pueda escribir como una suma ponderada de ellos:\n",
    "$$ \\vec{y} = c_1\\vec{v}_1 + c_2\\vec{v}_2 + \\dots + c_p\\vec{v}_p $$\n",
    "donde $c_1, \\dots, c_p$ son escalares (pesos).\n",
    "\n",
    "Esta es quizás **la idea más importante del álgebra lineal**: nos dice que podemos construir nuevos vectores \"mezclando\" un conjunto de vectores base."
   ]
  },
  {
   "cell_type": "markdown",
   "metadata": {},
   "source": [
    "### Espacio Generado (Span)\n",
    "\n",
    "El **Espacio Generado (Span)** de un conjunto de vectores $\\{\\vec{v}_1, ..., \\vec{v}_p\\}$ es el conjunto de **TODAS** las posibles combinaciones lineales que se pueden formar con ellos. Es el \"universo de lo posible\" que puedes construir con tus vectores base.\n",
    "\n",
    "- El Span de un solo vector (no nulo) en $ℝ^2$ o $ℝ^3$ es una **línea**.\n",
    "- El Span de dos vectores no alineados en $ℝ^2$ es todo el **plano** $ℝ^2$.\n",
    "- El Span de dos vectores no alineados en $ℝ^3$ es un **plano** que pasa por el origen."
   ]
  },
  {
   "cell_type": "markdown",
   "metadata": {},
   "source": [
    "### Ejemplo Demostrativo 4: Visualización Interactiva del Span\n",
    "\n",
    "Usa los deslizadores para cambiar los componentes de `v1` y `v2`. Observa cómo el `span` (el área gris) cambia. Si los vectores se alinean (uno es múltiplo del otro), el `span` colapsa de un plano a una simple línea. Esto significa que se han vuelto **linealmente dependientes**."
   ]
  },
  {
   "cell_type": "code",
   "execution_count": null,
   "metadata": {},
   "outputs": [],
   "source": [
    "@interact\n",
    "def interactive_span(c1=slider(-2, 2, step_size=0.5, default=1), \n",
    "                     c2=slider(-2, 2, step_size=0.5, default=1)):\n",
    "    \n",
    "    v1 = np.array([2, 1])\n",
    "    v2 = np.array([-1, 2])\n",
    "    \n",
    "    combination = c1*v1 + c2*v2\n",
    "    \n",
    "    fig, ax = plt.subplots(figsize=(8, 8))\n",
    "    \n",
    "    # Dibujar el span (plano)\n",
    "    ax.fill([-6, 6, 6, -6], [-6, 6, 6, -6], color='gray', alpha=0.1, label='Span(v1, v2)')\n",
    "    \n",
    "    # Dibujar vectores base\n",
    "    ax.quiver(0, 0, v1[0], v1[1], angles='xy', scale_units='xy', scale=1, color='#0072B2', label='v1')\n",
    "    ax.quiver(0, 0, v2[0], v2[1], angles='xy', scale_units='xy', scale=1, color='#E69F00', label='v2')\n",
    "    \n",
    "    # Dibujar combinación lineal\n",
    "    ax.quiver(0, 0, combination[0], combination[1], angles='xy', scale_units='xy', scale=1, color='#D55E00', \n",
    "              label=f'{c1:.1f}*v1 + {c2:.1f}*v2')\n",
    "    \n",
    "    ax.set_xlim(-5, 5); ax.set_ylim(-5, 5)\n",
    "    ax.set_aspect('equal'); ax.grid(True); ax.legend()\n",
    "    ax.set_title(\"Explorando Combinaciones Lineales dentro del Span\")\n",
    "    plt.show()"
   ]
  },
  {
   "cell_type": "markdown",
   "metadata": {},
   "source": [
    "---\n",
    "## 4. Ejercicios Guiados con Scaffolding (8+)\n",
    "Rellena las partes marcadas con `# COMPLETAR` para afianzar tu comprensión paso a paso."
   ]
  },
  {
   "cell_type": "markdown",
   "metadata": {},
   "source": [
    "### === EJERCICIO GUIADO 1: Suma de Vectores de Estudiantes ==="
   ]
  },
  {
   "cell_type": "code",
   "execution_count": null,
   "metadata": {},
   "outputs": [],
   "source": [
    "# DATOS: Vectores de los estudiantes en índice 5 y 15.\n",
    "v_est5 = datos_estudiantes.iloc[5].values\n",
    "v_est15 = datos_estudiantes.iloc[15].values\n",
    "\n",
    "# TODO 1: Calcula un vector 'equipo' que sea la suma de los perfiles de ambos estudiantes.\n",
    "v_equipo = # COMPLETAR\n",
    "\n",
    "# VERIFICACIÓN AUTOMÁTICA\n",
    "assert v_equipo.shape == (2,), \"El vector resultante no tiene la dimensión correcta.\"\n",
    "assert np.allclose(v_equipo, v_est5 + v_est15), \"El cálculo de la suma no es correcto.\"\n",
    "print(f\"✅ ¡Correcto! El vector de 'esfuerzo de equipo' es: {np.round(v_equipo, 2)}\")\n",
    "\n",
    "# TODO 2: Visualiza los dos vectores originales y el vector 'equipo'.\n",
    "# PISTA: Usa plot_vectors_2d con una lista de 3 vectores.\n",
    "# COMPLETAR"
   ]
  },
  {
   "cell_type": "markdown",
   "metadata": {},
   "source": [
    "### === EJERCICIO GUIADO 2: Vector de 'Diferencia de Mercado' ==="
   ]
  },
  {
   "cell_type": "code",
   "execution_count": null,
   "metadata": {},
   "outputs": [],
   "source": [
    "# DATOS: Vectores de dos productos de 'datos_negocio'\n",
    "v_prod_A = datos_negocio.iloc[10].values # Producto A\n",
    "v_prod_B = datos_negocio.iloc[20].values # Producto B\n",
    "\n",
    "# TODO 1: Calcula el vector que representa la diferencia de perfil entre el producto A y el B.\n",
    "v_diferencia = # COMPLETAR\n",
    "\n",
    "# VERIFICACIÓN AUTOMÁTICA\n",
    "assert np.allclose(v_prod_A, v_prod_B + v_diferencia), \"La resta no es correcta. Recuerda: B + (A-B) = A\"\n",
    "print(f\"✅ ¡Correcto! Para ir del perfil B al A, necesitas cambiarlo por el vector {np.round(v_diferencia, 2)}.\")\n",
    "\n",
    "# TODO 2: Visualiza el vector B y el vector diferencia (partiendo desde la punta de B).\n",
    "# PISTA: Usa los parámetros 'vectors' y 'origins' de plot_vectors_2d.\n",
    "# plot_vectors_2d(vectors=[...], origins=[...])\n",
    "# COMPLETAR"
   ]
  },
  {
   "cell_type": "markdown",
   "metadata": {},
   "source": [
    "### === EJERCICIO GUIADO 3: Calcular Norma L1 (Distancia de Taxi) ==="
   ]
  },
  {
   "cell_type": "code",
   "execution_count": null,
   "metadata": {},
   "outputs": [],
   "source": [
    "# DATOS: Un vector de producto.\n",
    "v_producto = datos_negocio.iloc[30].values\n",
    "\n",
    "# TODO 1: Calcula la norma L1 del vector v_producto.\n",
    "# PISTA: Usa np.linalg.norm() con el parámetro 'ord=1'.\n",
    "norma_l1 = # COMPLETAR\n",
    "\n",
    "# VERIFICACIÓN AUTOMÁTICA\n",
    "expected_l1 = np.sum(np.abs(v_producto))\n",
    "assert np.isclose(norma_l1, expected_l1), \"El cálculo de la norma L1 no es correcto.\"\n",
    "print(f\"✅ ¡Correcto! La norma L1 (Manhattan) del producto {np.round(v_producto,2)} es {norma_l1:.2f}.\")\n",
    "print(\"Interpretación: Si un taxi viajara desde el origen (0,0) hasta el punto del producto, recorrería esta distancia total moviéndose por los ejes 'precio' y 'ventas'.\")"
   ]
  },
  {
   "cell_type": "markdown",
   "metadata": {},
   "source": [
    "### === EJERCICIO GUIADO 4: Normalizar un Vector (Crear Vector Unitario) ==="
   ]
  },
  {
   "cell_type": "code",
   "execution_count": null,
   "metadata": {},
   "outputs": [],
   "source": [
    "# DATOS: Un vector de estudiante.\n",
    "v_estudiante = datos_estudiantes.iloc[42].values\n",
    "\n",
    "# TODO 1: Calcula la norma L2 (Euclidiana) del vector.\n",
    "# PISTA: Usa np.linalg.norm() con 'ord=2' o sin el parámetro 'ord'.\n",
    "norma_l2 = # COMPLETAR\n",
    "\n",
    "# TODO 2: Crea un 'vector de perfil' (unitario) dividiendo el vector original por su norma L2.\n",
    "v_unitario = # COMPLETAR\n",
    "\n",
    "# VERIFICACIÓN AUTOMÁTICA\n",
    "assert norma_l2 > 0, \"La norma debe ser positiva para poder dividir.\"\n",
    "assert np.isclose(np.linalg.norm(v_unitario), 1.0), \"El vector resultante no es unitario. Su norma L2 debería ser 1.\"\n",
    "print(f\"✅ ¡Correcto! El perfil del estudiante (vector unitario) es {np.round(v_unitario, 2)}.\")\n",
    "print(\"Interpretación: El vector unitario captura solo la 'dirección' o 'perfil' del estudiante, ignorando la magnitud total de sus componentes.\")\n",
    "\n",
    "# Visualiza el vector original y su versión normalizada. Observa que apuntan en la misma dirección.\n",
    "plot_vectors_2d([v_estudiante, v_unitario], legends=['Original', 'Unitario (Perfil)'])"
   ]
  },
  {
   "cell_type": "markdown",
   "metadata": {},
   "source": [
    "### === EJERCICIO GUIADO 5: Construir una Combinación Lineal Específica ==="
   ]
  },
  {
   "cell_type": "code",
   "execution_count": null,
   "metadata": {},
   "outputs": [],
   "source": [
    "# DATOS: Dos vectores base.\n",
    "v1 = np.array([3, 1])\n",
    "v2 = np.array([1, 2])\n",
    "\n",
    "# TODO 1: Crea un nuevo vector 'v_comb' que sea la combinación lineal 1.5*v1 - 2*v2.\n",
    "v_comb = # COMPLETAR\n",
    "\n",
    "# VERIFICACIÓN AUTOMÁTICA\n",
    "assert np.allclose(v_comb, np.array([2.5, -2.5]))\n",
    "print(f\"✅ ¡Correcto! El vector resultante es {v_comb}\")\n",
    "\n",
    "# TODO 2: Visualiza los vectores base v1, v2 y el vector resultante v_comb.\n",
    "# COMPLETAR"
   ]
  },
  {
   "cell_type": "markdown",
   "metadata": {},
   "source": [
    "### === EJERCICIO GUIADO 6: Comprobar si un Vector está en el Span ==="
   ]
  },
  {
   "cell_type": "code",
   "execution_count": null,
   "metadata": {},
   "outputs": [],
   "source": [
    "# DATOS: Dos vectores base y un vector objetivo.\n",
    "v1 = np.array([2, 1])\n",
    "v2 = np.array([1, -1])\n",
    "target = np.array([7, 2])\n",
    "\n",
    "# Queremos saber si existen c1, c2 tales que c1*v1 + c2*v2 = target.\n",
    "# Esto es un sistema de ecuaciones lineales: A * x = b\n",
    "# donde A es la matriz con v1 y v2 como columnas, x = [c1, c2], y b = target.\n",
    "\n",
    "# TODO 1: Crea la matriz A.\n",
    "# PISTA: Usa np.array([v1, v2]).T para poner los vectores como columnas.\n",
    "A = # COMPLETAR\n",
    "\n",
    "try:\n",
    "    # TODO 2: Resuelve el sistema para encontrar los coeficientes [c1, c2].\n",
    "    # PISTA: Usa np.linalg.solve(A, target).\n",
    "    coefs = # COMPLETAR\n",
    "    print(f\"✅ ¡Sí! El vector está en el span. Coeficientes: c1={coefs[0]:.2f}, c2={coefs[1]:.2f}\")\n",
    "except np.linalg.LinAlgError:\n",
    "    print(\"❌ No, el vector no está en el span (o los vectores base son linealmente dependientes).\")\n",
    "\n",
    "# VERIFICACIÓN VISUAL\n",
    "plot_vectors_2d([v1, v2, target], legends=['v1', 'v2', 'target'])"
   ]
  },
  {
   "cell_type": "markdown",
   "metadata": {},
   "source": [
    "### === EJERCICIO GUIADO 7: El Span de Vectores Colineales ==="
   ]
  },
  {
   "cell_type": "code",
   "execution_count": null,
   "metadata": {},
   "outputs": [],
   "source": [
    "# DATOS: Dos vectores que están en la misma línea (colineales).\n",
    "v1 = np.array([2, 1])\n",
    "v2 = np.array([-4, -2]) # v2 = -2 * v1\n",
    "target_off_line = np.array([3, 3]) # Un vector que NO está en la línea\n",
    "\n",
    "# TODO 1: Intenta resolver el sistema para ver si target_off_line está en el span de v1 y v2.\n",
    "A = np.array([v1, v2]).T\n",
    "\n",
    "try:\n",
    "    # Esta línea debería fallar y lanzar una excepción\n",
    "    coefs = np.linalg.solve(A, target_off_line)\n",
    "    print(f\"❌ Algo salió mal, se encontró una solución: {coefs}\")\n",
    "except np.linalg.LinAlgError:\n",
    "    # TODO 2: Imprime un mensaje explicando por qué falló.\n",
    "    # PISTA: ¿Qué tipo de espacio generan dos vectores colineales?\n",
    "    print(\"✅ ¡Correcto! El sistema no tiene solución.\")\n",
    "    print(\"Interpretación: # COMPLETAR CON TU EXPLICACIÓN\")\n"
   ]
  },
  {
   "cell_type": "markdown",
   "metadata": {},
   "source": [
    "### === EJERCICIO GUIADO 8: Error Robusto (L1) vs. Sensible a Outliers (L2) ==="
   ]
  },
  {
   "cell_type": "code",
   "execution_count": null,
   "metadata": {},
   "outputs": [],
   "source": [
    "# DATOS: Dos vectores de error. e2 tiene un gran outlier.\n",
    "y_true = np.array([2, 3, 4, 5, 6])\n",
    "preds1 = np.array([2.2, 3.3, 3.8, 5.2, 6.3]) # Errores pequeños y consistentes\n",
    "preds2 = np.array([2.1, 2.9, 4.1, 5.1, 10]) # Un gran error al final\n",
    "\n",
    "e1 = y_true - preds1\n",
    "e2 = y_true - preds2\n",
    "\n",
    "# TODO 1: Calcula el MAE (basado en norma L1) para ambos errores.\n",
    "# MAE = ||error||_1 / n\n",
    "mae1 = # COMPLETAR\n",
    "mae2 = # COMPLETAR\n",
    "\n",
    "# TODO 2: Calcula el RMSE (basado en norma L2) para ambos errores.\n",
    "# RMSE = ||error||_2 / sqrt(n)\n",
    "rmse1 = # COMPLETAR\n",
    "rmse2 = # COMPLETAR\n",
    "\n",
    "print(f\"Modelo 1: MAE={mae1:.2f}, RMSE={rmse1:.2f}\")\n",
    "print(f\"Modelo 2: MAE={mae2:.2f}, RMSE={rmse2:.2f}\")\n",
    "print(\"\\nObserva: El MAE de M2 no es mucho peor que el de M1, pero su RMSE es mucho más alto. \\nEsto demuestra que RMSE (norma L2) es mucho más sensible a los outliers.\")\n",
    "assert mae2 < rmse2, \"El RMSE debería ser mayor que el MAE, especialmente con outliers.\""
   ]
  },
  {
   "cell_type": "markdown",
   "metadata": {},
   "source": [
    "--- \n",
    "# 5. Banco de Ejercicios Prácticos (30+)\n",
    "Ahora te toca a ti. Resuelve estos ejercicios para consolidar tu conocimiento."
   ]
  },
  {
   "cell_type": "markdown",
   "metadata": {},
   "source": [
    "### Parte A: Operaciones Vectoriales"
   ]
  },
  {
   "cell_type": "markdown",
   "metadata": {},
   "source": [
    "**A1 (🟢 Fácil):** Dados $\\vec{a}=[2,1]$ y $\\vec{b}=[1,3]$, calcula y visualiza $\\vec{a}+\\vec{b}$."
   ]
  },
  {
   "cell_type": "code",
   "execution_count": null,
   "metadata": {},
   "outputs": [],
   "source": []
  },
  {
   "cell_type": "markdown",
   "metadata": {},
   "source": [
    "**A2 (🟢 Fácil):** Con los mismos vectores, calcula y visualiza $3\\vec{a}$."
   ]
  },
  {
   "cell_type": "code",
   "execution_count": null,
   "metadata": {},
   "outputs": [],
   "source": []
  },
  {
   "cell_type": "markdown",
   "metadata": {},
   "source": [
    "**A3 (🟢 Fácil):** Dados $\\vec{u}=[1,2,3]$ y $\\vec{v}=[-2,1,0]$, calcula $2\\vec{u} + 3\\vec{v}$."
   ]
  },
  {
   "cell_type": "code",
   "execution_count": null,
   "metadata": {},
   "outputs": [],
   "source": []
  },
  {
   "cell_type": "markdown",
   "metadata": {},
   "source": [
    "**A4 (🟡 Medio):** Si $\\vec{a} + \\vec{b} = [5, 6]$ y $\\vec{a} = [1, 4]$, calcula el vector $\\vec{b}$."
   ]
  },
  {
   "cell_type": "code",
   "execution_count": null,
   "metadata": {},
   "outputs": [],
   "source": []
  },
  {
   "cell_type": "markdown",
   "metadata": {},
   "source": [
    "**A5 (🟡 Medio):** Usando `datos_estudiantes`, toma los vectores de los primeros dos estudiantes. Calcula un vector \"estudiante promedio\" que sea $0.5 * est_1 + 0.5 * est_2$. Visualiza los tres."
   ]
  },
  {
   "cell_type": "code",
   "execution_count": null,
   "metadata": {},
   "outputs": [],
   "source": []
  },
  {
   "cell_type": "markdown",
   "metadata": {},
   "source": [
    "**A6 (🟡 Medio):** Usando `datos_negocio`, toma los vectores de dos productos (índices 5 y 6). Imagina que se fusionan en un nuevo producto cuyo perfil es la suma de los dos. Calcula y visualiza este nuevo vector de 'producto fusionado'."
   ]
  },
  {
   "cell_type": "code",
   "execution_count": null,
   "metadata": {},
   "outputs": [],
   "source": []
  },
  {
   "cell_type": "markdown",
   "metadata": {},
   "source": [
    "**A7 (🔴 Reto):** El perfil de un estudiante es `v = [10, 80]`. Un programa de tutoría promete una mejora representada por el vector `m = [5, 7]`. Un programa de deporte reduce las horas de estudio pero aumenta el bienestar (reflejado en la nota) con un vector `d = [-2, 3]`. Si el estudiante hace ambos, ¿cuál es su perfil final? Visualiza el camino: `v -> v+m -> v+m+d`."
   ]
  },
  {
   "cell_type": "code",
   "execution_count": null,
   "metadata": {},
   "outputs": [],
   "source": []
  },
  {
   "cell_type": "markdown",
   "metadata": {},
   "source": [
    "### Parte B: Normas Vectoriales"
   ]
  },
  {
   "cell_type": "markdown",
   "metadata": {},
   "source": [
    "**B1 (🟢 Fácil):** Calcula la norma L1 y L2 del vector $\\vec{v}=[3,4]$."
   ]
  },
  {
   "cell_type": "code",
   "execution_count": null,
   "metadata": {},
   "outputs": [],
   "source": []
  },
  {
   "cell_type": "markdown",
   "metadata": {},
   "source": [
    "**B2 (🟢 Fácil):** Calcula la norma L1 y L2 del vector de estudiante en el índice 20 de `datos_estudiantes`."
   ]
  },
  {
   "cell_type": "code",
   "execution_count": null,
   "metadata": {},
   "outputs": [],
   "source": []
  },
  {
   "cell_type": "markdown",
   "metadata": {},
   "source": [
    "**B3 (🟡 Medio):** ¿Para qué vector es mayor la diferencia entre su norma L1 y L2: para $\\vec{a}=[10, 1]$ o para $\\vec{b}=[7, 7]$? ¿Por qué crees que ocurre esto?"
   ]
  },
  {
   "cell_type": "code",
   "execution_count": null,
   "metadata": {},
   "outputs": [],
   "source": []
  },
  {
   "cell_type": "markdown",
   "metadata": {},
   "source": [
    "**B4 (🟡 Medio):** Encuentra el producto en `datos_negocio` con la mayor norma L2. ¿Qué características tiene este producto (precio alto, ventas altas, o ambos)?"
   ]
  },
  {
   "cell_type": "code",
   "execution_count": null,
   "metadata": {},
   "outputs": [],
   "source": []
  },
  {
   "cell_type": "markdown",
   "metadata": {},
   "source": [
    "**B5 (🟡 Medio):** Normaliza el vector del producto con la mayor norma L2 que encontraste en el ejercicio anterior. Visualiza el vector original y el normalizado."
   ]
  },
  {
   "cell_type": "code",
   "execution_count": null,
   "metadata": {},
   "outputs": [],
   "source": []
  },
  {
   "cell_type": "markdown",
   "metadata": {},
   "source": [
    "**B6 (🔴 Reto):** Genera datos con outliers usando `create_edge_cases(rng, case_type='outliers')`. Calcula el vector promedio de todos los puntos. Ahora, calcula la distancia L1 y L2 de cada punto a este promedio. ¿Qué punto tiene la mayor distancia L2? ¿Es el mismo que tiene la mayor distancia L1?"
   ]
  },
  {
   "cell_type": "code",
   "execution_count": null,
   "metadata": {},
   "outputs": [],
   "source": []
  },
  {
   "cell_type": "markdown",
   "metadata": {},
   "source": [
    "**B7 (🔴 Reto Conceptual):** Imagina que estás en $ℝ^3$. La norma L2 representa la distancia directa. Describe un camino entre el origen (0,0,0) y el punto (3,4,5) cuya longitud sea igual a la norma L1 de ese vector."
   ]
  },
  {
   "cell_type": "markdown",
   "metadata": {},
   "source": [
    "### Parte C: Combinaciones Lineales y Span"
   ]
  },
  {
   "cell_type": "markdown",
   "metadata": {},
   "source": [
    "**C1 (🟢 Fácil):** Expresa el vector $\\vec{w}=[3,5]$ como una combinación lineal de los vectores base canónicos $\\vec{i}=[1,0]$ y $\\vec{j}=[0,1]$."
   ]
  },
  {
   "cell_type": "code",
   "execution_count": null,
   "metadata": {},
   "outputs": [],
   "source": []
  },
  {
   "cell_type": "markdown",
   "metadata": {},
   "source": [
    "**C2 (🟢 Fácil):** Dados $\\vec{a}=[2,1]$ y $\\vec{b}=[0,3]$, calcula y visualiza la combinación lineal $2\\vec{a} + 1\\vec{b}$."
   ]
  },
  {
   "cell_type": "code",
   "execution_count": null,
   "metadata": {},
   "outputs": [],
   "source": []
  },
  {
   "cell_type": "markdown",
   "metadata": {},
   "source": [
    "**C3 (🟡 Medio):** ¿El vector $\\vec{c}=[4, 5]$ está en el span de $\\vec{a}=[2, 1]$ y $\\vec{b}=[0, 3]$? Si es así, encuentra los coeficientes."
   ]
  },
  {
   "cell_type": "code",
   "execution_count": null,
   "metadata": {},
   "outputs": [],
   "source": []
  },
  {
   "cell_type": "markdown",
   "metadata": {},
   "source": [
    "**C4 (🟡 Medio):** Describe geométricamente el span de los vectores $\\vec{u}=[1, 2, 3]$ y $\\vec{v}=[2, 4, 6]$ en $ℝ^3$. ¿Generan una línea o un plano? ¿Por qué?"
   ]
  },
  {
   "cell_type": "code",
   "execution_count": null,
   "metadata": {},
   "outputs": [],
   "source": []
  },
  {
   "cell_type": "markdown",
   "metadata": {},
   "source": [
    "**C5 (🟡 Medio):** Genera 50 puntos de una 'línea' usando `create_geometric_shapes`. Toma los dos primeros puntos como vectores $\\vec{v1}$ y $\\vec{v2}$. ¿Son linealmente independientes? ¿Cuál es su span? Ahora toma el último punto, $\\vec{v3}$. ¿Está en el span de los dos primeros?"
   ]
  },
  {
   "cell_type": "code",
   "execution_count": null,
   "metadata": {},
   "outputs": [],
   "source": []
  },
  {
   "cell_type": "markdown",
   "metadata": {},
   "source": [
    "**C6 (🔴 Reto):** Encuentra los escalares $c_1$ y $c_2$ tales que $c_1[1, 2] + c_2[3, 1] = [-1, 1]$."
   ]
  },
  {
   "cell_type": "code",
   "execution_count": null,
   "metadata": {},
   "outputs": [],
   "source": []
  },
  {
   "cell_type": "markdown",
   "metadata": {},
   "source": [
    "**C7 (🔴 Reto):** Tienes dos perfiles base de producto: 'Barato y Popular' $\\vec{b}=[20, 800]$ y 'Caro y de Nicho' $\\vec{n}=[400, 50]$. ¿Puedes aproximar el perfil del producto en el índice 40 de `datos_negocio` como una combinación lineal de $\\vec{b}$ y $\\vec{n}$? Encuentra los coeficientes aproximados."
   ]
  },
  {
   "cell_type": "code",
   "execution_count": null,
   "metadata": {},
   "outputs": [],
   "source": []
  },
  {
   "cell_type": "markdown",
   "metadata": {},
   "source": [
    "**C8 (🔴 Reto Conceptual):** ¿El span de tres vectores en $ℝ^3$ es siempre todo $ℝ^3$? Diseña un ejemplo numérico donde no lo sea y explica por qué."
   ]
  },
  {
   "cell_type": "code",
   "execution_count": null,
   "metadata": {},
   "outputs": [],
   "source": []
  },
  {
   "cell_type": "markdown",
   "metadata": {},
   "source": [
    "---"
   ]
  },
  {
   "cell_type": "markdown",
   "metadata": {},
   "source": [
    "## ✅ Mini-Quiz de Autoevaluación\n",
    "\n",
    "1. ¿Cuál es la diferencia de sensibilidad a outliers entre la norma L1 y L2?\n",
    "2. ¿Qué significa geométricamente que un vector $\\vec{w}$ esté en el Span de los vectores $\\vec{v_1}$ y $\\vec{v_2}$ en $ℝ^3$ (asumiendo que $\\vec{v_1}$ y $\\vec{v_2}$ no son colineales)?\n",
    "3. Verdadero o Falso: La suma vectorizada en NumPy es más rápida que un bucle `for` en Python principalmente porque las CPUs modernas tienen instrucciones especiales para operaciones matemáticas en paralelo sobre arrays de datos.\n",
    "4. Si normalizas un vector (dividiéndolo por su norma L2), ¿qué propiedad tendrá siempre el vector resultante?"
   ]
  },
  {
   "cell_type": "markdown",
   "metadata": {},
   "source": [
    "## 🚀 Próximos Pasos\n",
    "\n",
    "¡Excelente trabajo! Has dominado las operaciones fundamentales, has entendido su impacto en el rendimiento computacional y ahora puedes ver cómo los conceptos de Combinación Lineal y Span forman el verdadero lenguaje del Álgebra Lineal.\n",
    "\n",
    "- En el siguiente notebook, **`1.1.2.1_Matrices_y_Vectores`**, pasaremos de tratar con vectores individuales a organizarlos en una estructura superior: la **matriz**. Verás que una matriz es simplemente una colección de vectores (fila o columna) y que conceptos como el Span se vuelven aún más poderosos y centrales para la ciencia de datos."
   ]
  }
 ],
 "metadata": {
  "kernelspec": {
   "display_name": "SageMath 10.x",
   "language": "sagemath",
   "name": "sagemath"
  },
  "language_info": {
   "codemirror_mode": {
    "name": "ipython",
    "version": 3
   },
   "file_extension": ".py",
   "mimetype": "text/x-python",
   "name": "python",
   "nbconvert_exporter": "python",
   "pygments_lexer": "ipython3",
   "version": "3.x.x"
  }
 },
 "nbformat": 4,
 "nbformat_minor": 4
}
