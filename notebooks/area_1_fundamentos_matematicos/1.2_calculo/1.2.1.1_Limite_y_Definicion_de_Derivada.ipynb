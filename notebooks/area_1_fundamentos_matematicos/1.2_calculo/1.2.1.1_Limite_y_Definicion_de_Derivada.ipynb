{
 "cells": [
  {
   "metadata": {},
   "cell_type": "markdown",
   "source": "# Contenido en desarrollo",
   "id": "25569c8868daf9cb"
  }
 ],
 "metadata": {},
 "nbformat": 4,
 "nbformat_minor": 5
}
