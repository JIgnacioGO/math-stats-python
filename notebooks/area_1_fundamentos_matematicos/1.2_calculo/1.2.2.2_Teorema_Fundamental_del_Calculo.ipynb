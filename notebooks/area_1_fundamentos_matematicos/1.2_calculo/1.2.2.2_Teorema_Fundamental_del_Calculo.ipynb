{
 "cells": [
  {
   "metadata": {},
   "cell_type": "markdown",
   "source": "# Contenido en desarrollo",
   "id": "f8046231cfb0e78c"
  }
 ],
 "metadata": {},
 "nbformat": 4,
 "nbformat_minor": 5
}
